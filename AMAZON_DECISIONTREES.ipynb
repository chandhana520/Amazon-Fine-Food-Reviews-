{
  "nbformat": 4,
  "nbformat_minor": 0,
  "metadata": {
    "colab": {
      "name": "AMAZON_DECISIONTREES",
      "provenance": [],
      "collapsed_sections": []
    },
    "kernelspec": {
      "display_name": "Python 3",
      "language": "python",
      "name": "python3"
    }
  },
  "cells": [
    {
      "cell_type": "code",
      "metadata": {
        "id": "4bl8bYUHaiDI"
      },
      "source": [
        "  !pip install -U -q Pydrive\n",
        "from pydrive.auth import GoogleAuth\n",
        "from pydrive.drive import GoogleDrive\n",
        "from google.colab import auth\n",
        "from oauth2client.client import GoogleCredentials\n",
        "import pandas as pd \n",
        "import numpy as np\n",
        "import matplotlib.pyplot as plot\n",
        "import pandas as pd\n",
        "import numpy as np \n",
        "import seaborn as sns\n",
        "from sklearn import linear_model, datasets\n",
        "from sklearn.model_selection import GridSearchCV\n",
        "import matplotlib.pyplot as plt\n",
        "from sklearn.model_selection import RandomizedSearchCV\n",
        "from sklearn.metrics import precision_recall_fscore_support, classification_report\n",
        "from sklearn.naive_bayes import MultinomialNB\n",
        "from sklearn.model_selection import GridSearchCV\n",
        "from sklearn.metrics import confusion_matrix\n",
        "from sklearn.metrics import accuracy_score\n",
        "\n",
        "\n",
        "from sklearn.feature_extraction.text import TfidfVectorizer\n"
      ],
      "execution_count": null,
      "outputs": []
    },
    {
      "cell_type": "code",
      "metadata": {
        "id": "SrCPuHkqnH1Y",
        "outputId": "beb84ca0-e76e-4534-f74c-1f7a19eb60b4",
        "colab": {
          "base_uri": "https://localhost:8080/",
          "height": 775
        }
      },
      "source": [
        "!pip install gensim"
      ],
      "execution_count": null,
      "outputs": [
        {
          "output_type": "stream",
          "text": [
            "Collecting gensim\n",
            "\u001b[?25l  Downloading https://files.pythonhosted.org/packages/86/f3/37504f07651330ddfdefa631ca5246974a60d0908216539efda842fd080f/gensim-3.5.0-cp36-cp36m-manylinux1_x86_64.whl (23.5MB)\n",
            "\u001b[K    100% |████████████████████████████████| 23.5MB 612kB/s \n",
            "\u001b[?25hRequirement already satisfied: numpy>=1.11.3 in /usr/local/lib/python3.6/dist-packages (from gensim) (1.14.5)\n",
            "Collecting smart-open>=1.2.1 (from gensim)\n",
            "  Downloading https://files.pythonhosted.org/packages/cf/3d/5f3a9a296d0ba8e00e263a8dee76762076b9eb5ddc254ccaa834651c8d65/smart_open-1.6.0.tar.gz\n",
            "Requirement already satisfied: scipy>=0.18.1 in /usr/local/lib/python3.6/dist-packages (from gensim) (0.19.1)\n",
            "Requirement already satisfied: six>=1.5.0 in /usr/local/lib/python3.6/dist-packages (from gensim) (1.11.0)\n",
            "Collecting boto>=2.32 (from smart-open>=1.2.1->gensim)\n",
            "\u001b[?25l  Downloading https://files.pythonhosted.org/packages/23/10/c0b78c27298029e4454a472a1919bde20cb182dab1662cec7f2ca1dcc523/boto-2.49.0-py2.py3-none-any.whl (1.4MB)\n",
            "\u001b[K    100% |████████████████████████████████| 1.4MB 12.6MB/s \n",
            "\u001b[?25hCollecting bz2file (from smart-open>=1.2.1->gensim)\n",
            "  Downloading https://files.pythonhosted.org/packages/61/39/122222b5e85cd41c391b68a99ee296584b2a2d1d233e7ee32b4532384f2d/bz2file-0.98.tar.gz\n",
            "Requirement already satisfied: requests in /usr/local/lib/python3.6/dist-packages (from smart-open>=1.2.1->gensim) (2.18.4)\n",
            "Collecting boto3 (from smart-open>=1.2.1->gensim)\n",
            "\u001b[?25l  Downloading https://files.pythonhosted.org/packages/45/05/f5f4610cab8c76d102f607a05b0f86d0525c52e72b484dfd9f65af86e0a4/boto3-1.9.4-py2.py3-none-any.whl (128kB)\n",
            "\u001b[K    100% |████████████████████████████████| 133kB 25.6MB/s \n",
            "\u001b[?25hRequirement already satisfied: urllib3<1.23,>=1.21.1 in /usr/local/lib/python3.6/dist-packages (from requests->smart-open>=1.2.1->gensim) (1.22)\n",
            "Requirement already satisfied: idna<2.7,>=2.5 in /usr/local/lib/python3.6/dist-packages (from requests->smart-open>=1.2.1->gensim) (2.6)\n",
            "Requirement already satisfied: chardet<3.1.0,>=3.0.2 in /usr/local/lib/python3.6/dist-packages (from requests->smart-open>=1.2.1->gensim) (3.0.4)\n",
            "Requirement already satisfied: certifi>=2017.4.17 in /usr/local/lib/python3.6/dist-packages (from requests->smart-open>=1.2.1->gensim) (2018.8.24)\n",
            "Collecting s3transfer<0.2.0,>=0.1.10 (from boto3->smart-open>=1.2.1->gensim)\n",
            "\u001b[?25l  Downloading https://files.pythonhosted.org/packages/d7/14/2a0004d487464d120c9fb85313a75cd3d71a7506955be458eebfe19a6b1d/s3transfer-0.1.13-py2.py3-none-any.whl (59kB)\n",
            "\u001b[K    100% |████████████████████████████████| 61kB 18.1MB/s \n",
            "\u001b[?25hCollecting botocore<1.13.0,>=1.12.4 (from boto3->smart-open>=1.2.1->gensim)\n",
            "\u001b[?25l  Downloading https://files.pythonhosted.org/packages/c1/3d/32145d948eea4a41aadd678e681671d0f275ad1b2713b5c54307800d1fe2/botocore-1.12.4-py2.py3-none-any.whl (4.7MB)\n",
            "\u001b[K    100% |████████████████████████████████| 4.7MB 5.7MB/s \n",
            "\u001b[?25hCollecting jmespath<1.0.0,>=0.7.1 (from boto3->smart-open>=1.2.1->gensim)\n",
            "  Downloading https://files.pythonhosted.org/packages/b7/31/05c8d001f7f87f0f07289a5fc0fc3832e9a57f2dbd4d3b0fee70e0d51365/jmespath-0.9.3-py2.py3-none-any.whl\n",
            "Requirement already satisfied: python-dateutil<3.0.0,>=2.1; python_version >= \"2.7\" in /usr/local/lib/python3.6/dist-packages (from botocore<1.13.0,>=1.12.4->boto3->smart-open>=1.2.1->gensim) (2.5.3)\n",
            "Collecting docutils>=0.10 (from botocore<1.13.0,>=1.12.4->boto3->smart-open>=1.2.1->gensim)\n",
            "\u001b[?25l  Downloading https://files.pythonhosted.org/packages/36/fa/08e9e6e0e3cbd1d362c3bbee8d01d0aedb2155c4ac112b19ef3cae8eed8d/docutils-0.14-py3-none-any.whl (543kB)\n",
            "\u001b[K    100% |████████████████████████████████| 552kB 23.6MB/s \n",
            "\u001b[?25hBuilding wheels for collected packages: smart-open, bz2file\n",
            "  Running setup.py bdist_wheel for smart-open ... \u001b[?25l-\b \bdone\n",
            "\u001b[?25h  Stored in directory: /root/.cache/pip/wheels/73/f1/9b/ccf93d4ba073b6f79b1ed9df68ab5ce048d8136d0efcf90b30\n",
            "  Running setup.py bdist_wheel for bz2file ... \u001b[?25l-\b \bdone\n",
            "\u001b[?25h  Stored in directory: /root/.cache/pip/wheels/81/75/d6/e1317bf09bf1af5a30befc2a007869fa6e1f516b8f7c591cb9\n",
            "Successfully built smart-open bz2file\n",
            "Installing collected packages: boto, bz2file, docutils, jmespath, botocore, s3transfer, boto3, smart-open, gensim\n",
            "Successfully installed boto-2.49.0 boto3-1.9.4 botocore-1.12.4 bz2file-0.98 docutils-0.14 gensim-3.5.0 jmespath-0.9.3 s3transfer-0.1.13 smart-open-1.6.0\n"
          ],
          "name": "stdout"
        }
      ]
    },
    {
      "cell_type": "code",
      "metadata": {
        "id": "fg_lv1hBnTAQ"
      },
      "source": [
        "auth.authenticate_user()\n",
        "gauth= GoogleAuth()\n",
        "gauth.credentials= GoogleCredentials.get_application_default()\n",
        "drive=GoogleDrive(gauth)"
      ],
      "execution_count": null,
      "outputs": []
    },
    {
      "cell_type": "code",
      "metadata": {
        "id": "vXVRx3xvomgj"
      },
      "source": [
        "train_downloaded = drive.CreateFile({'id': '1LgNo7LS202N7BuUaQQt4tVwchHRJm8S9'})\n",
        "train_downloaded.GetContentFile('final_clean.csv')"
      ],
      "execution_count": null,
      "outputs": []
    },
    {
      "cell_type": "code",
      "metadata": {
        "id": "DmzDD3Z8nm5c",
        "outputId": "8a7d6062-dc40-4e3c-b3fd-a62b4d947be9",
        "colab": {
          "base_uri": "https://localhost:8080/",
          "height": 369
        }
      },
      "source": [
        "\n",
        "data = pd.read_csv('final_clean.csv')\n",
        "data.head(2)\n"
      ],
      "execution_count": null,
      "outputs": [
        {
          "output_type": "execute_result",
          "data": {
            "text/html": [
              "<div>\n",
              "<style scoped>\n",
              "    .dataframe tbody tr th:only-of-type {\n",
              "        vertical-align: middle;\n",
              "    }\n",
              "\n",
              "    .dataframe tbody tr th {\n",
              "        vertical-align: top;\n",
              "    }\n",
              "\n",
              "    .dataframe thead th {\n",
              "        text-align: right;\n",
              "    }\n",
              "</style>\n",
              "<table border=\"1\" class=\"dataframe\">\n",
              "  <thead>\n",
              "    <tr style=\"text-align: right;\">\n",
              "      <th></th>\n",
              "      <th>Id</th>\n",
              "      <th>ProductId</th>\n",
              "      <th>UserId</th>\n",
              "      <th>ProfileName</th>\n",
              "      <th>HelpfulnessNumerator</th>\n",
              "      <th>HelpfulnessDenominator</th>\n",
              "      <th>Score</th>\n",
              "      <th>Time</th>\n",
              "      <th>Summary</th>\n",
              "      <th>Text</th>\n",
              "      <th>cleanedText</th>\n",
              "    </tr>\n",
              "  </thead>\n",
              "  <tbody>\n",
              "    <tr>\n",
              "      <th>0</th>\n",
              "      <td>150524</td>\n",
              "      <td>0006641040</td>\n",
              "      <td>ACITT7DI6IDDL</td>\n",
              "      <td>shari zychinski</td>\n",
              "      <td>0</td>\n",
              "      <td>0</td>\n",
              "      <td>1</td>\n",
              "      <td>939340800</td>\n",
              "      <td>EVERY book is educational</td>\n",
              "      <td>this witty little book makes my son laugh at l...</td>\n",
              "      <td>b'witti littl book make son laugh loud recit c...</td>\n",
              "    </tr>\n",
              "    <tr>\n",
              "      <th>1</th>\n",
              "      <td>150506</td>\n",
              "      <td>0006641040</td>\n",
              "      <td>A2IW4PEEKO2R0U</td>\n",
              "      <td>Tracy</td>\n",
              "      <td>1</td>\n",
              "      <td>1</td>\n",
              "      <td>1</td>\n",
              "      <td>1194739200</td>\n",
              "      <td>Love the book, miss the hard cover version</td>\n",
              "      <td>I grew up reading these Sendak books, and watc...</td>\n",
              "      <td>b'grew read sendak book watch realli rosi movi...</td>\n",
              "    </tr>\n",
              "  </tbody>\n",
              "</table>\n",
              "</div>"
            ],
            "text/plain": [
              "       Id   ProductId          UserId      ProfileName  HelpfulnessNumerator  \\\n",
              "0  150524  0006641040   ACITT7DI6IDDL  shari zychinski                     0   \n",
              "1  150506  0006641040  A2IW4PEEKO2R0U            Tracy                     1   \n",
              "\n",
              "   HelpfulnessDenominator  Score        Time  \\\n",
              "0                       0      1   939340800   \n",
              "1                       1      1  1194739200   \n",
              "\n",
              "                                      Summary  \\\n",
              "0                   EVERY book is educational   \n",
              "1  Love the book, miss the hard cover version   \n",
              "\n",
              "                                                Text  \\\n",
              "0  this witty little book makes my son laugh at l...   \n",
              "1  I grew up reading these Sendak books, and watc...   \n",
              "\n",
              "                                         cleanedText  \n",
              "0  b'witti littl book make son laugh loud recit c...  \n",
              "1  b'grew read sendak book watch realli rosi movi...  "
            ]
          },
          "metadata": {
            "tags": []
          },
          "execution_count": 5
        }
      ]
    },
    {
      "cell_type": "code",
      "metadata": {
        "id": "Ct5VKYjm9YFf",
        "outputId": "6ff68335-fb28-46d9-831e-e4ab9becd7d4",
        "colab": {
          "base_uri": "https://localhost:8080/",
          "height": 284
        }
      },
      "source": [
        "df1=data.sort_values('Time', axis=0, ascending=True,\n",
        "                   inplace=False, kind='quicksort', na_position='last')\n",
        "df1.head(2)\n"
      ],
      "execution_count": null,
      "outputs": [
        {
          "output_type": "execute_result",
          "data": {
            "text/html": [
              "<div>\n",
              "<style scoped>\n",
              "    .dataframe tbody tr th:only-of-type {\n",
              "        vertical-align: middle;\n",
              "    }\n",
              "\n",
              "    .dataframe tbody tr th {\n",
              "        vertical-align: top;\n",
              "    }\n",
              "\n",
              "    .dataframe thead th {\n",
              "        text-align: right;\n",
              "    }\n",
              "</style>\n",
              "<table border=\"1\" class=\"dataframe\">\n",
              "  <thead>\n",
              "    <tr style=\"text-align: right;\">\n",
              "      <th></th>\n",
              "      <th>Id</th>\n",
              "      <th>ProductId</th>\n",
              "      <th>UserId</th>\n",
              "      <th>ProfileName</th>\n",
              "      <th>HelpfulnessNumerator</th>\n",
              "      <th>HelpfulnessDenominator</th>\n",
              "      <th>Score</th>\n",
              "      <th>Time</th>\n",
              "      <th>Summary</th>\n",
              "      <th>Text</th>\n",
              "      <th>cleanedText</th>\n",
              "    </tr>\n",
              "  </thead>\n",
              "  <tbody>\n",
              "    <tr>\n",
              "      <th>0</th>\n",
              "      <td>150524</td>\n",
              "      <td>0006641040</td>\n",
              "      <td>ACITT7DI6IDDL</td>\n",
              "      <td>shari zychinski</td>\n",
              "      <td>0</td>\n",
              "      <td>0</td>\n",
              "      <td>1</td>\n",
              "      <td>939340800</td>\n",
              "      <td>EVERY book is educational</td>\n",
              "      <td>this witty little book makes my son laugh at l...</td>\n",
              "      <td>b'witti littl book make son laugh loud recit c...</td>\n",
              "    </tr>\n",
              "    <tr>\n",
              "      <th>30</th>\n",
              "      <td>150501</td>\n",
              "      <td>0006641040</td>\n",
              "      <td>AJ46FKXOVC7NR</td>\n",
              "      <td>Nicholas A Mesiano</td>\n",
              "      <td>2</td>\n",
              "      <td>2</td>\n",
              "      <td>1</td>\n",
              "      <td>940809600</td>\n",
              "      <td>This whole series is great way to spend time w...</td>\n",
              "      <td>I can remember seeing the show when it aired o...</td>\n",
              "      <td>b'rememb see show air televis year ago child s...</td>\n",
              "    </tr>\n",
              "  </tbody>\n",
              "</table>\n",
              "</div>"
            ],
            "text/plain": [
              "        Id   ProductId         UserId         ProfileName  \\\n",
              "0   150524  0006641040  ACITT7DI6IDDL     shari zychinski   \n",
              "30  150501  0006641040  AJ46FKXOVC7NR  Nicholas A Mesiano   \n",
              "\n",
              "    HelpfulnessNumerator  HelpfulnessDenominator  Score       Time  \\\n",
              "0                      0                       0      1  939340800   \n",
              "30                     2                       2      1  940809600   \n",
              "\n",
              "                                              Summary  \\\n",
              "0                           EVERY book is educational   \n",
              "30  This whole series is great way to spend time w...   \n",
              "\n",
              "                                                 Text  \\\n",
              "0   this witty little book makes my son laugh at l...   \n",
              "30  I can remember seeing the show when it aired o...   \n",
              "\n",
              "                                          cleanedText  \n",
              "0   b'witti littl book make son laugh loud recit c...  \n",
              "30  b'rememb see show air televis year ago child s...  "
            ]
          },
          "metadata": {
            "tags": []
          },
          "execution_count": 6
        }
      ]
    },
    {
      "cell_type": "code",
      "metadata": {
        "id": "BYK6hQABHZNP",
        "outputId": "9f31fe9f-fb19-4a1a-9b32-c7d4a7ee6adb",
        "colab": {
          "base_uri": "https://localhost:8080/",
          "height": 35
        }
      },
      "source": [
        "final=df1.sample(n=200000 ,replace=True,random_state=None, axis=0)\n",
        "final.shape"
      ],
      "execution_count": null,
      "outputs": [
        {
          "output_type": "execute_result",
          "data": {
            "text/plain": [
              "(200000, 11)"
            ]
          },
          "metadata": {
            "tags": []
          },
          "execution_count": 7
        }
      ]
    },
    {
      "cell_type": "code",
      "metadata": {
        "id": "Ix0ANDLcnvUG"
      },
      "source": [
        "X = final['cleanedText']\n",
        "Y = final['Score']\n"
      ],
      "execution_count": null,
      "outputs": []
    },
    {
      "cell_type": "code",
      "metadata": {
        "id": "uwRZ6an0n19i",
        "outputId": "a4edc5ac-0de8-480c-8a0b-4ff3130e2fbb",
        "colab": {
          "base_uri": "https://localhost:8080/",
          "height": 73
        }
      },
      "source": [
        "from sklearn import cross_validation\n",
        "X_train, X_test, Y_train, Y_test = cross_validation.train_test_split(X, Y, test_size=0.3, random_state=0)"
      ],
      "execution_count": null,
      "outputs": [
        {
          "output_type": "stream",
          "text": [
            "/usr/local/lib/python3.6/dist-packages/sklearn/cross_validation.py:41: DeprecationWarning: This module was deprecated in version 0.18 in favor of the model_selection module into which all the refactored classes and functions are moved. Also note that the interface of the new CV iterators are different from that of this module. This module will be removed in 0.20.\n",
            "  \"This module will be removed in 0.20.\", DeprecationWarning)\n"
          ],
          "name": "stderr"
        }
      ]
    },
    {
      "cell_type": "markdown",
      "metadata": {
        "id": "Lv52iQWwoDZ5"
      },
      "source": [
        "TFIDF\n",
        "----"
      ]
    },
    {
      "cell_type": "code",
      "metadata": {
        "id": "tb2RIQ5In6Iy"
      },
      "source": [
        "tf_idf_vect = TfidfVectorizer()\n",
        "train_tfidf = tf_idf_vect.fit_transform(X_train)\n",
        "test_tfidf = tf_idf_vect.transform(X_test)"
      ],
      "execution_count": null,
      "outputs": []
    },
    {
      "cell_type": "code",
      "metadata": {
        "id": "umwlQMmOCtob"
      },
      "source": [
        "from sklearn.tree import DecisionTreeClassifier\n",
        "\n",
        "def gridcv(train_feat,test_feat,y_train,y_test):\n",
        "    parameters = {'max_depth': [1,2,3,4,5,6,7,8,9,10]}\n",
        "    model= GridSearchCV(DecisionTreeClassifier(), param_grid=parameters, n_jobs=-1,scoring='f1',cv=5)\n",
        "    model.fit(train_feat, y_train)\n",
        "    print('Best Estimator:      ',model.best_estimator_)\n",
        "    print('Optimal parameters:  ',model.best_params_)\n",
        "    print('optimal score:       ',model.best_score_*(100))\n",
        "    print('----------------------------------------------------------------')\n",
        "\n",
        "    model.best_estimator_.fit(train_feat, y_train)\n",
        "    y_true, y_pred = y_test,model.best_estimator_.predict(test_feat)\n",
        "    confusion = confusion_matrix(y_true,y_pred)\n",
        "    print(\"Classification_Report\")\n",
        "  \n",
        "    print(classification_report(y_true, y_pred))\n",
        "    print(precision_recall_fscore_support(y_true, y_pred, average='micro'))\n",
        "    print('<==========confusion matrix for test data=========>')\n",
        "    p= sns.heatmap(confusion, annot=True, fmt=\"d\", cmap=\"Spectral\",square=True)\n",
        "\n"
      ],
      "execution_count": null,
      "outputs": []
    },
    {
      "cell_type": "code",
      "metadata": {
        "id": "k1uO8ukhoZX6"
      },
      "source": [
        "from sklearn.tree import DecisionTreeClassifier\n",
        "\n",
        "def gridcv(train_feat,test_feat,y_train,y_test):\n",
        "    parameters = {'max_depth': [1,2,3,4,5,6,7,8,9,10]}\n",
        "    model= GridSearchCV(DecisionTreeClassifier(), param_grid=parameters, n_jobs=-1,scoring='accuracy',cv=5)\n",
        "    model.fit(train_feat, y_train)\n",
        "    print('Best Estimator:      ',model.best_estimator_)\n",
        "    print('Optimal parameters:  ',model.best_params_)\n",
        "    print('optimal score:       ',model.best_score_*(100))\n",
        "    print('-------------------------------------------------')\n",
        "\n",
        "    model.best_estimator_.fit(train_feat, y_train)\n",
        "    y_true, y_pred = y_test,model.best_estimator_.predict(test_feat)\n",
        "    confusion = confusion_matrix(y_true,y_pred)\n",
        "    print(\"Classification_Report\")\n",
        "  \n",
        "    print(classification_report(y_true, y_pred))\n",
        "    print(precision_recall_fscore_support(y_true, y_pred, average='micro'))\n",
        "    print('<==========confusion matrix for test data=========>')\n",
        "    p= sns.heatmap(confusion, annot=True, fmt=\"d\", cmap=\"Spectral\",square=True)\n",
        "\n"
      ],
      "execution_count": null,
      "outputs": []
    },
    {
      "cell_type": "code",
      "metadata": {
        "id": "-RvvcBoP-OTY",
        "outputId": "d9211fd8-abd9-463c-e844-1632bca9fa38",
        "colab": {
          "base_uri": "https://localhost:8080/",
          "height": 689
        }
      },
      "source": [
        "gridcv(train_tfidf,test_tfidf,Y_train,Y_test)"
      ],
      "execution_count": null,
      "outputs": [
        {
          "output_type": "stream",
          "text": [
            "Best Estimator:       DecisionTreeClassifier(class_weight=None, criterion='gini', max_depth=10,\n",
            "            max_features=None, max_leaf_nodes=None,\n",
            "            min_impurity_decrease=0.0, min_impurity_split=None,\n",
            "            min_samples_leaf=1, min_samples_split=2,\n",
            "            min_weight_fraction_leaf=0.0, presort=False, random_state=None,\n",
            "            splitter='best')\n",
            "Optimal parameters:   {'max_depth': 10}\n",
            "optimal score:        92.5917755682379\n",
            "----------------------------------------------------------------\n",
            "Classification_Report\n",
            "             precision    recall  f1-score   support\n",
            "\n",
            "          0       0.73      0.22      0.34      9590\n",
            "          1       0.87      0.98      0.92     50410\n",
            "\n",
            "avg / total       0.85      0.86      0.83     60000\n",
            "\n",
            "(0.8630666666666666, 0.8630666666666666, 0.8630666666666666, None)\n",
            "<==========confusion matrix for test data=========>\n"
          ],
          "name": "stdout"
        },
        {
          "output_type": "display_data",
          "data": {
            "image/png": "[encoded data removed]",
            "text/plain": [
              "<matplotlib.figure.Figure at 0x7fa876641908>"
            ]
          },
          "metadata": {
            "tags": []
          }
        }
      ]
    },
    {
      "cell_type": "code",
      "metadata": {
        "id": "5BSK2FHEotra"
      },
      "source": [
        "def plot_depth(train_feat,test_feat,y_train,y_test):\n",
        "    cv_score =[]\n",
        "    depth = [1,2,3,4,5,6,7,8,9,10]\n",
        "    for d in depth:\n",
        "        dtc = DecisionTreeClassifier(max_depth=d)\n",
        "        dtc.fit(train_feat,y_train)\n",
        "        pred = dtc.predict(test_feat)\n",
        "        acc = accuracy_score(y_test,pred,normalize=True)\n",
        "        cv_score.append(1-acc)\n",
        "    plt.plot(depth,cv_score)\n",
        "    plt.xlabel('Depth ------------->')\n",
        "    plt.ylabel('Cross Validation error --------------->')\n",
        "    plt.title(\"Depth    (VS)    CV-error\")\n",
        "    plt.show()"
      ],
      "execution_count": null,
      "outputs": []
    },
    {
      "cell_type": "code",
      "metadata": {
        "id": "xfTyzCxArjP6",
        "outputId": "5de05594-6cd3-4079-eba8-9e5bfda1d78b",
        "colab": {
          "base_uri": "https://localhost:8080/",
          "height": 376
        }
      },
      "source": [
        "plot_depth(train_tfidf,test_tfidf,Y_train,Y_test)"
      ],
      "execution_count": null,
      "outputs": [
        {
          "output_type": "display_data",
          "data": {
            "image/png": "[encoded data removed]",
            "text/plain": [
              "<matplotlib.figure.Figure at 0x7fa876641f60>"
            ]
          },
          "metadata": {
            "tags": []
          }
        }
      ]
    },
    {
      "cell_type": "markdown",
      "metadata": {
        "id": "lzZerVTSwUGa"
      },
      "source": [
        "BAG OF WORDS\n",
        "------"
      ]
    },
    {
      "cell_type": "code",
      "metadata": {
        "id": "FWGpJ_JJwSiv"
      },
      "source": [
        "from sklearn.feature_extraction.text import CountVectorizer\n",
        "\n",
        "count_vect = CountVectorizer() \n",
        "BOW_TRAIN = count_vect.fit_transform(X_train)\n",
        "BOW_TEST = count_vect.transform(X_test)\n"
      ],
      "execution_count": null,
      "outputs": []
    },
    {
      "cell_type": "code",
      "metadata": {
        "id": "_WjpEv8vpHDd",
        "outputId": "9a88e765-d548-485a-f3fe-4efd37275d29",
        "colab": {
          "base_uri": "https://localhost:8080/",
          "height": 689
        }
      },
      "source": [
        "gridcv(BOW_TRAIN,BOW_TEST,Y_train,Y_test)\n"
      ],
      "execution_count": null,
      "outputs": [
        {
          "output_type": "stream",
          "text": [
            "Best Estimator:       DecisionTreeClassifier(class_weight=None, criterion='gini', max_depth=10,\n",
            "            max_features=None, max_leaf_nodes=None,\n",
            "            min_impurity_decrease=0.0, min_impurity_split=None,\n",
            "            min_samples_leaf=1, min_samples_split=2,\n",
            "            min_weight_fraction_leaf=0.0, presort=False, random_state=None,\n",
            "            splitter='best')\n",
            "Optimal parameters:   {'max_depth': 10}\n",
            "optimal score:        92.58625964044072\n",
            "----------------------------------------------------------------\n",
            "Classification_Report\n",
            "             precision    recall  f1-score   support\n",
            "\n",
            "          0       0.74      0.22      0.33      9590\n",
            "          1       0.87      0.99      0.92     50410\n",
            "\n",
            "avg / total       0.85      0.86      0.83     60000\n",
            "\n",
            "(0.8627833333333333, 0.8627833333333333, 0.8627833333333333, None)\n",
            "<==========confusion matrix for test data=========>\n"
          ],
          "name": "stdout"
        },
        {
          "output_type": "display_data",
          "data": {
            "image/png": "[encoded data removed]",
            "text/plain": [
              "<matplotlib.figure.Figure at 0x7fa8716a46d8>"
            ]
          },
          "metadata": {
            "tags": []
          }
        }
      ]
    },
    {
      "cell_type": "code",
      "metadata": {
        "id": "Tiidz0qCylcM",
        "outputId": "f1b6fca2-0def-4cf8-8e72-e8099d393d8f",
        "colab": {
          "base_uri": "https://localhost:8080/",
          "height": 376
        }
      },
      "source": [
        "plot_depth(BOW_TRAIN,BOW_TEST,Y_train,Y_test)"
      ],
      "execution_count": null,
      "outputs": [
        {
          "output_type": "display_data",
          "data": {
            "image/png": "[encoded data removed]",
            "text/plain": [
              "<matplotlib.figure.Figure at 0x7fa874adcdd8>"
            ]
          },
          "metadata": {
            "tags": []
          }
        }
      ]
    },
    {
      "cell_type": "markdown",
      "metadata": {
        "id": "yCwjnBHZzY5c"
      },
      "source": [
        " TRAINING OUR OWN WORD 2 VEC\n",
        "---"
      ]
    },
    {
      "cell_type": "code",
      "metadata": {
        "id": "uBMSFnd5zddA"
      },
      "source": [
        "def cleanhtml(sentence): #function to clean the word of any html-tags\n",
        "    cleanr = re.compile('<.*?>')\n",
        "    cleantext = re.sub(cleanr, ' ', sentence)\n",
        "    return cleantext\n",
        "def cleanpunc(sentence): #function to clean the word of any punctuation or special characters\n",
        "    cleaned = re.sub(r'[?|!|\\'|\"|#]',r'',sentence)\n",
        "    cleaned = re.sub(r'[.|,|)|(|\\|/]',r' ',cleaned)\n",
        "    return  cleaned\n"
      ],
      "execution_count": null,
      "outputs": []
    },
    {
      "cell_type": "code",
      "metadata": {
        "id": "_5GAw4zHqG0B"
      },
      "source": [
        "import re\n",
        "i=0\n",
        "list_of_train=[]\n",
        "for sent in X_train:\n",
        "    filtered_sentence=[]\n",
        "    sent=cleanhtml(sent)\n",
        "    for w in sent.split():\n",
        "        for cleaned_words in cleanpunc(w).split():\n",
        "            if(cleaned_words.isalpha()):    \n",
        "                filtered_sentence.append(cleaned_words.lower())\n",
        "            else:\n",
        "                continue \n",
        "    list_of_train.append(filtered_sentence)\n"
      ],
      "execution_count": null,
      "outputs": []
    },
    {
      "cell_type": "code",
      "metadata": {
        "id": "rfeGPR3W0KHv"
      },
      "source": [
        "i =0\n",
        "list_of_test =[]\n",
        "for sent in X_test:\n",
        "    final_test = []\n",
        "    sent = cleanhtml(sent)\n",
        "    for w in sent.split():\n",
        "        for cleaned_words in cleanpunc(w).split():\n",
        "            if(cleaned_words.isalpha()):\n",
        "                final_test.append(cleaned_words.lower())\n",
        "            else:\n",
        "                continue\n",
        "    list_of_test.append(final_test)"
      ],
      "execution_count": null,
      "outputs": []
    },
    {
      "cell_type": "code",
      "metadata": {
        "id": "avpsWXuT0UHq"
      },
      "source": [
        "from gensim.models import Word2Vec\n",
        "w2v_train_model=Word2Vec(list_of_train,min_count=3,size=100,workers=5)\n"
      ],
      "execution_count": null,
      "outputs": []
    },
    {
      "cell_type": "code",
      "metadata": {
        "id": "8bxV3sxP0lwt"
      },
      "source": [
        "w2v_test_model=Word2Vec(list_of_test,min_count=3,size=100,workers=5)\n"
      ],
      "execution_count": null,
      "outputs": []
    },
    {
      "cell_type": "markdown",
      "metadata": {
        "id": "rduIjLw50vWR"
      },
      "source": [
        "AVERAGE W2V\n",
        "-----"
      ]
    },
    {
      "cell_type": "code",
      "metadata": {
        "id": "ArDcMENNZ6tX",
        "outputId": "00a12fdc-4bb5-468d-9c02-db36ab59b6d8",
        "colab": {
          "base_uri": "https://localhost:8080/",
          "height": 53
        }
      },
      "source": [
        "w2v_words=list(w2v_train_model.wv.vocab)\n",
        "sent_train=[]# the avg-w2v for each sentence/review is stored in this list\n",
        "for sentence in list_of_train:# for each review/sentence\n",
        "  sent_vect=np.zeros(100)# as word vectors are of zero length\n",
        "  cnt_words=0# num of words with a valid vector in the sentence/review\n",
        "  for words in sent:# for each word in a review/sentence\n",
        "    if words in w2v_words:\n",
        "      vect= w2v_train_model.wv[words]\n",
        "      sent_vect+=vect\n",
        "      cnt_words += 1\n",
        "  if cnt_words !=0:\n",
        "     sent_vect /=cnt_words\n",
        "  sent_train.append(sent_vect)\n",
        "print(len(sent_train))\n",
        "print(len(sent_train[1]))"
      ],
      "execution_count": null,
      "outputs": [
        {
          "output_type": "stream",
          "text": [
            "140000\n",
            "100\n"
          ],
          "name": "stdout"
        }
      ]
    },
    {
      "cell_type": "code",
      "metadata": {
        "id": "-e6NwFj10tL3",
        "outputId": "86337f79-711f-4c43-dfbe-5ede7df2aae4",
        "colab": {
          "base_uri": "https://localhost:8080/",
          "height": 53
        }
      },
      "source": [
        "w2v_word=list(w2v_test_model.wv.vocab)\n",
        "\n",
        "sent_test = []; # the avg-w2v for each sentence/review is stored in this list\n",
        "for sent in list_of_test: # for each review/sentence\n",
        "    sent_vectors = np.zeros(100) # as word vectors are of zero length\n",
        "    ct_words =0; # num of words with a valid vector in the sentence/review\n",
        "    for word in sent: # for each word in a review/sentence\n",
        "        if word in w2v_word:\n",
        "            vectors = w2v_test_model.wv[word]\n",
        "            sent_vectors += vectors\n",
        "            ct_words += 1\n",
        "    if ct_words !=0: \n",
        "        sent_vectors /= ct_words\n",
        "        sent_test.append(sent_vectors)\n",
        "print(len(sent_test))\n",
        "print(len(sent_test[0]))\n"
      ],
      "execution_count": null,
      "outputs": [
        {
          "output_type": "stream",
          "text": [
            "60000\n",
            "100\n"
          ],
          "name": "stdout"
        }
      ]
    },
    {
      "cell_type": "code",
      "metadata": {
        "id": "bPiOnvtO0tJz",
        "outputId": "2ed1fbb4-81f2-44e8-b259-69a17ef6e71f",
        "colab": {
          "base_uri": "https://localhost:8080/",
          "height": 745
        }
      },
      "source": [
        "gridcv(sent_train,sent_test,Y_train,Y_test)"
      ],
      "execution_count": null,
      "outputs": [
        {
          "output_type": "stream",
          "text": [
            "Best Estimator:       DecisionTreeClassifier(class_weight=None, criterion='gini', max_depth=1,\n",
            "            max_features=None, max_leaf_nodes=None,\n",
            "            min_impurity_decrease=0.0, min_impurity_split=None,\n",
            "            min_samples_leaf=1, min_samples_split=2,\n",
            "            min_weight_fraction_leaf=0.0, presort=False, random_state=None,\n",
            "            splitter='best')\n",
            "Optimal parameters:   {'max_depth': 1}\n",
            "optimal score:        84.42785714285715\n",
            "-------------------------------------------------\n",
            "Classification_Report\n",
            "             precision    recall  f1-score   support\n",
            "\n",
            "          0       0.00      0.00      0.00      9367\n",
            "          1       0.84      1.00      0.92     50633\n",
            "\n",
            "avg / total       0.71      0.84      0.77     60000\n",
            "\n",
            "(0.8438833333333333, 0.8438833333333333, 0.8438833333333333, None)\n",
            "<==========confusion matrix for test data=========>\n"
          ],
          "name": "stdout"
        },
        {
          "output_type": "stream",
          "text": [
            "/usr/local/lib/python3.6/dist-packages/sklearn/metrics/classification.py:1135: UndefinedMetricWarning: Precision and F-score are ill-defined and being set to 0.0 in labels with no predicted samples.\n",
            "  'precision', 'predicted', average, warn_for)\n"
          ],
          "name": "stderr"
        },
        {
          "output_type": "display_data",
          "data": {
            "image/png": "[encoded data removed]",
            "text/plain": [
              "<matplotlib.figure.Figure at 0x7f81c6fade10>"
            ]
          },
          "metadata": {
            "tags": []
          }
        }
      ]
    },
    {
      "cell_type": "code",
      "metadata": {
        "id": "EDn5_yy-1pyg",
        "outputId": "2062f426-2f7f-4eb0-dc55-2e59bc7b1c45",
        "colab": {
          "base_uri": "https://localhost:8080/",
          "height": 376
        }
      },
      "source": [
        "plot_depth(sent_train,sent_test,Y_train,Y_test)"
      ],
      "execution_count": null,
      "outputs": [
        {
          "output_type": "display_data",
          "data": {
            "image/png": "[encoded data removed]",
            "text/plain": [
              "<matplotlib.figure.Figure at 0x7f81c7aaa5f8>"
            ]
          },
          "metadata": {
            "tags": []
          }
        }
      ]
    },
    {
      "cell_type": "markdown",
      "metadata": {
        "id": "_dZY9RZk4UCu"
      },
      "source": [
        "TFIDF WORD 2 VEC\n",
        "--------------"
      ]
    },
    {
      "cell_type": "code",
      "metadata": {
        "id": "FKBtEiIQ3iP-"
      },
      "source": [
        "tf_idf_vect = TfidfVectorizer()\n",
        "w2v_train = tf_idf_vect.fit_transform(X_train)\n",
        "tf_idf_vectt = TfidfVectorizer()\n",
        "w2v_test = tf_idf_vectt.fit_transform(X_test)"
      ],
      "execution_count": null,
      "outputs": []
    },
    {
      "cell_type": "code",
      "metadata": {
        "id": "KUbYhZeb4dHM",
        "outputId": "f9d323e0-2e5b-41b4-8bae-6a4cf2403b8d",
        "colab": {
          "base_uri": "https://localhost:8080/",
          "height": 53
        }
      },
      "source": [
        "w2v_words=list(w2v_train_model.wv.vocab)\n",
        "\n",
        "tfidf_feat = tf_idf_vect.get_feature_names() # tfidf words/col-names\n",
        "# final_tf_idf is the sparse matrix with row= sentence, col=word and cell_val = tfidf\n",
        "\n",
        "tfidf_sent_train = []; # the tfidf-w2v for each sentence/review is stored in this list\n",
        "row=0;\n",
        "for sent in list_of_train: # for each review/sentence\n",
        "    sent_vec = np.zeros(100) # as word vectors are of zero length\n",
        "    weight_sum =0;\n",
        "    # num of words with a valid vector in the sentence/review\n",
        "    for word in sent:\n",
        "       if word in w2v_words:\n",
        "          vec = w2v_train_model.wv[words]\n",
        "          # obtain the tf_idfidf of a word in a sentence/review\n",
        "          tfidf = w2v_train[row, tfidf_feat.index(words)]\n",
        "          sent_vec += (vec * tfidf)\n",
        "          weight_sum += tfidf\n",
        "    if weight_sum!=0:\n",
        "      sent_vec /= weight_sum\n",
        "    tfidf_sent_train.append(sent_vec)\n",
        "    row+=1\n",
        "print(len(tfidf_sent_train))\n",
        "print(len(tfidf_sent_train[1]))\n",
        "    \n"
      ],
      "execution_count": null,
      "outputs": [
        {
          "output_type": "stream",
          "text": [
            "140000\n",
            "100\n"
          ],
          "name": "stdout"
        }
      ]
    },
    {
      "cell_type": "code",
      "metadata": {
        "id": "i5LLfXgJ5s71",
        "outputId": "81d96cff-f38d-4ff5-9e1a-7ca8393aca97",
        "colab": {
          "base_uri": "https://localhost:8080/",
          "height": 53
        }
      },
      "source": [
        "tfidf_featt = tf_idf_vectt.get_feature_names() # tfidf words/col-names\n",
        "# final_tf_idf is the sparse matrix with row= sentence, col=word and cell_val = tfidf\n",
        "w2v_words=list(w2v_test_model.wv.vocab)\n",
        "\n",
        "tfidf_sent_test = []; # the tfidf-w2v for each sentence/review is stored in this list\n",
        "row=0;\n",
        "for sent in list_of_test: # for each review/sentence\n",
        "    sent_vect = np.zeros(100) # as word vectors are of zero length\n",
        "    weight_summ =0; # num of words with a valid vector in the sentence/review\n",
        "    for word in sent: # for each word in a review/sentence\n",
        "        if word in w2v_words:\n",
        "            vect = w2v_test_model.wv[words]\n",
        "            # obtain the tf_idfidf of a word in a sentence/review\n",
        "            tfidf_tst = w2v_test[row, tfidf_featt.index(words)]\n",
        "            sent_vect += (vect * tfidf_tst)\n",
        "            weight_summ += tfidf_tst\n",
        "    if weight_summ!=0:\n",
        "       sent_vect /= weight_summ\n",
        "    tfidf_sent_test.append(sent_vect)\n",
        "    row += 1\n",
        "print(len(tfidf_sent_test))\n",
        "print(len(tfidf_sent_test[1]))"
      ],
      "execution_count": null,
      "outputs": [
        {
          "output_type": "stream",
          "text": [
            "60000\n",
            "100\n"
          ],
          "name": "stdout"
        }
      ]
    },
    {
      "cell_type": "code",
      "metadata": {
        "id": "VUULuwBz5uHV",
        "outputId": "c495310e-10b2-4b73-8734-30bd41f2a1bc",
        "colab": {
          "base_uri": "https://localhost:8080/",
          "height": 745
        }
      },
      "source": [
        "gridcv(tfidf_sent_train,tfidf_sent_test,Y_train,Y_test)"
      ],
      "execution_count": null,
      "outputs": [
        {
          "output_type": "stream",
          "text": [
            "Best Estimator:       DecisionTreeClassifier(class_weight=None, criterion='gini', max_depth=5,\n",
            "            max_features=None, max_leaf_nodes=None,\n",
            "            min_impurity_decrease=0.0, min_impurity_split=None,\n",
            "            min_samples_leaf=1, min_samples_split=2,\n",
            "            min_weight_fraction_leaf=0.0, presort=False, random_state=None,\n",
            "            splitter='best')\n",
            "Optimal parameters:   {'max_depth': 5}\n",
            "optimal score:        84.42857142857143\n",
            "-------------------------------------------------\n",
            "Classification_Report\n",
            "             precision    recall  f1-score   support\n",
            "\n",
            "          0       0.00      0.00      0.00      9367\n",
            "          1       0.84      1.00      0.92     50633\n",
            "\n",
            "avg / total       0.71      0.84      0.77     60000\n",
            "\n",
            "(0.8438833333333333, 0.8438833333333333, 0.8438833333333333, None)\n",
            "<==========confusion matrix for test data=========>\n"
          ],
          "name": "stdout"
        },
        {
          "output_type": "stream",
          "text": [
            "/usr/local/lib/python3.6/dist-packages/sklearn/metrics/classification.py:1135: UndefinedMetricWarning: Precision and F-score are ill-defined and being set to 0.0 in labels with no predicted samples.\n",
            "  'precision', 'predicted', average, warn_for)\n"
          ],
          "name": "stderr"
        },
        {
          "output_type": "display_data",
          "data": {
            "image/png": "[encoded data removed]",
            "text/plain": [
              "<matplotlib.figure.Figure at 0x7f81c7021d68>"
            ]
          },
          "metadata": {
            "tags": []
          }
        }
      ]
    },
    {
      "cell_type": "code",
      "metadata": {
        "id": "0fuIVkKO5-pY",
        "outputId": "d056d340-3052-4c95-e5d1-51c32248e3fa",
        "colab": {
          "base_uri": "https://localhost:8080/",
          "height": 376
        }
      },
      "source": [
        "plot_depth(tfidf_sent_train,tfidf_sent_test,Y_train,Y_test)"
      ],
      "execution_count": null,
      "outputs": [
        {
          "output_type": "display_data",
          "data": {
            "image/png": "[encoded data removed]",
            "text/plain": [
              "<matplotlib.figure.Figure at 0x7f81c79550f0>"
            ]
          },
          "metadata": {
            "tags": []
          }
        }
      ]
    },
    {
      "cell_type": "code",
      "metadata": {
        "id": "fgaoOPcH6Kyb"
      },
      "source": [
        ""
      ],
      "execution_count": null,
      "outputs": []
    }
  ]
}