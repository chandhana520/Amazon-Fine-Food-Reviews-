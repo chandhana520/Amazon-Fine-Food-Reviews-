{
 "cells": [
  {
   "cell_type": "markdown",
   "metadata": {
    "colab_type": "text",
    "id": "yI8hHeMFzjQp"
   },
   "source": [
    "  APPLYING LOGISTIC REGRESSION FOR AMAZON DATASET\n",
    "  ====================================\n",
    "\n"
   ]
  },
  {
   "cell_type": "markdown",
   "metadata": {
    "colab_type": "text",
    "id": "7ppnhwuLmXQ6"
   },
   "source": [
    "To apply Logistic regression and do hyperparameter tunning by Grid-search and Random-search for both L1 an L2  regularization.\n",
    "-----------"
   ]
  },
  {
   "cell_type": "code",
   "execution_count": 0,
   "metadata": {
    "colab": {},
    "colab_type": "code",
    "id": "O_Joi4dRzTjP"
   },
   "outputs": [],
   "source": [
    "!pip install -U -q Pydrive\n",
    "from pydrive.auth import GoogleAuth\n",
    "from pydrive.drive import GoogleDrive\n",
    "from google.colab import auth\n",
    "from oauth2client.client import GoogleCredentials\n",
    "import pandas as pd \n",
    "import numpy as np\n",
    "import matplotlib.pyplot as plot\n",
    "import pandas as pd\n",
    "import numpy as np\n",
    "from sklearn import linear_model, datasets\n",
    "from sklearn.model_selection import GridSearchCV\n",
    "import matplotlib.pyplot as plt"
   ]
  },
  {
   "cell_type": "code",
   "execution_count": 0,
   "metadata": {
    "colab": {},
    "colab_type": "code",
    "id": "ettUgf1OyJYO"
   },
   "outputs": [],
   "source": [
    "\n",
    "# authenticate\n",
    "auth.authenticate_user()\n",
    "gauth= GoogleAuth()\n",
    "gauth.credentials= GoogleCredentials.get_application_default()\n",
    "drive=GoogleDrive(gauth)"
   ]
  },
  {
   "cell_type": "code",
   "execution_count": 0,
   "metadata": {
    "colab": {},
    "colab_type": "code",
    "id": "BhEEnuEUyN95"
   },
   "outputs": [],
   "source": [
    "train_downloaded = drive.CreateFile({'id': '1LgNo7LS202N7BuUaQQt4tVwchHRJm8S9'})\n",
    "train_downloaded.GetContentFile('final_clean.csv')"
   ]
  },
  {
   "cell_type": "code",
   "execution_count": 0,
   "metadata": {
    "colab": {
     "base_uri": "https://localhost:8080/",
     "height": 369
    },
    "colab_type": "code",
    "id": "a6Uyz4sixmgZ",
    "outputId": "b26e8122-9a40-48e3-cc5b-7d7603593c51"
   },
   "outputs": [
    {
     "data": {
      "text/html": [
       "<div>\n",
       "<style scoped>\n",
       "    .dataframe tbody tr th:only-of-type {\n",
       "        vertical-align: middle;\n",
       "    }\n",
       "\n",
       "    .dataframe tbody tr th {\n",
       "        vertical-align: top;\n",
       "    }\n",
       "\n",
       "    .dataframe thead th {\n",
       "        text-align: right;\n",
       "    }\n",
       "</style>\n",
       "<table border=\"1\" class=\"dataframe\">\n",
       "  <thead>\n",
       "    <tr style=\"text-align: right;\">\n",
       "      <th></th>\n",
       "      <th>Id</th>\n",
       "      <th>ProductId</th>\n",
       "      <th>UserId</th>\n",
       "      <th>ProfileName</th>\n",
       "      <th>HelpfulnessNumerator</th>\n",
       "      <th>HelpfulnessDenominator</th>\n",
       "      <th>Score</th>\n",
       "      <th>Time</th>\n",
       "      <th>Summary</th>\n",
       "      <th>Text</th>\n",
       "      <th>cleanedText</th>\n",
       "    </tr>\n",
       "  </thead>\n",
       "  <tbody>\n",
       "    <tr>\n",
       "      <th>0</th>\n",
       "      <td>150524</td>\n",
       "      <td>0006641040</td>\n",
       "      <td>ACITT7DI6IDDL</td>\n",
       "      <td>shari zychinski</td>\n",
       "      <td>0</td>\n",
       "      <td>0</td>\n",
       "      <td>1</td>\n",
       "      <td>939340800</td>\n",
       "      <td>EVERY book is educational</td>\n",
       "      <td>this witty little book makes my son laugh at l...</td>\n",
       "      <td>b'witti littl book make son laugh loud recit c...</td>\n",
       "    </tr>\n",
       "    <tr>\n",
       "      <th>1</th>\n",
       "      <td>150506</td>\n",
       "      <td>0006641040</td>\n",
       "      <td>A2IW4PEEKO2R0U</td>\n",
       "      <td>Tracy</td>\n",
       "      <td>1</td>\n",
       "      <td>1</td>\n",
       "      <td>1</td>\n",
       "      <td>1194739200</td>\n",
       "      <td>Love the book, miss the hard cover version</td>\n",
       "      <td>I grew up reading these Sendak books, and watc...</td>\n",
       "      <td>b'grew read sendak book watch realli rosi movi...</td>\n",
       "    </tr>\n",
       "  </tbody>\n",
       "</table>\n",
       "</div>"
      ],
      "text/plain": [
       "       Id   ProductId          UserId      ProfileName  HelpfulnessNumerator  \\\n",
       "0  150524  0006641040   ACITT7DI6IDDL  shari zychinski                     0   \n",
       "1  150506  0006641040  A2IW4PEEKO2R0U            Tracy                     1   \n",
       "\n",
       "   HelpfulnessDenominator  Score        Time  \\\n",
       "0                       0      1   939340800   \n",
       "1                       1      1  1194739200   \n",
       "\n",
       "                                      Summary  \\\n",
       "0                   EVERY book is educational   \n",
       "1  Love the book, miss the hard cover version   \n",
       "\n",
       "                                                Text  \\\n",
       "0  this witty little book makes my son laugh at l...   \n",
       "1  I grew up reading these Sendak books, and watc...   \n",
       "\n",
       "                                         cleanedText  \n",
       "0  b'witti littl book make son laugh loud recit c...  \n",
       "1  b'grew read sendak book watch realli rosi movi...  "
      ]
     },
     "execution_count": 6,
     "metadata": {
      "tags": []
     },
     "output_type": "execute_result"
    }
   ],
   "source": [
    "df=pd.read_csv('final_clean.csv')\n",
    "df.head(2)"
   ]
  },
  {
   "cell_type": "code",
   "execution_count": 0,
   "metadata": {
    "colab": {
     "base_uri": "https://localhost:8080/",
     "height": 35
    },
    "colab_type": "code",
    "id": "OPVA1389xmgh",
    "outputId": "6431917a-56b5-40e5-d63a-4dc439cb9ef8"
   },
   "outputs": [
    {
     "data": {
      "text/plain": [
       "(3000, 11)"
      ]
     },
     "execution_count": 42,
     "metadata": {
      "tags": []
     },
     "output_type": "execute_result"
    }
   ],
   "source": [
    "data1=df.sample(3000, random_state=23)\n",
    "data1.shape"
   ]
  },
  {
   "cell_type": "code",
   "execution_count": 0,
   "metadata": {
    "colab": {
     "base_uri": "https://localhost:8080/",
     "height": 111
    },
    "colab_type": "code",
    "id": "nCcrn9nB3JtW",
    "outputId": "61f4714c-d735-4373-f11b-eaee89d15ce9"
   },
   "outputs": [
    {
     "data": {
      "text/html": [
       "<div>\n",
       "<style scoped>\n",
       "    .dataframe tbody tr th:only-of-type {\n",
       "        vertical-align: middle;\n",
       "    }\n",
       "\n",
       "    .dataframe tbody tr th {\n",
       "        vertical-align: top;\n",
       "    }\n",
       "\n",
       "    .dataframe thead th {\n",
       "        text-align: right;\n",
       "    }\n",
       "</style>\n",
       "<table border=\"1\" class=\"dataframe\">\n",
       "  <thead>\n",
       "    <tr style=\"text-align: right;\">\n",
       "      <th></th>\n",
       "      <th>cleanedText</th>\n",
       "      <th>Text</th>\n",
       "      <th>Score</th>\n",
       "    </tr>\n",
       "  </thead>\n",
       "  <tbody>\n",
       "    <tr>\n",
       "      <th>10509</th>\n",
       "      <td>b'let say impress senseo machin never get coff...</td>\n",
       "      <td>Let me just say that I am so impressed with th...</td>\n",
       "      <td>1</td>\n",
       "    </tr>\n",
       "    <tr>\n",
       "      <th>279417</th>\n",
       "      <td>b'best snappl flavor ever hard find though how...</td>\n",
       "      <td>This is the best Snapple flavor I have ever ha...</td>\n",
       "      <td>1</td>\n",
       "    </tr>\n",
       "  </tbody>\n",
       "</table>\n",
       "</div>"
      ],
      "text/plain": [
       "                                              cleanedText  \\\n",
       "10509   b'let say impress senseo machin never get coff...   \n",
       "279417  b'best snappl flavor ever hard find though how...   \n",
       "\n",
       "                                                     Text  Score  \n",
       "10509   Let me just say that I am so impressed with th...      1  \n",
       "279417  This is the best Snapple flavor I have ever ha...      1  "
      ]
     },
     "execution_count": 43,
     "metadata": {
      "tags": []
     },
     "output_type": "execute_result"
    }
   ],
   "source": [
    "data = data1.filter(['cleanedText','Text','Score'],axis=1)\n",
    "data.head(2)\n",
    "\n"
   ]
  },
  {
   "cell_type": "code",
   "execution_count": 0,
   "metadata": {
    "colab": {},
    "colab_type": "code",
    "id": "zNi1FeRnxmgl"
   },
   "outputs": [],
   "source": [
    "\n",
    "from sklearn.cross_validation import train_test_split\n",
    "from sklearn.neighbors import KNeighborsClassifier\n",
    "from sklearn.metrics import accuracy_score\n",
    "from sklearn.cross_validation import cross_val_score\n",
    "from collections import Counter\n",
    "from sklearn.metrics import accuracy_score\n",
    "from sklearn import cross_validation"
   ]
  },
  {
   "cell_type": "code",
   "execution_count": 0,
   "metadata": {
    "colab": {},
    "colab_type": "code",
    "id": "A7LG1IcFCgXW"
   },
   "outputs": [],
   "source": [
    "X = data['cleanedText']\n",
    "y = data['Score']\n",
    "\n"
   ]
  },
  {
   "cell_type": "markdown",
   "metadata": {
    "colab_type": "text",
    "id": "AX_BcCF10LBD"
   },
   "source": [
    "SPLITTING DATA IN TO TRAIN AND TEST AND FEATURIZE TEXT UDING TF-IDF\n",
    "--------------"
   ]
  },
  {
   "cell_type": "code",
   "execution_count": 0,
   "metadata": {
    "colab": {},
    "colab_type": "code",
    "id": "qgwSIYVInjP-"
   },
   "outputs": [],
   "source": []
  },
  {
   "cell_type": "code",
   "execution_count": 0,
   "metadata": {
    "colab": {
     "base_uri": "https://localhost:8080/",
     "height": 35
    },
    "colab_type": "code",
    "id": "_WnYJHViBxLN",
    "outputId": "c64698a7-0f51-478a-d62d-9b88b6dd8ad8"
   },
   "outputs": [
    {
     "data": {
      "text/plain": [
       "(2250,)"
      ]
     },
     "execution_count": 46,
     "metadata": {
      "tags": []
     },
     "output_type": "execute_result"
    }
   ],
   "source": [
    "from sklearn.model_selection import train_test_split\n",
    "x_train, x_test, y_train, y_test = train_test_split(X,y)\n",
    "\n",
    "y_train.shape\n"
   ]
  },
  {
   "cell_type": "code",
   "execution_count": 0,
   "metadata": {
    "colab": {},
    "colab_type": "code",
    "id": "A9FCFIwexmgt"
   },
   "outputs": [],
   "source": [
    "from sklearn.feature_extraction.text import TfidfVectorizer\n",
    "tfidf_vect = TfidfVectorizer(\n",
    "    analyzer='word',  # features made of words\n",
    "    ngram_range=(1,2))\n",
    "tf_idf = tfidf_vect.fit_transform(x_train)\n",
    "tfidf_xtest = tfidf_vect.transform(x_test)"
   ]
  },
  {
   "cell_type": "code",
   "execution_count": 0,
   "metadata": {
    "colab": {},
    "colab_type": "code",
    "id": "vFO_tJ4GzfV9"
   },
   "outputs": [],
   "source": [
    "w = tf_idf.todense()\n",
    "w2=tfidf_xtest.todense()"
   ]
  },
  {
   "cell_type": "markdown",
   "metadata": {
    "colab_type": "text",
    "id": "mqJbvL-20h-o"
   },
   "source": [
    "OBTAINING OPTIMAL PENALITY(L1,L2) AND LAMBDA USING GRID-SEARCH CV\n",
    "-------------"
   ]
  },
  {
   "cell_type": "code",
   "execution_count": 0,
   "metadata": {
    "colab": {},
    "colab_type": "code",
    "id": "6N6qfXsHxmhB"
   },
   "outputs": [],
   "source": [
    "logistic = linear_model.LogisticRegression()"
   ]
  },
  {
   "cell_type": "code",
   "execution_count": 0,
   "metadata": {
    "colab": {},
    "colab_type": "code",
    "id": "39YRvukpxmhF"
   },
   "outputs": [],
   "source": [
    "# Create regularization penalty space\n",
    "penality=('l1','l2')\n",
    "\n",
    "# Create regularization hyperparameter space\n",
    "C = np.logspace(0, 4, 10)\n",
    "\n",
    "# Create hyperparameter options\n",
    "hyperparameters = dict(C=C, penalty=penality)"
   ]
  },
  {
   "cell_type": "code",
   "execution_count": 0,
   "metadata": {
    "colab": {},
    "colab_type": "code",
    "id": "FJ3rY9ah6dY3"
   },
   "outputs": [],
   "source": [
    "cf = GridSearchCV(logistic, hyperparameters, cv=5, verbose=30)"
   ]
  },
  {
   "cell_type": "code",
   "execution_count": 0,
   "metadata": {
    "colab": {
     "base_uri": "https://localhost:8080/",
     "height": 4193
    },
    "colab_type": "code",
    "id": "01LosKKQxmhc",
    "outputId": "6977ca75-018f-4747-df12-1c6c7fe194a4"
   },
   "outputs": [
    {
     "name": "stdout",
     "output_type": "stream",
     "text": [
      "Fitting 5 folds for each of 20 candidates, totalling 100 fits\n",
      "[CV] C=1.0, penalty=l1 ...............................................\n",
      "[CV] ...... C=1.0, penalty=l1, score=0.8492239467849224, total=   1.5s\n",
      "[CV] C=1.0, penalty=l1 ...............................................\n"
     ]
    },
    {
     "name": "stderr",
     "output_type": "stream",
     "text": [
      "[Parallel(n_jobs=1)]: Done   1 out of   1 | elapsed:    1.7s remaining:    0.0s\n"
     ]
    },
    {
     "name": "stdout",
     "output_type": "stream",
     "text": [
      "[CV] ...... C=1.0, penalty=l1, score=0.8377777777777777, total=   0.9s\n",
      "[CV] C=1.0, penalty=l1 ...............................................\n"
     ]
    },
    {
     "name": "stderr",
     "output_type": "stream",
     "text": [
      "[Parallel(n_jobs=1)]: Done   2 out of   2 | elapsed:    2.9s remaining:    0.0s\n"
     ]
    },
    {
     "name": "stdout",
     "output_type": "stream",
     "text": [
      "[CV] ...... C=1.0, penalty=l1, score=0.8311111111111111, total=   0.9s\n",
      "[CV] C=1.0, penalty=l1 ...............................................\n"
     ]
    },
    {
     "name": "stderr",
     "output_type": "stream",
     "text": [
      "[Parallel(n_jobs=1)]: Done   3 out of   3 | elapsed:    4.0s remaining:    0.0s\n"
     ]
    },
    {
     "name": "stdout",
     "output_type": "stream",
     "text": [
      "[CV] ...... C=1.0, penalty=l1, score=0.8422222222222222, total=   0.9s\n",
      "[CV] C=1.0, penalty=l1 ...............................................\n"
     ]
    },
    {
     "name": "stderr",
     "output_type": "stream",
     "text": [
      "[Parallel(n_jobs=1)]: Done   4 out of   4 | elapsed:    5.1s remaining:    0.0s\n"
     ]
    },
    {
     "name": "stdout",
     "output_type": "stream",
     "text": [
      "[CV] ...... C=1.0, penalty=l1, score=0.8396436525612472, total=   0.9s\n",
      "[CV] C=1.0, penalty=l2 ...............................................\n"
     ]
    },
    {
     "name": "stderr",
     "output_type": "stream",
     "text": [
      "[Parallel(n_jobs=1)]: Done   5 out of   5 | elapsed:    6.3s remaining:    0.0s\n"
     ]
    },
    {
     "name": "stdout",
     "output_type": "stream",
     "text": [
      "[CV] ....... C=1.0, penalty=l2, score=0.835920177383592, total=   0.9s\n",
      "[CV] C=1.0, penalty=l2 ...............................................\n"
     ]
    },
    {
     "name": "stderr",
     "output_type": "stream",
     "text": [
      "[Parallel(n_jobs=1)]: Done   6 out of   6 | elapsed:    7.4s remaining:    0.0s\n"
     ]
    },
    {
     "name": "stdout",
     "output_type": "stream",
     "text": [
      "[CV] ...... C=1.0, penalty=l2, score=0.8355555555555556, total=   0.9s\n",
      "[CV] C=1.0, penalty=l2 ...............................................\n"
     ]
    },
    {
     "name": "stderr",
     "output_type": "stream",
     "text": [
      "[Parallel(n_jobs=1)]: Done   7 out of   7 | elapsed:    8.5s remaining:    0.0s\n"
     ]
    },
    {
     "name": "stdout",
     "output_type": "stream",
     "text": [
      "[CV] ...... C=1.0, penalty=l2, score=0.8355555555555556, total=   0.9s\n",
      "[CV] C=1.0, penalty=l2 ...............................................\n"
     ]
    },
    {
     "name": "stderr",
     "output_type": "stream",
     "text": [
      "[Parallel(n_jobs=1)]: Done   8 out of   8 | elapsed:    9.6s remaining:    0.0s\n"
     ]
    },
    {
     "name": "stdout",
     "output_type": "stream",
     "text": [
      "[CV] ...... C=1.0, penalty=l2, score=0.8355555555555556, total=   0.9s\n",
      "[CV] C=1.0, penalty=l2 ...............................................\n"
     ]
    },
    {
     "name": "stderr",
     "output_type": "stream",
     "text": [
      "[Parallel(n_jobs=1)]: Done   9 out of   9 | elapsed:   10.7s remaining:    0.0s\n"
     ]
    },
    {
     "name": "stdout",
     "output_type": "stream",
     "text": [
      "[CV] ...... C=1.0, penalty=l2, score=0.8374164810690423, total=   0.9s\n",
      "[CV] C=2.7825594022071245, penalty=l1 ................................\n"
     ]
    },
    {
     "name": "stderr",
     "output_type": "stream",
     "text": [
      "[Parallel(n_jobs=1)]: Done  10 out of  10 | elapsed:   11.9s remaining:    0.0s\n"
     ]
    },
    {
     "name": "stdout",
     "output_type": "stream",
     "text": [
      "[CV]  C=2.7825594022071245, penalty=l1, score=0.8869179600886918, total=   0.9s\n",
      "[CV] C=2.7825594022071245, penalty=l1 ................................\n"
     ]
    },
    {
     "name": "stderr",
     "output_type": "stream",
     "text": [
      "[Parallel(n_jobs=1)]: Done  11 out of  11 | elapsed:   13.0s remaining:    0.0s\n"
     ]
    },
    {
     "name": "stdout",
     "output_type": "stream",
     "text": [
      "[CV]  C=2.7825594022071245, penalty=l1, score=0.8733333333333333, total=   0.9s\n",
      "[CV] C=2.7825594022071245, penalty=l1 ................................\n"
     ]
    },
    {
     "name": "stderr",
     "output_type": "stream",
     "text": [
      "[Parallel(n_jobs=1)]: Done  12 out of  12 | elapsed:   14.2s remaining:    0.0s\n"
     ]
    },
    {
     "name": "stdout",
     "output_type": "stream",
     "text": [
      "[CV]  C=2.7825594022071245, penalty=l1, score=0.8688888888888889, total=   0.9s\n",
      "[CV] C=2.7825594022071245, penalty=l1 ................................\n"
     ]
    },
    {
     "name": "stderr",
     "output_type": "stream",
     "text": [
      "[Parallel(n_jobs=1)]: Done  13 out of  13 | elapsed:   15.3s remaining:    0.0s\n"
     ]
    },
    {
     "name": "stdout",
     "output_type": "stream",
     "text": [
      "[CV]  C=2.7825594022071245, penalty=l1, score=0.8733333333333333, total=   0.9s\n",
      "[CV] C=2.7825594022071245, penalty=l1 ................................\n"
     ]
    },
    {
     "name": "stderr",
     "output_type": "stream",
     "text": [
      "[Parallel(n_jobs=1)]: Done  14 out of  14 | elapsed:   16.5s remaining:    0.0s\n"
     ]
    },
    {
     "name": "stdout",
     "output_type": "stream",
     "text": [
      "[CV]  C=2.7825594022071245, penalty=l1, score=0.8619153674832962, total=   0.9s\n",
      "[CV] C=2.7825594022071245, penalty=l2 ................................\n"
     ]
    },
    {
     "name": "stderr",
     "output_type": "stream",
     "text": [
      "[Parallel(n_jobs=1)]: Done  15 out of  15 | elapsed:   17.6s remaining:    0.0s\n"
     ]
    },
    {
     "name": "stdout",
     "output_type": "stream",
     "text": [
      "[CV]  C=2.7825594022071245, penalty=l2, score=0.8403547671840355, total=   0.9s\n",
      "[CV] C=2.7825594022071245, penalty=l2 ................................\n"
     ]
    },
    {
     "name": "stderr",
     "output_type": "stream",
     "text": [
      "[Parallel(n_jobs=1)]: Done  16 out of  16 | elapsed:   18.8s remaining:    0.0s\n"
     ]
    },
    {
     "name": "stdout",
     "output_type": "stream",
     "text": [
      "[CV] ..... C=2.7825594022071245, penalty=l2, score=0.84, total=   0.9s\n",
      "[CV] C=2.7825594022071245, penalty=l2 ................................\n"
     ]
    },
    {
     "name": "stderr",
     "output_type": "stream",
     "text": [
      "[Parallel(n_jobs=1)]: Done  17 out of  17 | elapsed:   20.0s remaining:    0.0s\n"
     ]
    },
    {
     "name": "stdout",
     "output_type": "stream",
     "text": [
      "[CV]  C=2.7825594022071245, penalty=l2, score=0.8355555555555556, total=   0.9s\n",
      "[CV] C=2.7825594022071245, penalty=l2 ................................\n"
     ]
    },
    {
     "name": "stderr",
     "output_type": "stream",
     "text": [
      "[Parallel(n_jobs=1)]: Done  18 out of  18 | elapsed:   21.1s remaining:    0.0s\n"
     ]
    },
    {
     "name": "stdout",
     "output_type": "stream",
     "text": [
      "[CV]  C=2.7825594022071245, penalty=l2, score=0.8355555555555556, total=   0.9s\n",
      "[CV] C=2.7825594022071245, penalty=l2 ................................\n"
     ]
    },
    {
     "name": "stderr",
     "output_type": "stream",
     "text": [
      "[Parallel(n_jobs=1)]: Done  19 out of  19 | elapsed:   22.2s remaining:    0.0s\n"
     ]
    },
    {
     "name": "stdout",
     "output_type": "stream",
     "text": [
      "[CV]  C=2.7825594022071245, penalty=l2, score=0.8374164810690423, total=   0.9s\n",
      "[CV] C=7.742636826811269, penalty=l1 .................................\n"
     ]
    },
    {
     "name": "stderr",
     "output_type": "stream",
     "text": [
      "[Parallel(n_jobs=1)]: Done  20 out of  20 | elapsed:   23.4s remaining:    0.0s\n"
     ]
    },
    {
     "name": "stdout",
     "output_type": "stream",
     "text": [
      "[CV]  C=7.742636826811269, penalty=l1, score=0.9135254988913526, total=   0.9s\n",
      "[CV] C=7.742636826811269, penalty=l1 .................................\n"
     ]
    },
    {
     "name": "stderr",
     "output_type": "stream",
     "text": [
      "[Parallel(n_jobs=1)]: Done  21 out of  21 | elapsed:   24.5s remaining:    0.0s\n"
     ]
    },
    {
     "name": "stdout",
     "output_type": "stream",
     "text": [
      "[CV]  C=7.742636826811269, penalty=l1, score=0.8977777777777778, total=   0.9s\n",
      "[CV] C=7.742636826811269, penalty=l1 .................................\n"
     ]
    },
    {
     "name": "stderr",
     "output_type": "stream",
     "text": [
      "[Parallel(n_jobs=1)]: Done  22 out of  22 | elapsed:   25.7s remaining:    0.0s\n"
     ]
    },
    {
     "name": "stdout",
     "output_type": "stream",
     "text": [
      "[CV]  C=7.742636826811269, penalty=l1, score=0.9044444444444445, total=   0.9s\n",
      "[CV] C=7.742636826811269, penalty=l1 .................................\n"
     ]
    },
    {
     "name": "stderr",
     "output_type": "stream",
     "text": [
      "[Parallel(n_jobs=1)]: Done  23 out of  23 | elapsed:   26.9s remaining:    0.0s\n"
     ]
    },
    {
     "name": "stdout",
     "output_type": "stream",
     "text": [
      "[CV]  C=7.742636826811269, penalty=l1, score=0.8911111111111111, total=   0.9s\n",
      "[CV] C=7.742636826811269, penalty=l1 .................................\n"
     ]
    },
    {
     "name": "stderr",
     "output_type": "stream",
     "text": [
      "[Parallel(n_jobs=1)]: Done  24 out of  24 | elapsed:   28.0s remaining:    0.0s\n"
     ]
    },
    {
     "name": "stdout",
     "output_type": "stream",
     "text": [
      "[CV]  C=7.742636826811269, penalty=l1, score=0.8663697104677061, total=   0.9s\n",
      "[CV] C=7.742636826811269, penalty=l2 .................................\n"
     ]
    },
    {
     "name": "stderr",
     "output_type": "stream",
     "text": [
      "[Parallel(n_jobs=1)]: Done  25 out of  25 | elapsed:   29.2s remaining:    0.0s\n"
     ]
    },
    {
     "name": "stdout",
     "output_type": "stream",
     "text": [
      "[CV]  C=7.742636826811269, penalty=l2, score=0.8470066518847007, total=   0.9s\n",
      "[CV] C=7.742636826811269, penalty=l2 .................................\n"
     ]
    },
    {
     "name": "stderr",
     "output_type": "stream",
     "text": [
      "[Parallel(n_jobs=1)]: Done  26 out of  26 | elapsed:   30.4s remaining:    0.0s\n"
     ]
    },
    {
     "name": "stdout",
     "output_type": "stream",
     "text": [
      "[CV]  C=7.742636826811269, penalty=l2, score=0.8444444444444444, total=   0.9s\n",
      "[CV] C=7.742636826811269, penalty=l2 .................................\n"
     ]
    },
    {
     "name": "stderr",
     "output_type": "stream",
     "text": [
      "[Parallel(n_jobs=1)]: Done  27 out of  27 | elapsed:   31.5s remaining:    0.0s\n"
     ]
    },
    {
     "name": "stdout",
     "output_type": "stream",
     "text": [
      "[CV]  C=7.742636826811269, penalty=l2, score=0.8444444444444444, total=   0.9s\n",
      "[CV] C=7.742636826811269, penalty=l2 .................................\n"
     ]
    },
    {
     "name": "stderr",
     "output_type": "stream",
     "text": [
      "[Parallel(n_jobs=1)]: Done  28 out of  28 | elapsed:   32.7s remaining:    0.0s\n"
     ]
    },
    {
     "name": "stdout",
     "output_type": "stream",
     "text": [
      "[CV]  C=7.742636826811269, penalty=l2, score=0.8422222222222222, total=   0.9s\n",
      "[CV] C=7.742636826811269, penalty=l2 .................................\n"
     ]
    },
    {
     "name": "stderr",
     "output_type": "stream",
     "text": [
      "[Parallel(n_jobs=1)]: Done  29 out of  29 | elapsed:   33.8s remaining:    0.0s\n"
     ]
    },
    {
     "name": "stdout",
     "output_type": "stream",
     "text": [
      "[CV]  C=7.742636826811269, penalty=l2, score=0.844097995545657, total=   0.9s\n",
      "[CV] C=21.544346900318832, penalty=l1 ................................\n",
      "[CV]  C=21.544346900318832, penalty=l1, score=0.917960088691796, total=   0.9s\n",
      "[CV] C=21.544346900318832, penalty=l1 ................................\n",
      "[CV]  C=21.544346900318832, penalty=l1, score=0.8888888888888888, total=   0.9s\n",
      "[CV] C=21.544346900318832, penalty=l1 ................................\n",
      "[CV]  C=21.544346900318832, penalty=l1, score=0.8955555555555555, total=   0.9s\n",
      "[CV] C=21.544346900318832, penalty=l1 ................................\n",
      "[CV]  C=21.544346900318832, penalty=l1, score=0.8777777777777778, total=   0.9s\n",
      "[CV] C=21.544346900318832, penalty=l1 ................................\n",
      "[CV]  C=21.544346900318832, penalty=l1, score=0.8641425389755011, total=   0.9s\n",
      "[CV] C=21.544346900318832, penalty=l2 ................................\n",
      "[CV]  C=21.544346900318832, penalty=l2, score=0.8536585365853658, total=   0.9s\n",
      "[CV] C=21.544346900318832, penalty=l2 ................................\n",
      "[CV]  C=21.544346900318832, penalty=l2, score=0.8511111111111112, total=   0.9s\n",
      "[CV] C=21.544346900318832, penalty=l2 ................................\n",
      "[CV]  C=21.544346900318832, penalty=l2, score=0.8444444444444444, total=   0.9s\n",
      "[CV] C=21.544346900318832, penalty=l2 ................................\n",
      "[CV]  C=21.544346900318832, penalty=l2, score=0.8488888888888889, total=   0.9s\n",
      "[CV] C=21.544346900318832, penalty=l2 ................................\n",
      "[CV]  C=21.544346900318832, penalty=l2, score=0.844097995545657, total=   0.9s\n",
      "[CV] C=59.94842503189409, penalty=l1 .................................\n",
      "[CV]  C=59.94842503189409, penalty=l1, score=0.9113082039911308, total=   0.9s\n",
      "[CV] C=59.94842503189409, penalty=l1 .................................\n",
      "[CV]  C=59.94842503189409, penalty=l1, score=0.8911111111111111, total=   0.9s\n",
      "[CV] C=59.94842503189409, penalty=l1 .................................\n",
      "[CV]  C=59.94842503189409, penalty=l1, score=0.8888888888888888, total=   0.9s\n",
      "[CV] C=59.94842503189409, penalty=l1 .................................\n",
      "[CV]  C=59.94842503189409, penalty=l1, score=0.8755555555555555, total=   0.9s\n",
      "[CV] C=59.94842503189409, penalty=l1 .................................\n",
      "[CV]  C=59.94842503189409, penalty=l1, score=0.8663697104677061, total=   0.9s\n",
      "[CV] C=59.94842503189409, penalty=l2 .................................\n",
      "[CV]  C=59.94842503189409, penalty=l2, score=0.8558758314855875, total=   0.9s\n",
      "[CV] C=59.94842503189409, penalty=l2 .................................\n",
      "[CV]  C=59.94842503189409, penalty=l2, score=0.8555555555555555, total=   0.9s\n",
      "[CV] C=59.94842503189409, penalty=l2 .................................\n",
      "[CV]  C=59.94842503189409, penalty=l2, score=0.8488888888888889, total=   0.9s\n",
      "[CV] C=59.94842503189409, penalty=l2 .................................\n",
      "[CV]  C=59.94842503189409, penalty=l2, score=0.8466666666666667, total=   0.9s\n",
      "[CV] C=59.94842503189409, penalty=l2 .................................\n",
      "[CV]  C=59.94842503189409, penalty=l2, score=0.8463251670378619, total=   0.9s\n",
      "[CV] C=166.81005372000593, penalty=l1 ................................\n",
      "[CV]  C=166.81005372000593, penalty=l1, score=0.9090909090909091, total=   1.0s\n",
      "[CV] C=166.81005372000593, penalty=l1 ................................\n",
      "[CV]  C=166.81005372000593, penalty=l1, score=0.8933333333333333, total=   1.0s\n",
      "[CV] C=166.81005372000593, penalty=l1 ................................\n",
      "[CV]  C=166.81005372000593, penalty=l1, score=0.8933333333333333, total=   1.0s\n",
      "[CV] C=166.81005372000593, penalty=l1 ................................\n",
      "[CV] ..... C=166.81005372000593, penalty=l1, score=0.88, total=   1.0s\n",
      "[CV] C=166.81005372000593, penalty=l1 ................................\n",
      "[CV]  C=166.81005372000593, penalty=l1, score=0.8685968819599109, total=   1.0s\n",
      "[CV] C=166.81005372000593, penalty=l2 ................................\n",
      "[CV]  C=166.81005372000593, penalty=l2, score=0.8580931263858093, total=   0.9s\n",
      "[CV] C=166.81005372000593, penalty=l2 ................................\n",
      "[CV]  C=166.81005372000593, penalty=l2, score=0.8622222222222222, total=   0.9s\n",
      "[CV] C=166.81005372000593, penalty=l2 ................................\n",
      "[CV]  C=166.81005372000593, penalty=l2, score=0.8511111111111112, total=   0.9s\n",
      "[CV] C=166.81005372000593, penalty=l2 ................................\n",
      "[CV]  C=166.81005372000593, penalty=l2, score=0.8488888888888889, total=   0.9s\n",
      "[CV] C=166.81005372000593, penalty=l2 ................................\n",
      "[CV]  C=166.81005372000593, penalty=l2, score=0.8463251670378619, total=   0.9s\n",
      "[CV] C=464.15888336127773, penalty=l1 ................................\n",
      "[CV]  C=464.15888336127773, penalty=l1, score=0.9068736141906873, total=   1.0s\n",
      "[CV] C=464.15888336127773, penalty=l1 ................................\n",
      "[CV]  C=464.15888336127773, penalty=l1, score=0.8911111111111111, total=   1.0s\n",
      "[CV] C=464.15888336127773, penalty=l1 ................................\n",
      "[CV]  C=464.15888336127773, penalty=l1, score=0.8822222222222222, total=   1.0s\n",
      "[CV] C=464.15888336127773, penalty=l1 ................................\n",
      "[CV]  C=464.15888336127773, penalty=l1, score=0.8777777777777778, total=   0.9s\n",
      "[CV] C=464.15888336127773, penalty=l1 ................................\n",
      "[CV]  C=464.15888336127773, penalty=l1, score=0.8708240534521158, total=   1.0s\n",
      "[CV] C=464.15888336127773, penalty=l2 ................................\n",
      "[CV]  C=464.15888336127773, penalty=l2, score=0.8647450110864745, total=   0.9s\n",
      "[CV] C=464.15888336127773, penalty=l2 ................................\n",
      "[CV]  C=464.15888336127773, penalty=l2, score=0.8644444444444445, total=   0.9s\n",
      "[CV] C=464.15888336127773, penalty=l2 ................................\n",
      "[CV]  C=464.15888336127773, penalty=l2, score=0.8555555555555555, total=   0.9s\n",
      "[CV] C=464.15888336127773, penalty=l2 ................................\n",
      "[CV]  C=464.15888336127773, penalty=l2, score=0.8488888888888889, total=   0.9s\n",
      "[CV] C=464.15888336127773, penalty=l2 ................................\n",
      "[CV]  C=464.15888336127773, penalty=l2, score=0.8463251670378619, total=   0.9s\n",
      "[CV] C=1291.5496650148827, penalty=l1 ................................\n",
      "[CV]  C=1291.5496650148827, penalty=l1, score=0.9002217294900222, total=   1.0s\n",
      "[CV] C=1291.5496650148827, penalty=l1 ................................\n",
      "[CV]  C=1291.5496650148827, penalty=l1, score=0.8911111111111111, total=   1.0s\n",
      "[CV] C=1291.5496650148827, penalty=l1 ................................\n",
      "[CV]  C=1291.5496650148827, penalty=l1, score=0.8844444444444445, total=   1.0s\n",
      "[CV] C=1291.5496650148827, penalty=l1 ................................\n",
      "[CV]  C=1291.5496650148827, penalty=l1, score=0.8777777777777778, total=   1.0s\n",
      "[CV] C=1291.5496650148827, penalty=l1 ................................\n",
      "[CV]  C=1291.5496650148827, penalty=l1, score=0.8708240534521158, total=   1.0s\n",
      "[CV] C=1291.5496650148827, penalty=l2 ................................\n",
      "[CV]  C=1291.5496650148827, penalty=l2, score=0.8647450110864745, total=   0.9s\n",
      "[CV] C=1291.5496650148827, penalty=l2 ................................\n",
      "[CV]  C=1291.5496650148827, penalty=l2, score=0.8688888888888889, total=   0.9s\n",
      "[CV] C=1291.5496650148827, penalty=l2 ................................\n",
      "[CV] ..... C=1291.5496650148827, penalty=l2, score=0.86, total=   0.9s\n",
      "[CV] C=1291.5496650148827, penalty=l2 ................................\n",
      "[CV]  C=1291.5496650148827, penalty=l2, score=0.8511111111111112, total=   0.9s\n",
      "[CV] C=1291.5496650148827, penalty=l2 ................................\n",
      "[CV]  C=1291.5496650148827, penalty=l2, score=0.8485523385300668, total=   0.9s\n",
      "[CV] C=3593.813663804626, penalty=l1 .................................\n",
      "[CV]  C=3593.813663804626, penalty=l1, score=0.9046563192904656, total=   1.0s\n",
      "[CV] C=3593.813663804626, penalty=l1 .................................\n",
      "[CV] ....... C=3593.813663804626, penalty=l1, score=0.9, total=   1.0s\n",
      "[CV] C=3593.813663804626, penalty=l1 .................................\n",
      "[CV]  C=3593.813663804626, penalty=l1, score=0.8866666666666667, total=   1.0s\n",
      "[CV] C=3593.813663804626, penalty=l1 .................................\n",
      "[CV]  C=3593.813663804626, penalty=l1, score=0.8688888888888889, total=   1.0s\n",
      "[CV] C=3593.813663804626, penalty=l1 .................................\n",
      "[CV]  C=3593.813663804626, penalty=l1, score=0.8775055679287305, total=   1.0s\n",
      "[CV] C=3593.813663804626, penalty=l2 .................................\n",
      "[CV]  C=3593.813663804626, penalty=l2, score=0.8625277161862528, total=   0.9s\n",
      "[CV] C=3593.813663804626, penalty=l2 .................................\n",
      "[CV]  C=3593.813663804626, penalty=l2, score=0.8688888888888889, total=   0.9s\n",
      "[CV] C=3593.813663804626, penalty=l2 .................................\n",
      "[CV]  C=3593.813663804626, penalty=l2, score=0.8644444444444445, total=   0.9s\n",
      "[CV] C=3593.813663804626, penalty=l2 .................................\n",
      "[CV]  C=3593.813663804626, penalty=l2, score=0.8511111111111112, total=   0.9s\n",
      "[CV] C=3593.813663804626, penalty=l2 .................................\n",
      "[CV]  C=3593.813663804626, penalty=l2, score=0.8507795100222717, total=   0.9s\n",
      "[CV] C=10000.0, penalty=l1 ...........................................\n",
      "[CV] .. C=10000.0, penalty=l1, score=0.9090909090909091, total=   1.0s\n",
      "[CV] C=10000.0, penalty=l1 ...........................................\n",
      "[CV] .. C=10000.0, penalty=l1, score=0.8933333333333333, total=   1.0s\n",
      "[CV] C=10000.0, penalty=l1 ...........................................\n",
      "[CV] ................ C=10000.0, penalty=l1, score=0.88, total=   1.0s\n",
      "[CV] C=10000.0, penalty=l1 ...........................................\n",
      "[CV] .. C=10000.0, penalty=l1, score=0.8666666666666667, total=   1.0s\n",
      "[CV] C=10000.0, penalty=l1 ...........................................\n",
      "[CV] .. C=10000.0, penalty=l1, score=0.8619153674832962, total=   1.0s\n",
      "[CV] C=10000.0, penalty=l2 ...........................................\n",
      "[CV] .. C=10000.0, penalty=l2, score=0.8625277161862528, total=   0.9s\n",
      "[CV] C=10000.0, penalty=l2 ...........................................\n",
      "[CV] .. C=10000.0, penalty=l2, score=0.8688888888888889, total=   0.9s\n",
      "[CV] C=10000.0, penalty=l2 ...........................................\n",
      "[CV] .. C=10000.0, penalty=l2, score=0.8644444444444445, total=   0.9s\n",
      "[CV] C=10000.0, penalty=l2 ...........................................\n",
      "[CV] .. C=10000.0, penalty=l2, score=0.8511111111111112, total=   0.9s\n",
      "[CV] C=10000.0, penalty=l2 ...........................................\n",
      "[CV] .. C=10000.0, penalty=l2, score=0.8507795100222717, total=   0.9s\n"
     ]
    },
    {
     "name": "stderr",
     "output_type": "stream",
     "text": [
      "[Parallel(n_jobs=1)]: Done 100 out of 100 | elapsed:  2.0min finished\n"
     ]
    },
    {
     "name": "stdout",
     "output_type": "stream",
     "text": [
      "0:01:58.626006\n"
     ]
    }
   ],
   "source": [
    "from datetime import datetime\n",
    "startTime = datetime.now()\n",
    "\n",
    "#lets run GridsearchCV on our data\n",
    "bestmodel=cf.fit(w, y_train)\n",
    "\n",
    "print(datetime.now() - startTime)\n"
   ]
  },
  {
   "cell_type": "code",
   "execution_count": 0,
   "metadata": {
    "colab": {
     "base_uri": "https://localhost:8080/",
     "height": 53
    },
    "colab_type": "code",
    "id": "nUVCXKup8dNr",
    "outputId": "795a1037-608e-4a8f-8456-4fbe0e8dcb59"
   },
   "outputs": [
    {
     "name": "stdout",
     "output_type": "stream",
     "text": [
      "Best Penalty: l1\n",
      "Best C: 7.742636826811269\n"
     ]
    }
   ],
   "source": [
    "print('Best Penalty:', bestmodel.best_estimator_.get_params()['penalty'])\n",
    "print('Best C:', bestmodel.best_estimator_.get_params()['C'])\n"
   ]
  },
  {
   "cell_type": "code",
   "execution_count": 0,
   "metadata": {
    "colab": {},
    "colab_type": "code",
    "id": "nGoMQPoCxmhm"
   },
   "outputs": [],
   "source": [
    "y_true, y_pred = y_test,cf.predict(w2)\n"
   ]
  },
  {
   "cell_type": "code",
   "execution_count": 0,
   "metadata": {
    "colab": {
     "base_uri": "https://localhost:8080/",
     "height": 161
    },
    "colab_type": "code",
    "id": "xYmhE-_rxmhw",
    "outputId": "333b37b9-d27f-41cc-8d6d-0eeeeecb4835"
   },
   "outputs": [
    {
     "name": "stdout",
     "output_type": "stream",
     "text": [
      "             precision    recall  f1-score   support\n",
      "\n",
      "          0       0.62      0.53      0.57        99\n",
      "          1       0.93      0.95      0.94       651\n",
      "\n",
      "avg / total       0.89      0.89      0.89       750\n",
      "\n",
      "(0.8946666666666667, 0.8946666666666667, 0.8946666666666667, None)\n"
     ]
    }
   ],
   "source": [
    "\n",
    "from sklearn.metrics import precision_recall_fscore_support, classification_report\n",
    "\n",
    "print(classification_report(y_test, y_pred))\n",
    "print(precision_recall_fscore_support(y_test, y_pred, average='micro'))\n"
   ]
  },
  {
   "cell_type": "markdown",
   "metadata": {
    "colab_type": "text",
    "id": "oj_YSyrg1A2B"
   },
   "source": [
    "OBTAINING OPTIMAL PENALITY(L1,L2) AND LAMBDA USING RANDOM-SEARCH CV\n",
    "-------------"
   ]
  },
  {
   "cell_type": "code",
   "execution_count": 0,
   "metadata": {
    "colab": {},
    "colab_type": "code",
    "id": "KrYOo7yQxmhz"
   },
   "outputs": [],
   "source": [
    "from sklearn.model_selection import RandomizedSearchCV\n",
    "clf  =RandomizedSearchCV(logistic, hyperparameters, cv=5, verbose=10)"
   ]
  },
  {
   "cell_type": "code",
   "execution_count": 0,
   "metadata": {
    "colab": {
     "base_uri": "https://localhost:8080/",
     "height": 2015
    },
    "colab_type": "code",
    "id": "Kl9uT0wSxmh3",
    "outputId": "019d8c9d-2967-4ce3-9e9e-30036f150dc5"
   },
   "outputs": [
    {
     "name": "stdout",
     "output_type": "stream",
     "text": [
      "Fitting 5 folds for each of 10 candidates, totalling 50 fits\n",
      "[CV] penalty=l2, C=10000.0 ...........................................\n",
      "[CV] .. penalty=l2, C=10000.0, score=0.8625277161862528, total=   1.0s\n",
      "[CV] penalty=l2, C=10000.0 ...........................................\n"
     ]
    },
    {
     "name": "stderr",
     "output_type": "stream",
     "text": [
      "[Parallel(n_jobs=1)]: Done   1 out of   1 | elapsed:    1.3s remaining:    0.0s\n"
     ]
    },
    {
     "name": "stdout",
     "output_type": "stream",
     "text": [
      "[CV] .. penalty=l2, C=10000.0, score=0.8688888888888889, total=   1.0s\n",
      "[CV] penalty=l2, C=10000.0 ...........................................\n"
     ]
    },
    {
     "name": "stderr",
     "output_type": "stream",
     "text": [
      "[Parallel(n_jobs=1)]: Done   2 out of   2 | elapsed:    2.6s remaining:    0.0s\n"
     ]
    },
    {
     "name": "stdout",
     "output_type": "stream",
     "text": [
      "[CV] .. penalty=l2, C=10000.0, score=0.8644444444444445, total=   1.0s\n",
      "[CV] penalty=l2, C=10000.0 ...........................................\n"
     ]
    },
    {
     "name": "stderr",
     "output_type": "stream",
     "text": [
      "[Parallel(n_jobs=1)]: Done   3 out of   3 | elapsed:    3.8s remaining:    0.0s\n"
     ]
    },
    {
     "name": "stdout",
     "output_type": "stream",
     "text": [
      "[CV] .. penalty=l2, C=10000.0, score=0.8511111111111112, total=   1.0s\n",
      "[CV] penalty=l2, C=10000.0 ...........................................\n"
     ]
    },
    {
     "name": "stderr",
     "output_type": "stream",
     "text": [
      "[Parallel(n_jobs=1)]: Done   4 out of   4 | elapsed:    5.1s remaining:    0.0s\n"
     ]
    },
    {
     "name": "stdout",
     "output_type": "stream",
     "text": [
      "[CV] .. penalty=l2, C=10000.0, score=0.8507795100222717, total=   1.0s\n",
      "[CV] penalty=l2, C=3593.813663804626 .................................\n"
     ]
    },
    {
     "name": "stderr",
     "output_type": "stream",
     "text": [
      "[Parallel(n_jobs=1)]: Done   5 out of   5 | elapsed:    6.4s remaining:    0.0s\n"
     ]
    },
    {
     "name": "stdout",
     "output_type": "stream",
     "text": [
      "[CV]  penalty=l2, C=3593.813663804626, score=0.8625277161862528, total=   1.0s\n",
      "[CV] penalty=l2, C=3593.813663804626 .................................\n"
     ]
    },
    {
     "name": "stderr",
     "output_type": "stream",
     "text": [
      "[Parallel(n_jobs=1)]: Done   6 out of   6 | elapsed:    7.6s remaining:    0.0s\n"
     ]
    },
    {
     "name": "stdout",
     "output_type": "stream",
     "text": [
      "[CV]  penalty=l2, C=3593.813663804626, score=0.8688888888888889, total=   1.0s\n",
      "[CV] penalty=l2, C=3593.813663804626 .................................\n"
     ]
    },
    {
     "name": "stderr",
     "output_type": "stream",
     "text": [
      "[Parallel(n_jobs=1)]: Done   7 out of   7 | elapsed:    8.9s remaining:    0.0s\n"
     ]
    },
    {
     "name": "stdout",
     "output_type": "stream",
     "text": [
      "[CV]  penalty=l2, C=3593.813663804626, score=0.8644444444444445, total=   1.0s\n",
      "[CV] penalty=l2, C=3593.813663804626 .................................\n"
     ]
    },
    {
     "name": "stderr",
     "output_type": "stream",
     "text": [
      "[Parallel(n_jobs=1)]: Done   8 out of   8 | elapsed:   10.2s remaining:    0.0s\n"
     ]
    },
    {
     "name": "stdout",
     "output_type": "stream",
     "text": [
      "[CV]  penalty=l2, C=3593.813663804626, score=0.8511111111111112, total=   1.0s\n",
      "[CV] penalty=l2, C=3593.813663804626 .................................\n"
     ]
    },
    {
     "name": "stderr",
     "output_type": "stream",
     "text": [
      "[Parallel(n_jobs=1)]: Done   9 out of   9 | elapsed:   11.4s remaining:    0.0s\n"
     ]
    },
    {
     "name": "stdout",
     "output_type": "stream",
     "text": [
      "[CV]  penalty=l2, C=3593.813663804626, score=0.8507795100222717, total=   0.9s\n",
      "[CV] penalty=l1, C=1291.5496650148827 ................................\n",
      "[CV]  penalty=l1, C=1291.5496650148827, score=0.8980044345898004, total=   1.0s\n",
      "[CV] penalty=l1, C=1291.5496650148827 ................................\n",
      "[CV]  penalty=l1, C=1291.5496650148827, score=0.8933333333333333, total=   1.0s\n",
      "[CV] penalty=l1, C=1291.5496650148827 ................................\n",
      "[CV]  penalty=l1, C=1291.5496650148827, score=0.8888888888888888, total=   1.0s\n",
      "[CV] penalty=l1, C=1291.5496650148827 ................................\n",
      "[CV]  penalty=l1, C=1291.5496650148827, score=0.8755555555555555, total=   1.0s\n",
      "[CV] penalty=l1, C=1291.5496650148827 ................................\n",
      "[CV]  penalty=l1, C=1291.5496650148827, score=0.8619153674832962, total=   1.0s\n",
      "[CV] penalty=l2, C=464.15888336127773 ................................\n",
      "[CV]  penalty=l2, C=464.15888336127773, score=0.8647450110864745, total=   0.9s\n",
      "[CV] penalty=l2, C=464.15888336127773 ................................\n",
      "[CV]  penalty=l2, C=464.15888336127773, score=0.8644444444444445, total=   0.9s\n",
      "[CV] penalty=l2, C=464.15888336127773 ................................\n",
      "[CV]  penalty=l2, C=464.15888336127773, score=0.8555555555555555, total=   0.9s\n",
      "[CV] penalty=l2, C=464.15888336127773 ................................\n",
      "[CV]  penalty=l2, C=464.15888336127773, score=0.8488888888888889, total=   0.9s\n",
      "[CV] penalty=l2, C=464.15888336127773 ................................\n",
      "[CV]  penalty=l2, C=464.15888336127773, score=0.8463251670378619, total=   0.9s\n",
      "[CV] penalty=l1, C=464.15888336127773 ................................\n",
      "[CV]  penalty=l1, C=464.15888336127773, score=0.9046563192904656, total=   1.0s\n",
      "[CV] penalty=l1, C=464.15888336127773 ................................\n",
      "[CV]  penalty=l1, C=464.15888336127773, score=0.8911111111111111, total=   1.0s\n",
      "[CV] penalty=l1, C=464.15888336127773 ................................\n",
      "[CV]  penalty=l1, C=464.15888336127773, score=0.8844444444444445, total=   1.0s\n",
      "[CV] penalty=l1, C=464.15888336127773 ................................\n",
      "[CV]  penalty=l1, C=464.15888336127773, score=0.8777777777777778, total=   1.0s\n",
      "[CV] penalty=l1, C=464.15888336127773 ................................\n",
      "[CV]  penalty=l1, C=464.15888336127773, score=0.8708240534521158, total=   1.0s\n",
      "[CV] penalty=l1, C=21.544346900318832 ................................\n",
      "[CV]  penalty=l1, C=21.544346900318832, score=0.917960088691796, total=   0.9s\n",
      "[CV] penalty=l1, C=21.544346900318832 ................................\n",
      "[CV]  penalty=l1, C=21.544346900318832, score=0.8888888888888888, total=   0.9s\n",
      "[CV] penalty=l1, C=21.544346900318832 ................................\n",
      "[CV]  penalty=l1, C=21.544346900318832, score=0.8955555555555555, total=   1.0s\n",
      "[CV] penalty=l1, C=21.544346900318832 ................................\n",
      "[CV]  penalty=l1, C=21.544346900318832, score=0.8777777777777778, total=   0.9s\n",
      "[CV] penalty=l1, C=21.544346900318832 ................................\n",
      "[CV]  penalty=l1, C=21.544346900318832, score=0.8641425389755011, total=   0.9s\n",
      "[CV] penalty=l2, C=7.742636826811269 .................................\n",
      "[CV]  penalty=l2, C=7.742636826811269, score=0.8470066518847007, total=   0.9s\n",
      "[CV] penalty=l2, C=7.742636826811269 .................................\n",
      "[CV]  penalty=l2, C=7.742636826811269, score=0.8444444444444444, total=   0.9s\n",
      "[CV] penalty=l2, C=7.742636826811269 .................................\n",
      "[CV]  penalty=l2, C=7.742636826811269, score=0.8444444444444444, total=   0.9s\n",
      "[CV] penalty=l2, C=7.742636826811269 .................................\n",
      "[CV]  penalty=l2, C=7.742636826811269, score=0.8422222222222222, total=   0.9s\n",
      "[CV] penalty=l2, C=7.742636826811269 .................................\n",
      "[CV]  penalty=l2, C=7.742636826811269, score=0.844097995545657, total=   0.9s\n",
      "[CV] penalty=l1, C=7.742636826811269 .................................\n",
      "[CV]  penalty=l1, C=7.742636826811269, score=0.9135254988913526, total=   0.9s\n",
      "[CV] penalty=l1, C=7.742636826811269 .................................\n",
      "[CV]  penalty=l1, C=7.742636826811269, score=0.8977777777777778, total=   0.9s\n",
      "[CV] penalty=l1, C=7.742636826811269 .................................\n",
      "[CV]  penalty=l1, C=7.742636826811269, score=0.9044444444444445, total=   0.9s\n",
      "[CV] penalty=l1, C=7.742636826811269 .................................\n",
      "[CV]  penalty=l1, C=7.742636826811269, score=0.8911111111111111, total=   0.9s\n",
      "[CV] penalty=l1, C=7.742636826811269 .................................\n",
      "[CV]  penalty=l1, C=7.742636826811269, score=0.8663697104677061, total=   0.9s\n",
      "[CV] penalty=l2, C=1291.5496650148827 ................................\n",
      "[CV]  penalty=l2, C=1291.5496650148827, score=0.8647450110864745, total=   0.9s\n",
      "[CV] penalty=l2, C=1291.5496650148827 ................................\n",
      "[CV]  penalty=l2, C=1291.5496650148827, score=0.8688888888888889, total=   0.9s\n",
      "[CV] penalty=l2, C=1291.5496650148827 ................................\n",
      "[CV] ..... penalty=l2, C=1291.5496650148827, score=0.86, total=   0.9s\n",
      "[CV] penalty=l2, C=1291.5496650148827 ................................\n",
      "[CV]  penalty=l2, C=1291.5496650148827, score=0.8511111111111112, total=   0.9s\n",
      "[CV] penalty=l2, C=1291.5496650148827 ................................\n",
      "[CV]  penalty=l2, C=1291.5496650148827, score=0.8485523385300668, total=   0.9s\n",
      "[CV] penalty=l2, C=21.544346900318832 ................................\n",
      "[CV]  penalty=l2, C=21.544346900318832, score=0.8536585365853658, total=   0.9s\n",
      "[CV] penalty=l2, C=21.544346900318832 ................................\n",
      "[CV]  penalty=l2, C=21.544346900318832, score=0.8511111111111112, total=   0.9s\n",
      "[CV] penalty=l2, C=21.544346900318832 ................................\n",
      "[CV]  penalty=l2, C=21.544346900318832, score=0.8444444444444444, total=   0.9s\n",
      "[CV] penalty=l2, C=21.544346900318832 ................................\n",
      "[CV]  penalty=l2, C=21.544346900318832, score=0.8488888888888889, total=   0.9s\n",
      "[CV] penalty=l2, C=21.544346900318832 ................................\n",
      "[CV]  penalty=l2, C=21.544346900318832, score=0.844097995545657, total=   0.9s\n"
     ]
    },
    {
     "name": "stderr",
     "output_type": "stream",
     "text": [
      "[Parallel(n_jobs=1)]: Done  50 out of  50 | elapsed:   59.9s finished\n"
     ]
    }
   ],
   "source": [
    "bestmodel1 = clf.fit(w,y_train)"
   ]
  },
  {
   "cell_type": "code",
   "execution_count": 0,
   "metadata": {
    "colab": {
     "base_uri": "https://localhost:8080/",
     "height": 53
    },
    "colab_type": "code",
    "id": "rUzNuIn5xmh7",
    "outputId": "1b7db85a-2ee7-46c1-eb2f-1766559962dd"
   },
   "outputs": [
    {
     "name": "stdout",
     "output_type": "stream",
     "text": [
      "Best Penalty: l1\n",
      "Best C: 7.742636826811269\n"
     ]
    }
   ],
   "source": [
    "print('Best Penalty:', bestmodel1.best_estimator_.get_params()['penalty'])\n",
    "print('Best C:', bestmodel1.best_estimator_.get_params()['C'])\n"
   ]
  },
  {
   "cell_type": "code",
   "execution_count": 0,
   "metadata": {
    "colab": {},
    "colab_type": "code",
    "id": "KkwdIcdnxmh_"
   },
   "outputs": [],
   "source": [
    "y_true, y_pred = y_test,clf.predict(w2)\n"
   ]
  },
  {
   "cell_type": "code",
   "execution_count": 0,
   "metadata": {
    "colab": {
     "base_uri": "https://localhost:8080/",
     "height": 161
    },
    "colab_type": "code",
    "id": "ZbBxDEohxmiB",
    "outputId": "48658798-1117-4e18-a92e-923b6fd11138"
   },
   "outputs": [
    {
     "name": "stdout",
     "output_type": "stream",
     "text": [
      "             precision    recall  f1-score   support\n",
      "\n",
      "          0       0.62      0.53      0.57        99\n",
      "          1       0.93      0.95      0.94       651\n",
      "\n",
      "avg / total       0.89      0.89      0.89       750\n",
      "\n",
      "(0.8946666666666667, 0.8946666666666667, 0.8946666666666667, None)\n"
     ]
    }
   ],
   "source": [
    "\n",
    "from sklearn.metrics import precision_recall_fscore_support, classification_report\n",
    "\n",
    "print(classification_report(y_test, y_pred))\n",
    "print(precision_recall_fscore_support(y_test, y_pred, average='micro'))\n",
    "\n"
   ]
  },
  {
   "cell_type": "markdown",
   "metadata": {
    "colab_type": "text",
    "id": "oi-Mo14I54Vx"
   },
   "source": [
    "Observing Sparcity in L1,L2 Regularization\n",
    "------------------------"
   ]
  },
  {
   "cell_type": "code",
   "execution_count": 0,
   "metadata": {
    "colab": {},
    "colab_type": "code",
    "id": "h-2ryaNbxmiL"
   },
   "outputs": [],
   "source": [
    "weights1 =[]\n",
    "for item in C:\n",
    "    lg = LogisticRegression(C=item, penalty='l1')\n",
    "    lg.fit(w[0:1000],y_train[0:1000])\n",
    "    weights1.append(np.count_nonzero(lg.coef_))"
   ]
  },
  {
   "cell_type": "code",
   "execution_count": 0,
   "metadata": {
    "colab": {},
    "colab_type": "code",
    "id": "6bKMZ2CRyjt5"
   },
   "outputs": [],
   "source": [
    "weights =[]\n",
    "for item in C:\n",
    "    lg = LogisticRegression(C=item, penalty='l2')\n",
    "    lg.fit(w[0:1000],y_train[0:1000])\n",
    "    weights.append(np.count_nonzero(lg.coef_)"
   ]
  },
  {
   "cell_type": "code",
   "execution_count": 0,
   "metadata": {
    "colab": {
     "base_uri": "https://localhost:8080/",
     "height": 376
    },
    "colab_type": "code",
    "id": "CLrvWrrejObf",
    "outputId": "cd32c000-9683-4f38-9a23-7400f29bf268"
   },
   "outputs": [
    {
     "data": {
      "image/png": "[encoded data removed]",
      "text/plain": [
       "<matplotlib.figure.Figure at 0x7f72920959e8>"
      ]
     },
     "metadata": {
      "tags": []
     },
     "output_type": "display_data"
    }
   ],
   "source": [
    "plt.plot(C,weights1)\n",
    "ymin, ymax = plt.ylim()\n",
    "plt.xlabel('C')\n",
    "plt.ylabel('non-zero weights')\n",
    "plt.title('Sparcity in l1 regularization')\n",
    "plt.axis('tight')\n",
    "plt.show()"
   ]
  },
  {
   "cell_type": "markdown",
   "metadata": {
    "colab_type": "text",
    "id": "aB6YQqW-krKg"
   },
   "source": [
    "#From the above plot we can clearly see that L1 regularization  creates sparsity\n"
   ]
  },
  {
   "cell_type": "code",
   "execution_count": 0,
   "metadata": {
    "colab": {
     "base_uri": "https://localhost:8080/",
     "height": 376
    },
    "colab_type": "code",
    "id": "_6HroVIYy1yn",
    "outputId": "bf7ba60e-c5a0-417d-f6e0-4f22e8a818b8"
   },
   "outputs": [
    {
     "data": {
      "image/png": "[encoded data removed]",
      "text/plain": [
       "<matplotlib.figure.Figure at 0x7f72937c1390>"
      ]
     },
     "metadata": {
      "tags": []
     },
     "output_type": "display_data"
    }
   ],
   "source": [
    "plt.plot(C,weights)\n",
    "ymin, ymax = plt.ylim()\n",
    "plt.xlabel('C')\n",
    "plt.ylabel('non-zero weights')\n",
    "plt.title('Sparcity in l2 regularization')\n",
    "plt.axis('tight')\n",
    "plt.show()"
   ]
  },
  {
   "cell_type": "markdown",
   "metadata": {
    "colab_type": "text",
    "id": "Mouwoyg_6B_M"
   },
   "source": [
    "Checking Multicollinearity\n",
    "-----------"
   ]
  },
  {
   "cell_type": "code",
   "execution_count": 0,
   "metadata": {
    "colab": {
     "base_uri": "https://localhost:8080/",
     "height": 347
    },
    "colab_type": "code",
    "id": "x63stfPPQ6CE",
    "outputId": "ad0a70c8-d5e7-46fb-89da-2e07876f3441"
   },
   "outputs": [
    {
     "data": {
      "image/png": "[encoded data removed]",
      "text/plain": [
       "<matplotlib.figure.Figure at 0x7f72946ad0f0>"
      ]
     },
     "metadata": {
      "tags": []
     },
     "output_type": "display_data"
    }
   ],
   "source": [
    "from sklearn.linear_model import LogisticRegression\n",
    "\n",
    "import seaborn as ssb\n",
    "noise = np.random.normal(loc=0.1,scale=0.1,size=100)\n",
    "noise = noise.reshape(100,1)\n",
    "noise_counts = w[0:100] + noise\n",
    "l1 = LogisticRegression(C=7,penalty='l1')\n",
    "l1.fit(w[0:100],y_train[0:100])\n",
    "l2 = LogisticRegression(C=7,penalty='l1')\n",
    "l2.fit(noise_counts,y_train[0:100])\n",
    "weights = np.array(l1.coef_)\n",
    "weight_noise = np.array(l2.coef_)\n",
    "weight = np.subtract(weights,weight_noise)\n",
    "ssb.distplot(weight)\n",
    "plt.show()\n"
   ]
  },
  {
   "cell_type": "markdown",
   "metadata": {
    "colab_type": "text",
    "id": "SjwPImq56gs_"
   },
   "source": [
    "**since the weights did not differ much i.e almost all the values are 0 we can use these features for modeling**"
   ]
  },
  {
   "cell_type": "code",
   "execution_count": 0,
   "metadata": {
    "colab": {
     "base_uri": "https://localhost:8080/",
     "height": 89
    },
    "colab_type": "code",
    "id": "JVGKo6QrK15q",
    "outputId": "f3bdcdcf-e633-4813-92c4-b36133821681"
   },
   "outputs": [
    {
     "name": "stdout",
     "output_type": "stream",
     "text": [
      "Accuracy on test set:  89.60000000000001 %\n",
      "confusion matrix\n",
      "[[ 53  46]\n",
      " [ 32 619]]\n"
     ]
    }
   ],
   "source": [
    "from sklearn.metrics import accuracy_score\n",
    "from sklearn.metrics import confusion_matrix\n",
    "model = LogisticRegression(C=7,penalty='l1')\n",
    "model.fit(w,y_train)\n",
    "pred = model.predict(w2)\n",
    "acc = accuracy_score(y_test,pred)\n",
    "confusion = confusion_matrix(y_test,pred)\n",
    "print('Accuracy on test set: ',acc*100,\"%\")\n",
    "print('confusion matrix')\n",
    "print(confusion)"
   ]
  },
  {
   "cell_type": "code",
   "execution_count": 0,
   "metadata": {
    "colab": {
     "base_uri": "https://localhost:8080/",
     "height": 35
    },
    "colab_type": "code",
    "id": "0V_pUl58QIkP",
    "outputId": "ddadfcd4-f096-4a17-db4d-ce263cec90b7"
   },
   "outputs": [
    {
     "name": "stdout",
     "output_type": "stream",
     "text": [
      "Accuracy on training set 97.2 %\n"
     ]
    }
   ],
   "source": [
    "model = LogisticRegression(C=7,penalty='l1')\n",
    "model.fit(w,y_train)\n",
    "pred = model.predict(w)\n",
    "acc = accuracy_score(y_train,pred)\n",
    "print('Accuracy on training set',acc*100,'%')"
   ]
  },
  {
   "cell_type": "code",
   "execution_count": 0,
   "metadata": {
    "colab": {
     "base_uri": "https://localhost:8080/",
     "height": 233
    },
    "colab_type": "code",
    "id": "RqPU3GeYQXnh",
    "outputId": "6caf50a8-c748-4174-bb07-d1b5e994764a"
   },
   "outputs": [
    {
     "name": "stdout",
     "output_type": "stream",
     "text": [
      "  Top 10 Feat \n",
      "            words       coefficients\n",
      "29298        home  9.683420949353382\n",
      "10424       chick  9.673354348199254\n",
      "69572  youll find  9.446962758281025\n",
      "29656  hot chocol  9.431074957993324\n",
      "16249       didnt  9.332920914441534\n",
      "32949       label  9.293406480505263\n",
      "60309   tast like     9.287782308518\n",
      "69174       write  9.218771142954218\n",
      "68841       would   9.19104504377822\n",
      "67391        well  9.116858827505174\n"
     ]
    }
   ],
   "source": [
    "feat = tfidf_vect.get_feature_names()\n",
    "feat = np.array(feat).reshape(1,69808)\n",
    "features = np.vstack((feat,np.absolute(model.coef_)))\n",
    "features= pd.DataFrame(data=features.T,columns=('words','coefficients'))\n",
    "top_feat= features.sort_values('coefficients',axis=0,inplace=False,ascending=False,kind='quicksort')\n",
    "print('  Top 10 Feat ')\n",
    "print(top_feat[0:10])"
   ]
  },
  {
   "cell_type": "markdown",
   "metadata": {
    "colab_type": "text",
    "id": "h3kpYFDemCZn"
   },
   "source": [
    "Summary\n",
    "======\n",
    "\n",
    "\n",
    "1.  Using tfidf featurization  to get text vectors\n",
    "\n",
    "2.  Obtaining optimal parameters using hyperparameter tuning using grid search and random search .\n",
    "\n",
    "3.  Obtaining best penality (L1,L2) \n",
    "2.  Observing sparcity in  L1 and L2 regularization.\n",
    "\n",
    "\n",
    "5.   Checking collinearity in features ,since featues are  not collinear we can use these features for modeling .\n",
    "2. Obtaining  various performance measures of the model.\n",
    "\n",
    "7.     Accuracy on training set is 97 and on test set is  89.\n",
    "\n",
    "9.    Obtaining top most important features .\n",
    "\n",
    "  \n",
    "\n",
    "\n",
    "\n",
    "\n",
    "\n"
   ]
  },
  {
   "cell_type": "code",
   "execution_count": 0,
   "metadata": {
    "colab": {},
    "colab_type": "code",
    "id": "UsqHBh45qnvv"
   },
   "outputs": [],
   "source": []
  }
 ],
 "metadata": {
  "colab": {
   "name": "Amazon_Grid_search_Random_search_final.ipynb",
   "provenance": [],
   "version": "0.3.2"
  },
  "kernelspec": {
   "display_name": "Python 3",
   "language": "python",
   "name": "python3"
  },
  "language_info": {
   "codemirror_mode": {
    "name": "ipython",
    "version": 3
   },
   "file_extension": ".py",
   "mimetype": "text/x-python",
   "name": "python",
   "nbconvert_exporter": "python",
   "pygments_lexer": "ipython3",
   "version": "3.7.6"
  }
 },
 "nbformat": 4,
 "nbformat_minor": 1
}
