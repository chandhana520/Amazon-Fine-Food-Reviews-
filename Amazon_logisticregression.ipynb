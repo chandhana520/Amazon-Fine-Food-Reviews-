{
 "cells": [
  {
   "cell_type": "markdown",
   "metadata": {
    "colab_type": "text",
    "id": "yI8hHeMFzjQp"
   },
   "source": [
    "  APPLYING LOGISTIC REGRESSION FOR AMAZON DATASET\n",
    "  ====================================\n",
    "\n"
   ]
  },
  {
   "cell_type": "markdown",
   "metadata": {
    "colab_type": "text",
    "id": "7ppnhwuLmXQ6"
   },
   "source": [
    "To apply Logistic regression and do hyperparameter tunning by Grid-search and Random-search for both L1 an L2  regularization.\n",
    "-----------"
   ]
  },
  {
   "cell_type": "code",
   "execution_count": 60,
   "metadata": {
    "colab": {},
    "colab_type": "code",
    "id": "O_Joi4dRzTjP"
   },
   "outputs": [],
   "source": [
    "import pandas as pd \n",
    "import numpy as np\n",
    "import matplotlib.pyplot as plot\n",
    "import pandas as pd\n",
    "import numpy as np\n",
    "from sklearn import linear_model, datasets\n",
    "from sklearn.model_selection import GridSearchCV\n",
    "import matplotlib.pyplot as plt\n",
    "from sklearn.metrics import accuracy_score\n",
    "from sklearn.metrics import confusion_matrix\n"
   ]
  },
  {
   "cell_type": "code",
   "execution_count": 2,
   "metadata": {
    "colab": {
     "base_uri": "https://localhost:8080/",
     "height": 369
    },
    "colab_type": "code",
    "id": "a6Uyz4sixmgZ",
    "outputId": "54335b96-2bc8-4b9c-97cc-f86294e63f49"
   },
   "outputs": [
    {
     "data": {
      "text/html": [
       "<div>\n",
       "<style scoped>\n",
       "    .dataframe tbody tr th:only-of-type {\n",
       "        vertical-align: middle;\n",
       "    }\n",
       "\n",
       "    .dataframe tbody tr th {\n",
       "        vertical-align: top;\n",
       "    }\n",
       "\n",
       "    .dataframe thead th {\n",
       "        text-align: right;\n",
       "    }\n",
       "</style>\n",
       "<table border=\"1\" class=\"dataframe\">\n",
       "  <thead>\n",
       "    <tr style=\"text-align: right;\">\n",
       "      <th></th>\n",
       "      <th>Id</th>\n",
       "      <th>ProductId</th>\n",
       "      <th>UserId</th>\n",
       "      <th>ProfileName</th>\n",
       "      <th>HelpfulnessNumerator</th>\n",
       "      <th>HelpfulnessDenominator</th>\n",
       "      <th>Score</th>\n",
       "      <th>Time</th>\n",
       "      <th>Summary</th>\n",
       "      <th>Text</th>\n",
       "      <th>cleanedText</th>\n",
       "    </tr>\n",
       "  </thead>\n",
       "  <tbody>\n",
       "    <tr>\n",
       "      <th>0</th>\n",
       "      <td>150524</td>\n",
       "      <td>0006641040</td>\n",
       "      <td>ACITT7DI6IDDL</td>\n",
       "      <td>shari zychinski</td>\n",
       "      <td>0</td>\n",
       "      <td>0</td>\n",
       "      <td>1</td>\n",
       "      <td>939340800</td>\n",
       "      <td>EVERY book is educational</td>\n",
       "      <td>this witty little book makes my son laugh at l...</td>\n",
       "      <td>b'witti littl book make son laugh loud recit c...</td>\n",
       "    </tr>\n",
       "    <tr>\n",
       "      <th>1</th>\n",
       "      <td>150506</td>\n",
       "      <td>0006641040</td>\n",
       "      <td>A2IW4PEEKO2R0U</td>\n",
       "      <td>Tracy</td>\n",
       "      <td>1</td>\n",
       "      <td>1</td>\n",
       "      <td>1</td>\n",
       "      <td>1194739200</td>\n",
       "      <td>Love the book, miss the hard cover version</td>\n",
       "      <td>I grew up reading these Sendak books, and watc...</td>\n",
       "      <td>b'grew read sendak book watch realli rosi movi...</td>\n",
       "    </tr>\n",
       "  </tbody>\n",
       "</table>\n",
       "</div>"
      ],
      "text/plain": [
       "       Id   ProductId          UserId      ProfileName  HelpfulnessNumerator  \\\n",
       "0  150524  0006641040   ACITT7DI6IDDL  shari zychinski                     0   \n",
       "1  150506  0006641040  A2IW4PEEKO2R0U            Tracy                     1   \n",
       "\n",
       "   HelpfulnessDenominator  Score        Time  \\\n",
       "0                       0      1   939340800   \n",
       "1                       1      1  1194739200   \n",
       "\n",
       "                                      Summary  \\\n",
       "0                   EVERY book is educational   \n",
       "1  Love the book, miss the hard cover version   \n",
       "\n",
       "                                                Text  \\\n",
       "0  this witty little book makes my son laugh at l...   \n",
       "1  I grew up reading these Sendak books, and watc...   \n",
       "\n",
       "                                         cleanedText  \n",
       "0  b'witti littl book make son laugh loud recit c...  \n",
       "1  b'grew read sendak book watch realli rosi movi...  "
      ]
     },
     "execution_count": 2,
     "metadata": {},
     "output_type": "execute_result"
    }
   ],
   "source": [
    "df=pd.read_csv('final_clean.csv')\n",
    "df.head(2)#loading preprocessed data "
   ]
  },
  {
   "cell_type": "code",
   "execution_count": 5,
   "metadata": {
    "colab": {
     "base_uri": "https://localhost:8080/",
     "height": 111
    },
    "colab_type": "code",
    "id": "nCcrn9nB3JtW",
    "outputId": "7f212104-4e23-45b2-e1ae-c5bf72cdb5bb"
   },
   "outputs": [
    {
     "data": {
      "text/html": [
       "<div>\n",
       "<style scoped>\n",
       "    .dataframe tbody tr th:only-of-type {\n",
       "        vertical-align: middle;\n",
       "    }\n",
       "\n",
       "    .dataframe tbody tr th {\n",
       "        vertical-align: top;\n",
       "    }\n",
       "\n",
       "    .dataframe thead th {\n",
       "        text-align: right;\n",
       "    }\n",
       "</style>\n",
       "<table border=\"1\" class=\"dataframe\">\n",
       "  <thead>\n",
       "    <tr style=\"text-align: right;\">\n",
       "      <th></th>\n",
       "      <th>cleanedText</th>\n",
       "      <th>Text</th>\n",
       "      <th>Score</th>\n",
       "    </tr>\n",
       "  </thead>\n",
       "  <tbody>\n",
       "    <tr>\n",
       "      <th>0</th>\n",
       "      <td>b'witti littl book make son laugh loud recit c...</td>\n",
       "      <td>this witty little book makes my son laugh at l...</td>\n",
       "      <td>1</td>\n",
       "    </tr>\n",
       "    <tr>\n",
       "      <th>1</th>\n",
       "      <td>b'grew read sendak book watch realli rosi movi...</td>\n",
       "      <td>I grew up reading these Sendak books, and watc...</td>\n",
       "      <td>1</td>\n",
       "    </tr>\n",
       "  </tbody>\n",
       "</table>\n",
       "</div>"
      ],
      "text/plain": [
       "                                         cleanedText  \\\n",
       "0  b'witti littl book make son laugh loud recit c...   \n",
       "1  b'grew read sendak book watch realli rosi movi...   \n",
       "\n",
       "                                                Text  Score  \n",
       "0  this witty little book makes my son laugh at l...      1  \n",
       "1  I grew up reading these Sendak books, and watc...      1  "
      ]
     },
     "execution_count": 5,
     "metadata": {},
     "output_type": "execute_result"
    }
   ],
   "source": [
    "\n",
    "data = df.filter(['cleanedText','Text','Score'],axis=1)\n",
    "data.head(2)"
   ]
  },
  {
   "cell_type": "code",
   "execution_count": 7,
   "metadata": {
    "colab": {},
    "colab_type": "code",
    "id": "zNi1FeRnxmgl"
   },
   "outputs": [],
   "source": [
    "\n",
    "from sklearn.cross_validation import train_test_split\n",
    "from sklearn.neighbors import KNeighborsClassifier\n",
    "from sklearn.metrics import accuracy_score\n",
    "from sklearn.cross_validation import cross_val_score\n",
    "from collections import Counter\n",
    "from sklearn.metrics import accuracy_score\n",
    "from sklearn import cross_validation"
   ]
  },
  {
   "cell_type": "code",
   "execution_count": 8,
   "metadata": {
    "colab": {},
    "colab_type": "code",
    "id": "A7LG1IcFCgXW"
   },
   "outputs": [],
   "source": [
    "X = data['cleanedText']\n",
    "y = data['Score']"
   ]
  },
  {
   "cell_type": "markdown",
   "metadata": {
    "colab_type": "text",
    "id": "AX_BcCF10LBD"
   },
   "source": [
    "SPLITTING DATA IN TO TRAIN AND TEST AND FEATURIZE TEXT UDING TF-IDF\n",
    "--------------"
   ]
  },
  {
   "cell_type": "code",
   "execution_count": 9,
   "metadata": {
    "colab": {
     "base_uri": "https://localhost:8080/",
     "height": 35
    },
    "colab_type": "code",
    "id": "_WnYJHViBxLN",
    "outputId": "de62132b-1433-4bf5-a087-8cbb848f8875"
   },
   "outputs": [
    {
     "data": {
      "text/plain": [
       "(273098,)"
      ]
     },
     "execution_count": 9,
     "metadata": {},
     "output_type": "execute_result"
    }
   ],
   "source": [
    "from sklearn.model_selection import train_test_split\n",
    "x_train, x_test, y_train, y_test = train_test_split(X,y)\n",
    "y_train.shape\n",
    "#spliting entire data into train and test"
   ]
  },
  {
   "cell_type": "code",
   "execution_count": 10,
   "metadata": {
    "colab": {},
    "colab_type": "code",
    "id": "A9FCFIwexmgt"
   },
   "outputs": [],
   "source": [
    "from sklearn.feature_extraction.text import TfidfVectorizer\n",
    "tfidf_vect = TfidfVectorizer()#tfidf featurization to convert text to vectors\n",
    "tfidf_train= tfidf_vect.fit_transform(x_train)\n",
    "tfidf_test = tfidf_vect.transform(x_test)"
   ]
  },
  {
   "cell_type": "markdown",
   "metadata": {
    "colab_type": "text",
    "id": "mqJbvL-20h-o"
   },
   "source": [
    "OBTAINING OPTIMAL PENALITY(L1,L2) AND LAMBDA USING GRID-SEARCH CV\n",
    "-------------"
   ]
  },
  {
   "cell_type": "code",
   "execution_count": 11,
   "metadata": {
    "colab": {},
    "colab_type": "code",
    "id": "39YRvukpxmhF"
   },
   "outputs": [],
   "source": [
    "# Create regularization penalty space\n",
    "penality=('l1','l2')\n",
    "\n",
    "# Create regularization hyperparameter space\n",
    "C = np.logspace(0, 4, 10)\n",
    "\n",
    "# Create hyperparameter options\n",
    "hyperparameters = dict(C=C, penalty=penality)"
   ]
  },
  {
   "cell_type": "code",
   "execution_count": 13,
   "metadata": {
    "colab": {},
    "colab_type": "code",
    "id": "FJ3rY9ah6dY3"
   },
   "outputs": [],
   "source": [
    "logistic = linear_model.LogisticRegression()#defining our model\n",
    "cf = GridSearchCV(logistic, hyperparameters, cv=5, verbose=30,n_jobs=-1)"
   ]
  },
  {
   "cell_type": "code",
   "execution_count": 14,
   "metadata": {
    "colab": {
     "base_uri": "https://localhost:8080/",
     "height": 4193
    },
    "colab_type": "code",
    "id": "01LosKKQxmhc",
    "outputId": "6977ca75-018f-4747-df12-1c6c7fe194a4"
   },
   "outputs": [
    {
     "name": "stdout",
     "output_type": "stream",
     "text": [
      "Fitting 5 folds for each of 20 candidates, totalling 100 fits\n",
      "[CV] C=1.0, penalty=l1 ...............................................\n",
      "[CV] C=1.0, penalty=l1 ...............................................\n",
      "[CV] C=1.0, penalty=l1 ...............................................\n",
      "[CV] C=1.0, penalty=l1 ...............................................\n",
      "[CV] C=1.0, penalty=l1 ...............................................\n",
      "[CV] C=1.0, penalty=l2 ...............................................\n",
      "[CV] C=1.0, penalty=l2 ...............................................\n",
      "[CV] C=1.0, penalty=l2 ...............................................\n",
      "[CV] ...... C=1.0, penalty=l2, score=0.9235627975100695, total=  16.9s\n",
      "[CV] ...... C=1.0, penalty=l2, score=0.9234712559502014, total=  16.4s\n",
      "[CV] C=1.0, penalty=l2 ...............................................\n"
     ]
    },
    {
     "name": "stderr",
     "output_type": "stream",
     "text": [
      "[Parallel(n_jobs=-1)]: Done   1 tasks      | elapsed:   18.7s\n",
      "[Parallel(n_jobs=-1)]: Done   2 tasks      | elapsed:   18.7s\n"
     ]
    },
    {
     "name": "stdout",
     "output_type": "stream",
     "text": [
      "[CV] C=1.0, penalty=l2 ...............................................\n",
      "[CV] ...... C=1.0, penalty=l2, score=0.9229769315269132, total=  17.2s\n"
     ]
    },
    {
     "name": "stderr",
     "output_type": "stream",
     "text": [
      "[Parallel(n_jobs=-1)]: Done   3 tasks      | elapsed:   19.2s\n"
     ]
    },
    {
     "name": "stdout",
     "output_type": "stream",
     "text": [
      "[CV] C=2.7825594022071245, penalty=l1 ................................\n",
      "[CV] ....... C=1.0, penalty=l1, score=0.924731773408034, total=  18.0s\n",
      "[CV] C=2.7825594022071245, penalty=l1 ................................\n"
     ]
    },
    {
     "name": "stderr",
     "output_type": "stream",
     "text": [
      "[Parallel(n_jobs=-1)]: Done   4 tasks      | elapsed:   19.6s\n"
     ]
    },
    {
     "name": "stdout",
     "output_type": "stream",
     "text": [
      "[CV] ...... C=1.0, penalty=l1, score=0.9233064811424386, total=  19.6s\n",
      "[CV] C=2.7825594022071245, penalty=l1 ................................\n"
     ]
    },
    {
     "name": "stderr",
     "output_type": "stream",
     "text": [
      "[Parallel(n_jobs=-1)]: Done   5 tasks      | elapsed:   20.2s\n"
     ]
    },
    {
     "name": "stdout",
     "output_type": "stream",
     "text": [
      "[CV] ....... C=1.0, penalty=l1, score=0.923489564262175, total=  20.6s\n",
      "[CV] C=2.7825594022071245, penalty=l1 ................................\n"
     ]
    },
    {
     "name": "stderr",
     "output_type": "stream",
     "text": [
      "[Parallel(n_jobs=-1)]: Done   6 tasks      | elapsed:   21.5s\n"
     ]
    },
    {
     "name": "stdout",
     "output_type": "stream",
     "text": [
      "[CV] ...... C=1.0, penalty=l1, score=0.9250823874038814, total=  20.8s\n",
      "[CV] ...... C=1.0, penalty=l1, score=0.9233064811424386, total=  21.3s\n",
      "[CV] C=2.7825594022071245, penalty=l1 ................................\n"
     ]
    },
    {
     "name": "stderr",
     "output_type": "stream",
     "text": [
      "[Parallel(n_jobs=-1)]: Done   7 tasks      | elapsed:   22.0s\n",
      "[Parallel(n_jobs=-1)]: Done   8 tasks      | elapsed:   22.0s\n"
     ]
    },
    {
     "name": "stdout",
     "output_type": "stream",
     "text": [
      "[CV] C=2.7825594022071245, penalty=l2 ................................\n",
      "[CV] ...... C=1.0, penalty=l2, score=0.9234501446409609, total=  15.6s\n",
      "[CV] C=2.7825594022071245, penalty=l2 ................................\n"
     ]
    },
    {
     "name": "stderr",
     "output_type": "stream",
     "text": [
      "[Parallel(n_jobs=-1)]: Done   9 tasks      | elapsed:   34.8s\n"
     ]
    },
    {
     "name": "stdout",
     "output_type": "stream",
     "text": [
      "[CV] ...... C=1.0, penalty=l2, score=0.9242585133650677, total=  17.6s\n",
      "[CV] C=2.7825594022071245, penalty=l2 ................................\n"
     ]
    },
    {
     "name": "stderr",
     "output_type": "stream",
     "text": [
      "[Parallel(n_jobs=-1)]: Done  10 tasks      | elapsed:   36.4s\n"
     ]
    },
    {
     "name": "stdout",
     "output_type": "stream",
     "text": [
      "[CV]  C=2.7825594022071245, penalty=l2, score=0.9246429879165141, total=  20.8s\n",
      "[CV] C=2.7825594022071245, penalty=l2 ................................\n"
     ]
    },
    {
     "name": "stderr",
     "output_type": "stream",
     "text": [
      "[Parallel(n_jobs=-1)]: Done  11 tasks      | elapsed:   43.2s\n"
     ]
    },
    {
     "name": "stdout",
     "output_type": "stream",
     "text": [
      "[CV]  C=2.7825594022071245, penalty=l1, score=0.9237824972537532, total=  24.0s\n",
      "[CV] C=2.7825594022071245, penalty=l2 ................................\n"
     ]
    },
    {
     "name": "stderr",
     "output_type": "stream",
     "text": [
      "[Parallel(n_jobs=-1)]: Done  12 tasks      | elapsed:   43.8s\n"
     ]
    },
    {
     "name": "stdout",
     "output_type": "stream",
     "text": [
      "[CV]  C=2.7825594022071245, penalty=l1, score=0.9259428780666422, total=  23.7s\n",
      "[CV] C=7.742636826811269, penalty=l1 .................................\n"
     ]
    },
    {
     "name": "stderr",
     "output_type": "stream",
     "text": [
      "[Parallel(n_jobs=-1)]: Done  13 tasks      | elapsed:   45.4s\n"
     ]
    },
    {
     "name": "stdout",
     "output_type": "stream",
     "text": [
      "[CV]  C=2.7825594022071245, penalty=l1, score=0.9239655803734895, total=  26.5s\n",
      "[CV] C=7.742636826811269, penalty=l1 .................................\n"
     ]
    },
    {
     "name": "stderr",
     "output_type": "stream",
     "text": [
      "[Parallel(n_jobs=-1)]: Done  14 tasks      | elapsed:   46.2s\n"
     ]
    },
    {
     "name": "stdout",
     "output_type": "stream",
     "text": [
      "[CV]  C=2.7825594022071245, penalty=l1, score=0.9245120656193929, total=  24.3s\n"
     ]
    },
    {
     "name": "stderr",
     "output_type": "stream",
     "text": [
      "[Parallel(n_jobs=-1)]: Done  15 tasks      | elapsed:   46.7s\n"
     ]
    },
    {
     "name": "stdout",
     "output_type": "stream",
     "text": [
      "[CV] C=7.742636826811269, penalty=l1 .................................\n",
      "[CV]  C=2.7825594022071245, penalty=l1, score=0.9249725375320396, total=  28.6s\n",
      "[CV] C=7.742636826811269, penalty=l1 .................................\n"
     ]
    },
    {
     "name": "stderr",
     "output_type": "stream",
     "text": [
      "[Parallel(n_jobs=-1)]: Done  16 tasks      | elapsed:   49.0s\n"
     ]
    },
    {
     "name": "stdout",
     "output_type": "stream",
     "text": [
      "[CV]  C=2.7825594022071245, penalty=l2, score=0.9245331380446723, total=  20.8s\n",
      "[CV] C=7.742636826811269, penalty=l1 .................................\n"
     ]
    },
    {
     "name": "stderr",
     "output_type": "stream",
     "text": [
      "[Parallel(n_jobs=-1)]: Done  17 tasks      | elapsed:   55.8s\n"
     ]
    },
    {
     "name": "stdout",
     "output_type": "stream",
     "text": [
      "[CV]  C=2.7825594022071245, penalty=l2, score=0.9249725375320396, total=  21.2s\n",
      "[CV] C=7.742636826811269, penalty=l2 .................................\n"
     ]
    },
    {
     "name": "stderr",
     "output_type": "stream",
     "text": [
      "[Parallel(n_jobs=-1)]: Done  18 tasks      | elapsed:   57.7s\n"
     ]
    },
    {
     "name": "stdout",
     "output_type": "stream",
     "text": [
      "[CV]  C=2.7825594022071245, penalty=l2, score=0.9249514811966751, total=  21.9s\n",
      "[CV] C=7.742636826811269, penalty=l2 .................................\n"
     ]
    },
    {
     "name": "stderr",
     "output_type": "stream",
     "text": [
      "[Parallel(n_jobs=-1)]: Done  19 tasks      | elapsed:  1.1min\n"
     ]
    },
    {
     "name": "stdout",
     "output_type": "stream",
     "text": [
      "[CV]  C=2.7825594022071245, penalty=l2, score=0.9256682533870377, total=  27.5s\n",
      "[CV] C=7.742636826811269, penalty=l2 .................................\n"
     ]
    },
    {
     "name": "stderr",
     "output_type": "stream",
     "text": [
      "[Parallel(n_jobs=-1)]: Done  20 tasks      | elapsed:  1.2min\n"
     ]
    },
    {
     "name": "stdout",
     "output_type": "stream",
     "text": [
      "[CV]  C=7.742636826811269, penalty=l1, score=0.9215122665690223, total=  32.5s\n",
      "[CV] C=7.742636826811269, penalty=l2 .................................\n"
     ]
    },
    {
     "name": "stderr",
     "output_type": "stream",
     "text": [
      "[Parallel(n_jobs=-1)]: Done  21 tasks      | elapsed:  1.3min\n"
     ]
    },
    {
     "name": "stdout",
     "output_type": "stream",
     "text": [
      "[CV]  C=7.742636826811269, penalty=l1, score=0.9213291834492859, total=  33.3s\n",
      "[CV] C=7.742636826811269, penalty=l2 .................................\n"
     ]
    },
    {
     "name": "stderr",
     "output_type": "stream",
     "text": [
      "[Parallel(n_jobs=-1)]: Done  22 tasks      | elapsed:  1.3min\n"
     ]
    },
    {
     "name": "stdout",
     "output_type": "stream",
     "text": [
      "[CV]  C=7.742636826811269, penalty=l1, score=0.9213658000732332, total=  34.4s\n",
      "[CV] C=21.544346900318832, penalty=l1 ................................\n"
     ]
    },
    {
     "name": "stderr",
     "output_type": "stream",
     "text": [
      "[Parallel(n_jobs=-1)]: Done  23 tasks      | elapsed:  1.4min\n"
     ]
    },
    {
     "name": "stdout",
     "output_type": "stream",
     "text": [
      "[CV]  C=7.742636826811269, penalty=l1, score=0.9222995239838887, total=  34.0s\n",
      "[CV] C=21.544346900318832, penalty=l1 ................................\n"
     ]
    },
    {
     "name": "stderr",
     "output_type": "stream",
     "text": [
      "[Parallel(n_jobs=-1)]: Done  24 tasks      | elapsed:  1.4min\n"
     ]
    },
    {
     "name": "stdout",
     "output_type": "stream",
     "text": [
      "[CV]  C=7.742636826811269, penalty=l2, score=0.9235261808861223, total=  28.4s\n",
      "[CV] C=21.544346900318832, penalty=l1 ................................\n"
     ]
    },
    {
     "name": "stderr",
     "output_type": "stream",
     "text": [
      "[Parallel(n_jobs=-1)]: Done  25 tasks      | elapsed:  1.4min\n"
     ]
    },
    {
     "name": "stdout",
     "output_type": "stream",
     "text": [
      "[CV]  C=7.742636826811269, penalty=l1, score=0.9210150499835219, total=  33.4s\n",
      "[CV] C=21.544346900318832, penalty=l1 ................................\n"
     ]
    },
    {
     "name": "stderr",
     "output_type": "stream",
     "text": [
      "[Parallel(n_jobs=-1)]: Done  26 tasks      | elapsed:  1.5min\n"
     ]
    },
    {
     "name": "stdout",
     "output_type": "stream",
     "text": [
      "[CV]  C=7.742636826811269, penalty=l2, score=0.9242218967411204, total=  31.6s\n",
      "[CV] C=21.544346900318832, penalty=l1 ................................\n"
     ]
    },
    {
     "name": "stderr",
     "output_type": "stream",
     "text": [
      "[Parallel(n_jobs=-1)]: Done  27 tasks      | elapsed:  1.6min\n"
     ]
    },
    {
     "name": "stdout",
     "output_type": "stream",
     "text": [
      "[CV]  C=7.742636826811269, penalty=l2, score=0.9244049798608568, total=  30.9s\n",
      "[CV] C=21.544346900318832, penalty=l2 ................................\n"
     ]
    },
    {
     "name": "stderr",
     "output_type": "stream",
     "text": [
      "[Parallel(n_jobs=-1)]: Done  28 tasks      | elapsed:  1.7min\n"
     ]
    },
    {
     "name": "stdout",
     "output_type": "stream",
     "text": [
      "[CV]  C=7.742636826811269, penalty=l2, score=0.9238895602182431, total=  31.7s\n",
      "[CV] C=21.544346900318832, penalty=l2 ................................\n"
     ]
    },
    {
     "name": "stderr",
     "output_type": "stream",
     "text": [
      "[Parallel(n_jobs=-1)]: Done  29 tasks      | elapsed:  1.9min\n"
     ]
    },
    {
     "name": "stdout",
     "output_type": "stream",
     "text": [
      "[CV]  C=7.742636826811269, penalty=l2, score=0.9257964115708531, total=  35.1s\n",
      "[CV] C=21.544346900318832, penalty=l2 ................................\n"
     ]
    },
    {
     "name": "stderr",
     "output_type": "stream",
     "text": [
      "[Parallel(n_jobs=-1)]: Done  30 tasks      | elapsed:  1.9min\n"
     ]
    },
    {
     "name": "stdout",
     "output_type": "stream",
     "text": [
      "[CV]  C=21.544346900318832, penalty=l1, score=0.9166239472720615, total=  40.1s\n",
      "[CV] C=21.544346900318832, penalty=l2 ................................\n"
     ]
    },
    {
     "name": "stderr",
     "output_type": "stream",
     "text": [
      "[Parallel(n_jobs=-1)]: Done  31 tasks      | elapsed:  2.0min\n"
     ]
    },
    {
     "name": "stdout",
     "output_type": "stream",
     "text": [
      "[CV]  C=21.544346900318832, penalty=l1, score=0.9167704137678506, total=  39.1s\n",
      "[CV] C=21.544346900318832, penalty=l2 ................................\n"
     ]
    },
    {
     "name": "stderr",
     "output_type": "stream",
     "text": [
      "[Parallel(n_jobs=-1)]: Done  32 tasks      | elapsed:  2.0min\n"
     ]
    },
    {
     "name": "stdout",
     "output_type": "stream",
     "text": [
      "[CV]  C=21.544346900318832, penalty=l1, score=0.9156719150494325, total=  36.8s\n",
      "[CV] C=59.94842503189409, penalty=l1 .................................\n"
     ]
    },
    {
     "name": "stderr",
     "output_type": "stream",
     "text": [
      "[Parallel(n_jobs=-1)]: Done  33 tasks      | elapsed:  2.1min\n"
     ]
    },
    {
     "name": "stdout",
     "output_type": "stream",
     "text": [
      "[CV]  C=21.544346900318832, penalty=l1, score=0.9152325155620652, total=  40.4s\n",
      "[CV] C=59.94842503189409, penalty=l1 .................................\n"
     ]
    },
    {
     "name": "stderr",
     "output_type": "stream",
     "text": [
      "[Parallel(n_jobs=-1)]: Done  34 tasks      | elapsed:  2.1min\n"
     ]
    },
    {
     "name": "stdout",
     "output_type": "stream",
     "text": [
      "[CV]  C=21.544346900318832, penalty=l1, score=0.9166025852283131, total=  36.8s\n",
      "[CV] C=59.94842503189409, penalty=l1 .................................\n"
     ]
    },
    {
     "name": "stderr",
     "output_type": "stream",
     "text": [
      "[Parallel(n_jobs=-1)]: Done  35 tasks      | elapsed:  2.2min\n"
     ]
    },
    {
     "name": "stdout",
     "output_type": "stream",
     "text": [
      "[CV]  C=21.544346900318832, penalty=l2, score=0.9221164408641523, total=  41.8s\n",
      "[CV] C=59.94842503189409, penalty=l1 .................................\n"
     ]
    },
    {
     "name": "stderr",
     "output_type": "stream",
     "text": [
      "[Parallel(n_jobs=-1)]: Done  36 tasks      | elapsed:  2.6min\n"
     ]
    },
    {
     "name": "stdout",
     "output_type": "stream",
     "text": [
      "[CV]  C=21.544346900318832, penalty=l2, score=0.9219150494324423, total=  52.3s\n",
      "[CV] C=59.94842503189409, penalty=l1 .................................\n"
     ]
    },
    {
     "name": "stderr",
     "output_type": "stream",
     "text": [
      "[Parallel(n_jobs=-1)]: Done  37 tasks      | elapsed:  2.6min\n"
     ]
    },
    {
     "name": "stdout",
     "output_type": "stream",
     "text": [
      "[CV]  C=21.544346900318832, penalty=l2, score=0.9223727572317832, total=  47.1s\n",
      "[CV] C=59.94842503189409, penalty=l2 .................................\n"
     ]
    },
    {
     "name": "stderr",
     "output_type": "stream",
     "text": [
      "[Parallel(n_jobs=-1)]: Done  38 tasks      | elapsed:  2.7min\n"
     ]
    },
    {
     "name": "stdout",
     "output_type": "stream",
     "text": [
      "[CV]  C=21.544346900318832, penalty=l2, score=0.9233247894544123, total=  43.0s\n",
      "[CV] C=59.94842503189409, penalty=l2 .................................\n"
     ]
    },
    {
     "name": "stderr",
     "output_type": "stream",
     "text": [
      "[Parallel(n_jobs=-1)]: Done  39 tasks      | elapsed:  2.8min\n"
     ]
    },
    {
     "name": "stdout",
     "output_type": "stream",
     "text": [
      "[CV]  C=21.544346900318832, penalty=l2, score=0.9220952799443407, total=  48.5s\n",
      "[CV] C=59.94842503189409, penalty=l2 .................................\n"
     ]
    },
    {
     "name": "stderr",
     "output_type": "stream",
     "text": [
      "[Parallel(n_jobs=-1)]: Done  40 tasks      | elapsed:  2.9min\n"
     ]
    },
    {
     "name": "stdout",
     "output_type": "stream",
     "text": [
      "[CV]  C=59.94842503189409, penalty=l1, score=0.9113694617356279, total=  45.2s\n",
      "[CV] C=59.94842503189409, penalty=l2 .................................\n"
     ]
    },
    {
     "name": "stderr",
     "output_type": "stream",
     "text": [
      "[Parallel(n_jobs=-1)]: Done  41 tasks      | elapsed:  2.9min\n"
     ]
    },
    {
     "name": "stdout",
     "output_type": "stream",
     "text": [
      "[CV]  C=59.94842503189409, penalty=l1, score=0.9107469791285243, total=  46.6s\n",
      "[CV] C=59.94842503189409, penalty=l2 .................................\n"
     ]
    },
    {
     "name": "stderr",
     "output_type": "stream",
     "text": [
      "[Parallel(n_jobs=-1)]: Done  42 tasks      | elapsed:  2.9min\n"
     ]
    },
    {
     "name": "stdout",
     "output_type": "stream",
     "text": [
      "[CV]  C=59.94842503189409, penalty=l1, score=0.9101428048333944, total=  46.1s\n",
      "[CV] C=166.81005372000593, penalty=l1 ................................\n"
     ]
    },
    {
     "name": "stderr",
     "output_type": "stream",
     "text": [
      "[Parallel(n_jobs=-1)]: Done  43 tasks      | elapsed:  3.0min\n"
     ]
    },
    {
     "name": "stdout",
     "output_type": "stream",
     "text": [
      "[CV]  C=59.94842503189409, penalty=l1, score=0.9100695715854998, total=  42.0s\n",
      "[CV] C=166.81005372000593, penalty=l1 ................................\n"
     ]
    },
    {
     "name": "stderr",
     "output_type": "stream",
     "text": [
      "[Parallel(n_jobs=-1)]: Done  44 tasks      | elapsed:  3.3min\n"
     ]
    },
    {
     "name": "stdout",
     "output_type": "stream",
     "text": [
      "[CV]  C=59.94842503189409, penalty=l1, score=0.9107437108645502, total=  42.6s\n",
      "[CV] C=166.81005372000593, penalty=l1 ................................\n"
     ]
    },
    {
     "name": "stderr",
     "output_type": "stream",
     "text": [
      "[Parallel(n_jobs=-1)]: Done  45 tasks      | elapsed:  3.3min\n"
     ]
    },
    {
     "name": "stdout",
     "output_type": "stream",
     "text": [
      "[CV]  C=166.81005372000593, penalty=l1, score=0.9074880995972171, total=  41.0s\n",
      "[CV] C=166.81005372000593, penalty=l1 ................................\n"
     ]
    },
    {
     "name": "stderr",
     "output_type": "stream",
     "text": [
      "[Parallel(n_jobs=-1)]: Done  46 tasks      | elapsed:  3.7min\n"
     ]
    },
    {
     "name": "stdout",
     "output_type": "stream",
     "text": [
      "[CV]  C=59.94842503189409, penalty=l2, score=0.9194983522519223, total=  54.5s\n",
      "[CV] C=166.81005372000593, penalty=l1 ................................\n"
     ]
    },
    {
     "name": "stderr",
     "output_type": "stream",
     "text": [
      "[Parallel(n_jobs=-1)]: Done  47 tasks      | elapsed:  3.8min\n"
     ]
    },
    {
     "name": "stdout",
     "output_type": "stream",
     "text": [
      "[CV]  C=59.94842503189409, penalty=l2, score=0.9196082021237642, total= 1.1min\n",
      "[CV] C=166.81005372000593, penalty=l2 ................................\n"
     ]
    },
    {
     "name": "stderr",
     "output_type": "stream",
     "text": [
      "[Parallel(n_jobs=-1)]: Done  48 tasks      | elapsed:  3.8min\n"
     ]
    },
    {
     "name": "stdout",
     "output_type": "stream",
     "text": [
      "[CV]  C=59.94842503189409, penalty=l2, score=0.9193885023800805, total= 1.2min\n",
      "[CV] C=166.81005372000593, penalty=l2 ................................\n",
      "[CV]  C=59.94842503189409, penalty=l2, score=0.9191658427624593, total=  58.0s\n"
     ]
    },
    {
     "name": "stderr",
     "output_type": "stream",
     "text": [
      "[Parallel(n_jobs=-1)]: Done  49 tasks      | elapsed:  3.9min\n",
      "[Parallel(n_jobs=-1)]: Done  50 tasks      | elapsed:  3.9min\n"
     ]
    },
    {
     "name": "stdout",
     "output_type": "stream",
     "text": [
      "[CV] C=166.81005372000593, penalty=l2 ................................\n",
      "[CV]  C=166.81005372000593, penalty=l1, score=0.9062614426949835, total=  42.0s\n",
      "[CV] C=166.81005372000593, penalty=l2 ................................\n"
     ]
    },
    {
     "name": "stderr",
     "output_type": "stream",
     "text": [
      "[Parallel(n_jobs=-1)]: Done  51 tasks      | elapsed:  4.0min\n"
     ]
    },
    {
     "name": "stdout",
     "output_type": "stream",
     "text": [
      "[CV]  C=59.94842503189409, penalty=l2, score=0.9183998535335042, total= 1.1min\n",
      "[CV] C=166.81005372000593, penalty=l2 ................................\n"
     ]
    },
    {
     "name": "stderr",
     "output_type": "stream",
     "text": [
      "[Parallel(n_jobs=-1)]: Done  52 tasks      | elapsed:  4.0min\n"
     ]
    },
    {
     "name": "stdout",
     "output_type": "stream",
     "text": [
      "[CV]  C=166.81005372000593, penalty=l1, score=0.9056389600878799, total=  48.5s\n",
      "[CV] C=464.15888336127773, penalty=l1 ................................\n"
     ]
    },
    {
     "name": "stderr",
     "output_type": "stream",
     "text": [
      "[Parallel(n_jobs=-1)]: Done  53 tasks      | elapsed:  4.1min\n"
     ]
    },
    {
     "name": "stdout",
     "output_type": "stream",
     "text": [
      "[CV]  C=166.81005372000593, penalty=l1, score=0.905584035151959, total=  48.8s\n",
      "[CV] C=464.15888336127773, penalty=l1 ................................\n"
     ]
    },
    {
     "name": "stderr",
     "output_type": "stream",
     "text": [
      "[Parallel(n_jobs=-1)]: Done  54 tasks      | elapsed:  4.5min\n"
     ]
    },
    {
     "name": "stdout",
     "output_type": "stream",
     "text": [
      "[CV]  C=166.81005372000593, penalty=l1, score=0.9062946281445677, total=  45.9s\n",
      "[CV] C=464.15888336127773, penalty=l1 ................................\n"
     ]
    },
    {
     "name": "stderr",
     "output_type": "stream",
     "text": [
      "[Parallel(n_jobs=-1)]: Done  55 tasks      | elapsed:  4.5min\n"
     ]
    },
    {
     "name": "stdout",
     "output_type": "stream",
     "text": [
      "[CV]  C=464.15888336127773, penalty=l1, score=0.9035518125228854, total=  54.0s\n",
      "[CV] C=464.15888336127773, penalty=l1 ................................\n"
     ]
    },
    {
     "name": "stderr",
     "output_type": "stream",
     "text": [
      "[Parallel(n_jobs=-1)]: Done  56 tasks      | elapsed:  5.0min\n"
     ]
    },
    {
     "name": "stdout",
     "output_type": "stream",
     "text": [
      "[CV]  C=166.81005372000593, penalty=l2, score=0.9146283412669352, total= 1.3min\n",
      "[CV] C=464.15888336127773, penalty=l1 ................................\n"
     ]
    },
    {
     "name": "stderr",
     "output_type": "stream",
     "text": [
      "[Parallel(n_jobs=-1)]: Done  57 tasks      | elapsed:  5.2min\n"
     ]
    },
    {
     "name": "stdout",
     "output_type": "stream",
     "text": [
      "[CV]  C=464.15888336127773, penalty=l1, score=0.9034785792749909, total=  43.7s\n",
      "[CV] C=464.15888336127773, penalty=l2 ................................\n"
     ]
    },
    {
     "name": "stderr",
     "output_type": "stream",
     "text": [
      "[Parallel(n_jobs=-1)]: Done  58 tasks      | elapsed:  5.3min\n"
     ]
    },
    {
     "name": "stdout",
     "output_type": "stream",
     "text": [
      "[CV]  C=464.15888336127773, penalty=l1, score=0.9020139143171, total=  46.3s\n",
      "[CV] C=464.15888336127773, penalty=l2 ................................\n"
     ]
    },
    {
     "name": "stderr",
     "output_type": "stream",
     "text": [
      "[Parallel(n_jobs=-1)]: Done  59 tasks      | elapsed:  5.3min\n"
     ]
    },
    {
     "name": "stdout",
     "output_type": "stream",
     "text": [
      "[CV]  C=166.81005372000593, penalty=l2, score=0.9150677407543024, total= 1.4min\n",
      "[CV] C=464.15888336127773, penalty=l2 ................................\n"
     ]
    },
    {
     "name": "stderr",
     "output_type": "stream",
     "text": [
      "[Parallel(n_jobs=-1)]: Done  60 tasks      | elapsed:  5.3min\n"
     ]
    },
    {
     "name": "stdout",
     "output_type": "stream",
     "text": [
      "[CV]  C=166.81005372000593, penalty=l2, score=0.9158733064811424, total= 1.6min\n",
      "[CV] C=464.15888336127773, penalty=l2 ................................\n"
     ]
    },
    {
     "name": "stderr",
     "output_type": "stream",
     "text": [
      "[Parallel(n_jobs=-1)]: Done  61 tasks      | elapsed:  5.5min\n"
     ]
    },
    {
     "name": "stdout",
     "output_type": "stream",
     "text": [
      "[CV]  C=166.81005372000593, penalty=l2, score=0.916093006224826, total= 1.6min\n",
      "[CV] C=464.15888336127773, penalty=l2 ................................\n"
     ]
    },
    {
     "name": "stderr",
     "output_type": "stream",
     "text": [
      "[Parallel(n_jobs=-1)]: Done  62 tasks      | elapsed:  5.5min\n"
     ]
    },
    {
     "name": "stdout",
     "output_type": "stream",
     "text": [
      "[CV]  C=464.15888336127773, penalty=l1, score=0.9020505309410473, total=  43.5s\n",
      "[CV] C=1291.5496650148827, penalty=l1 ................................\n"
     ]
    },
    {
     "name": "stderr",
     "output_type": "stream",
     "text": [
      "[Parallel(n_jobs=-1)]: Done  63 tasks      | elapsed:  5.7min\n"
     ]
    },
    {
     "name": "stdout",
     "output_type": "stream",
     "text": [
      "[CV]  C=166.81005372000593, penalty=l2, score=0.9154491193379471, total= 1.9min\n",
      "[CV] C=1291.5496650148827, penalty=l1 ................................\n"
     ]
    },
    {
     "name": "stderr",
     "output_type": "stream",
     "text": [
      "[Parallel(n_jobs=-1)]: Done  64 tasks      | elapsed:  5.9min\n"
     ]
    },
    {
     "name": "stdout",
     "output_type": "stream",
     "text": [
      "[CV]  C=464.15888336127773, penalty=l1, score=0.9031088652092717, total=  52.9s\n",
      "[CV] C=1291.5496650148827, penalty=l1 ................................\n"
     ]
    },
    {
     "name": "stderr",
     "output_type": "stream",
     "text": [
      "[Parallel(n_jobs=-1)]: Done  65 tasks      | elapsed:  6.1min\n"
     ]
    },
    {
     "name": "stdout",
     "output_type": "stream",
     "text": [
      "[CV]  C=1291.5496650148827, penalty=l1, score=0.9017026730135481, total=  53.1s\n",
      "[CV] C=1291.5496650148827, penalty=l1 ................................\n"
     ]
    },
    {
     "name": "stderr",
     "output_type": "stream",
     "text": [
      "[Parallel(n_jobs=-1)]: Done  66 tasks      | elapsed:  6.6min\n"
     ]
    },
    {
     "name": "stdout",
     "output_type": "stream",
     "text": [
      "[CV]  C=1291.5496650148827, penalty=l1, score=0.9020505309410473, total=  53.4s\n",
      "[CV] C=1291.5496650148827, penalty=l1 ................................\n"
     ]
    },
    {
     "name": "stderr",
     "output_type": "stream",
     "text": [
      "[Parallel(n_jobs=-1)]: Done  67 tasks      | elapsed:  6.8min\n"
     ]
    },
    {
     "name": "stdout",
     "output_type": "stream",
     "text": [
      "[CV]  C=1291.5496650148827, penalty=l1, score=0.8997803002563164, total=  57.5s\n",
      "[CV] C=1291.5496650148827, penalty=l2 ................................\n"
     ]
    },
    {
     "name": "stderr",
     "output_type": "stream",
     "text": [
      "[Parallel(n_jobs=-1)]: Done  68 tasks      | elapsed:  7.1min\n"
     ]
    },
    {
     "name": "stdout",
     "output_type": "stream",
     "text": [
      "[CV]  C=464.15888336127773, penalty=l2, score=0.9098315635298425, total= 1.9min\n",
      "[CV] C=1291.5496650148827, penalty=l2 ................................\n"
     ]
    },
    {
     "name": "stderr",
     "output_type": "stream",
     "text": [
      "[Parallel(n_jobs=-1)]: Done  69 tasks      | elapsed:  7.3min\n"
     ]
    },
    {
     "name": "stdout",
     "output_type": "stream",
     "text": [
      "[CV]  C=464.15888336127773, penalty=l2, score=0.9122482607103625, total= 2.1min\n",
      "[CV] C=1291.5496650148827, penalty=l2 ................................\n"
     ]
    },
    {
     "name": "stderr",
     "output_type": "stream",
     "text": [
      "[Parallel(n_jobs=-1)]: Done  70 tasks      | elapsed:  7.4min\n"
     ]
    },
    {
     "name": "stdout",
     "output_type": "stream",
     "text": [
      "[CV]  C=1291.5496650148827, penalty=l1, score=0.9003295496155255, total=  55.0s\n",
      "[CV] C=1291.5496650148827, penalty=l2 ................................\n"
     ]
    },
    {
     "name": "stderr",
     "output_type": "stream",
     "text": [
      "[Parallel(n_jobs=-1)]: Done  71 tasks      | elapsed:  7.5min\n"
     ]
    },
    {
     "name": "stdout",
     "output_type": "stream",
     "text": [
      "[CV]  C=1291.5496650148827, penalty=l1, score=0.9008385513933136, total=  50.4s\n",
      "[CV] C=1291.5496650148827, penalty=l2 ................................\n"
     ]
    },
    {
     "name": "stderr",
     "output_type": "stream",
     "text": [
      "[Parallel(n_jobs=-1)]: Done  72 tasks      | elapsed:  7.6min\n"
     ]
    },
    {
     "name": "stdout",
     "output_type": "stream",
     "text": [
      "[CV]  C=464.15888336127773, penalty=l2, score=0.9108718737412574, total= 2.4min\n",
      "[CV] C=3593.813663804626, penalty=l1 .................................\n"
     ]
    },
    {
     "name": "stderr",
     "output_type": "stream",
     "text": [
      "[Parallel(n_jobs=-1)]: Done  73 tasks      | elapsed:  7.9min\n"
     ]
    },
    {
     "name": "stdout",
     "output_type": "stream",
     "text": [
      "[CV]  C=3593.813663804626, penalty=l1, score=0.9000366166239473, total=  51.1s\n",
      "[CV] C=3593.813663804626, penalty=l1 .................................\n"
     ]
    },
    {
     "name": "stderr",
     "output_type": "stream",
     "text": [
      "[Parallel(n_jobs=-1)]: Done  74 tasks      | elapsed:  8.8min\n"
     ]
    },
    {
     "name": "stdout",
     "output_type": "stream",
     "text": [
      "[CV]  C=3593.813663804626, penalty=l1, score=0.9001281581838154, total= 1.0min\n",
      "[CV] C=3593.813663804626, penalty=l1 .................................\n"
     ]
    },
    {
     "name": "stderr",
     "output_type": "stream",
     "text": [
      "[Parallel(n_jobs=-1)]: Done  75 tasks      | elapsed:  9.8min\n"
     ]
    },
    {
     "name": "stdout",
     "output_type": "stream",
     "text": [
      "[CV]  C=464.15888336127773, penalty=l2, score=0.9122299523983889, total= 4.7min\n",
      "[CV] C=3593.813663804626, penalty=l1 .................................\n"
     ]
    },
    {
     "name": "stderr",
     "output_type": "stream",
     "text": [
      "[Parallel(n_jobs=-1)]: Done  76 tasks      | elapsed: 10.0min\n"
     ]
    },
    {
     "name": "stdout",
     "output_type": "stream",
     "text": [
      "[CV]  C=464.15888336127773, penalty=l2, score=0.9104906627608934, total= 4.7min\n",
      "[CV] C=3593.813663804626, penalty=l1 .................................\n"
     ]
    },
    {
     "name": "stderr",
     "output_type": "stream",
     "text": [
      "[Parallel(n_jobs=-1)]: Done  77 tasks      | elapsed: 10.2min\n"
     ]
    },
    {
     "name": "stdout",
     "output_type": "stream",
     "text": [
      "[CV]  C=3593.813663804626, penalty=l1, score=0.8979128524350055, total=  52.5s\n",
      "[CV] C=3593.813663804626, penalty=l2 .................................\n"
     ]
    },
    {
     "name": "stderr",
     "output_type": "stream",
     "text": [
      "[Parallel(n_jobs=-1)]: Done  78 tasks      | elapsed: 10.7min\n"
     ]
    },
    {
     "name": "stdout",
     "output_type": "stream",
     "text": [
      "[CV]  C=3593.813663804626, penalty=l1, score=0.8992859758330282, total=  52.6s\n",
      "[CV] C=3593.813663804626, penalty=l2 .................................\n"
     ]
    },
    {
     "name": "stderr",
     "output_type": "stream",
     "text": [
      "[Parallel(n_jobs=-1)]: Done  79 tasks      | elapsed: 10.9min\n"
     ]
    },
    {
     "name": "stdout",
     "output_type": "stream",
     "text": [
      "[CV]  C=1291.5496650148827, penalty=l2, score=0.9072317832295862, total= 3.6min\n",
      "[CV] C=3593.813663804626, penalty=l2 .................................\n"
     ]
    },
    {
     "name": "stderr",
     "output_type": "stream",
     "text": [
      "[Parallel(n_jobs=-1)]: Done  80 tasks      | elapsed: 11.0min\n"
     ]
    },
    {
     "name": "stdout",
     "output_type": "stream",
     "text": [
      "[CV]  C=3593.813663804626, penalty=l1, score=0.8991541250137317, total=  49.7s\n",
      "[CV] C=3593.813663804626, penalty=l2 .................................\n"
     ]
    },
    {
     "name": "stderr",
     "output_type": "stream",
     "text": [
      "[Parallel(n_jobs=-1)]: Done  81 tasks      | elapsed: 11.0min\n"
     ]
    },
    {
     "name": "stdout",
     "output_type": "stream",
     "text": [
      "[CV]  C=1291.5496650148827, penalty=l2, score=0.9084401318198462, total= 4.4min\n",
      "[CV] C=3593.813663804626, penalty=l2 .................................\n"
     ]
    },
    {
     "name": "stderr",
     "output_type": "stream",
     "text": [
      "[Parallel(n_jobs=-1)]: Done  82 tasks      | elapsed: 11.7min\n"
     ]
    },
    {
     "name": "stdout",
     "output_type": "stream",
     "text": [
      "[CV]  C=1291.5496650148827, penalty=l2, score=0.9083302819480044, total= 5.6min\n",
      "[CV] C=10000.0, penalty=l1 ...........................................\n"
     ]
    },
    {
     "name": "stderr",
     "output_type": "stream",
     "text": [
      "[Parallel(n_jobs=-1)]: Done  83 tasks      | elapsed: 12.7min\n"
     ]
    },
    {
     "name": "stdout",
     "output_type": "stream",
     "text": [
      "[CV]  C=1291.5496650148827, penalty=l2, score=0.9081621443480171, total= 5.4min\n",
      "[CV] C=10000.0, penalty=l1 ...........................................\n"
     ]
    },
    {
     "name": "stderr",
     "output_type": "stream",
     "text": [
      "[Parallel(n_jobs=-1)]: Done  84 tasks      | elapsed: 13.0min\n"
     ]
    },
    {
     "name": "stdout",
     "output_type": "stream",
     "text": [
      "[CV] ... C=10000.0, penalty=l1, score=0.898645184913951, total= 1.0min\n",
      "[CV] C=10000.0, penalty=l1 ...........................................\n"
     ]
    },
    {
     "name": "stderr",
     "output_type": "stream",
     "text": [
      "[Parallel(n_jobs=-1)]: Done  85 tasks      | elapsed: 13.7min\n"
     ]
    },
    {
     "name": "stdout",
     "output_type": "stream",
     "text": [
      "[CV] .. C=10000.0, penalty=l1, score=0.8986268766019773, total= 1.0min\n",
      "[CV] C=10000.0, penalty=l1 ...........................................\n",
      "[CV] .. C=10000.0, penalty=l1, score=0.8967960454046137, total= 1.0min\n",
      "[CV] C=10000.0, penalty=l1 ...........................................\n",
      "[CV] .. C=10000.0, penalty=l1, score=0.8981691688026364, total=  58.3s\n",
      "[CV] C=10000.0, penalty=l2 ...........................................\n",
      "[CV] .. C=10000.0, penalty=l1, score=0.8979274231938189, total=  55.5s\n",
      "[CV] C=10000.0, penalty=l2 ...........................................\n"
     ]
    },
    {
     "name": "stderr",
     "output_type": "stream",
     "text": [
      "[Parallel(n_jobs=-1)]: Done  89 out of 100 | elapsed: 15.6min remaining:  1.9min\n"
     ]
    },
    {
     "name": "stdout",
     "output_type": "stream",
     "text": [
      "[CV]  C=1291.5496650148827, penalty=l2, score=0.9075430245331381, total= 8.9min\n",
      "[CV] C=10000.0, penalty=l2 ...........................................\n",
      "[CV]  C=3593.813663804626, penalty=l2, score=0.9061847742502471, total= 5.6min\n",
      "[CV] C=10000.0, penalty=l2 ...........................................\n",
      "[CV]  C=3593.813663804626, penalty=l2, score=0.9045953863053826, total= 6.7min\n",
      "[CV] C=10000.0, penalty=l2 ...........................................\n",
      "[CV]  C=3593.813663804626, penalty=l2, score=0.9068656169901135, total= 7.0min\n"
     ]
    },
    {
     "name": "stderr",
     "output_type": "stream",
     "text": [
      "[Parallel(n_jobs=-1)]: Done  93 out of 100 | elapsed: 17.9min remaining:  1.3min\n"
     ]
    },
    {
     "name": "stdout",
     "output_type": "stream",
     "text": [
      "[CV]  C=3593.813663804626, penalty=l2, score=0.9061699011351153, total= 7.5min\n",
      "[CV]  C=3593.813663804626, penalty=l2, score=0.9074880995972171, total= 8.1min\n",
      "[CV] ... C=10000.0, penalty=l2, score=0.905181252288539, total= 6.2min\n",
      "[CV] .. C=10000.0, penalty=l2, score=0.9066642255584035, total= 7.2min\n"
     ]
    },
    {
     "name": "stderr",
     "output_type": "stream",
     "text": [
      "[Parallel(n_jobs=-1)]: Done  97 out of 100 | elapsed: 22.2min remaining:   41.2s\n"
     ]
    },
    {
     "name": "stdout",
     "output_type": "stream",
     "text": [
      "[CV] .. C=10000.0, penalty=l2, score=0.9042074041524772, total= 5.4min\n",
      "[CV] .. C=10000.0, penalty=l2, score=0.9032771878432808, total= 5.8min\n",
      "[CV] .. C=10000.0, penalty=l2, score=0.9035335042109117, total= 6.7min\n"
     ]
    },
    {
     "name": "stderr",
     "output_type": "stream",
     "text": [
      "[Parallel(n_jobs=-1)]: Done 100 out of 100 | elapsed: 23.1min finished\n"
     ]
    },
    {
     "name": "stdout",
     "output_type": "stream",
     "text": [
      "0:23:17.467650\n"
     ]
    }
   ],
   "source": [
    "from datetime import datetime\n",
    "startTime = datetime.now()\n",
    "\n",
    "#lets run GridsearchCV on our data\n",
    "bestmodel=cf.fit(tfidf_train, y_train)\n",
    "\n",
    "print(datetime.now() - startTime)\n"
   ]
  },
  {
   "cell_type": "code",
   "execution_count": 15,
   "metadata": {
    "colab": {
     "base_uri": "https://localhost:8080/",
     "height": 53
    },
    "colab_type": "code",
    "id": "nUVCXKup8dNr",
    "outputId": "795a1037-608e-4a8f-8456-4fbe0e8dcb59"
   },
   "outputs": [
    {
     "name": "stdout",
     "output_type": "stream",
     "text": [
      "Best Penalty: l2\n",
      "Best C: 2.7825594022071245\n"
     ]
    }
   ],
   "source": [
    "print('Best Penalty:', bestmodel.best_estimator_.get_params()['penalty'])\n",
    "print('Best C:', bestmodel.best_estimator_.get_params()['C'])\n"
   ]
  },
  {
   "cell_type": "code",
   "execution_count": 17,
   "metadata": {
    "colab": {},
    "colab_type": "code",
    "id": "nGoMQPoCxmhm"
   },
   "outputs": [],
   "source": [
    "y_true, y_pred = y_test,cf.predict(tfidf_test)"
   ]
  },
  {
   "cell_type": "code",
   "execution_count": 18,
   "metadata": {
    "colab": {
     "base_uri": "https://localhost:8080/",
     "height": 161
    },
    "colab_type": "code",
    "id": "xYmhE-_rxmhw",
    "outputId": "333b37b9-d27f-41cc-8d6d-0eeeeecb4835"
   },
   "outputs": [
    {
     "name": "stdout",
     "output_type": "stream",
     "text": [
      "             precision    recall  f1-score   support\n",
      "\n",
      "          0       0.83      0.67      0.74     14341\n",
      "          1       0.94      0.97      0.96     76692\n",
      "\n",
      "avg / total       0.92      0.93      0.92     91033\n",
      "\n",
      "(0.925455604011732, 0.925455604011732, 0.925455604011732, None)\n"
     ]
    }
   ],
   "source": [
    "\n",
    "from sklearn.metrics import precision_recall_fscore_support, classification_report\n",
    "\n",
    "print(classification_report(y_test, y_pred))\n",
    "print(precision_recall_fscore_support(y_test, y_pred, average='micro'))\n",
    "#estimating various performance measures on test data by using our trained model"
   ]
  },
  {
   "cell_type": "markdown",
   "metadata": {
    "colab_type": "text",
    "id": "oj_YSyrg1A2B"
   },
   "source": [
    "OBTAINING OPTIMAL PENALITY(L1,L2) AND LAMBDA USING RANDOM-SEARCH CV\n",
    "-------------"
   ]
  },
  {
   "cell_type": "code",
   "execution_count": 19,
   "metadata": {
    "colab": {},
    "colab_type": "code",
    "id": "KrYOo7yQxmhz"
   },
   "outputs": [],
   "source": [
    "from sklearn.model_selection import RandomizedSearchCV\n",
    "clf  =RandomizedSearchCV(logistic, hyperparameters, cv=5, verbose=10)"
   ]
  },
  {
   "cell_type": "code",
   "execution_count": 20,
   "metadata": {
    "colab": {
     "base_uri": "https://localhost:8080/",
     "height": 2015
    },
    "colab_type": "code",
    "id": "Kl9uT0wSxmh3",
    "outputId": "019d8c9d-2967-4ce3-9e9e-30036f150dc5"
   },
   "outputs": [
    {
     "name": "stdout",
     "output_type": "stream",
     "text": [
      "Fitting 5 folds for each of 10 candidates, totalling 50 fits\n",
      "[CV] penalty=l2, C=21.544346900318832 ................................\n",
      "[CV]  penalty=l2, C=21.544346900318832, score=0.9219150494324423, total=  15.7s\n",
      "[CV] penalty=l2, C=21.544346900318832 ................................\n"
     ]
    },
    {
     "name": "stderr",
     "output_type": "stream",
     "text": [
      "[Parallel(n_jobs=1)]: Done   1 out of   1 | elapsed:   15.7s remaining:    0.0s\n"
     ]
    },
    {
     "name": "stdout",
     "output_type": "stream",
     "text": [
      "[CV]  penalty=l2, C=21.544346900318832, score=0.9221164408641523, total=  13.4s\n",
      "[CV] penalty=l2, C=21.544346900318832 ................................\n"
     ]
    },
    {
     "name": "stderr",
     "output_type": "stream",
     "text": [
      "[Parallel(n_jobs=1)]: Done   2 out of   2 | elapsed:   29.1s remaining:    0.0s\n"
     ]
    },
    {
     "name": "stdout",
     "output_type": "stream",
     "text": [
      "[CV]  penalty=l2, C=21.544346900318832, score=0.9223727572317832, total=  13.3s\n",
      "[CV] penalty=l2, C=21.544346900318832 ................................\n"
     ]
    },
    {
     "name": "stderr",
     "output_type": "stream",
     "text": [
      "[Parallel(n_jobs=1)]: Done   3 out of   3 | elapsed:   42.5s remaining:    0.0s\n"
     ]
    },
    {
     "name": "stdout",
     "output_type": "stream",
     "text": [
      "[CV]  penalty=l2, C=21.544346900318832, score=0.9233247894544123, total=  13.5s\n",
      "[CV] penalty=l2, C=21.544346900318832 ................................\n"
     ]
    },
    {
     "name": "stderr",
     "output_type": "stream",
     "text": [
      "[Parallel(n_jobs=1)]: Done   4 out of   4 | elapsed:   56.0s remaining:    0.0s\n"
     ]
    },
    {
     "name": "stdout",
     "output_type": "stream",
     "text": [
      "[CV]  penalty=l2, C=21.544346900318832, score=0.9220952799443407, total=  13.2s\n",
      "[CV] penalty=l1, C=10000.0 ...........................................\n"
     ]
    },
    {
     "name": "stderr",
     "output_type": "stream",
     "text": [
      "[Parallel(n_jobs=1)]: Done   5 out of   5 | elapsed:  1.2min remaining:    0.0s\n"
     ]
    },
    {
     "name": "stdout",
     "output_type": "stream",
     "text": [
      "[CV] .. penalty=l1, C=10000.0, score=0.8986268766019773, total=  14.5s\n",
      "[CV] penalty=l1, C=10000.0 ...........................................\n"
     ]
    },
    {
     "name": "stderr",
     "output_type": "stream",
     "text": [
      "[Parallel(n_jobs=1)]: Done   6 out of   6 | elapsed:  1.4min remaining:    0.0s\n"
     ]
    },
    {
     "name": "stdout",
     "output_type": "stream",
     "text": [
      "[CV] .. penalty=l1, C=10000.0, score=0.8987733430977664, total=  16.5s\n",
      "[CV] penalty=l1, C=10000.0 ...........................................\n"
     ]
    },
    {
     "name": "stderr",
     "output_type": "stream",
     "text": [
      "[Parallel(n_jobs=1)]: Done   7 out of   7 | elapsed:  1.7min remaining:    0.0s\n"
     ]
    },
    {
     "name": "stdout",
     "output_type": "stream",
     "text": [
      "[CV] .. penalty=l1, C=10000.0, score=0.8967777370926401, total=  15.9s\n",
      "[CV] penalty=l1, C=10000.0 ...........................................\n"
     ]
    },
    {
     "name": "stderr",
     "output_type": "stream",
     "text": [
      "[Parallel(n_jobs=1)]: Done   8 out of   8 | elapsed:  1.9min remaining:    0.0s\n"
     ]
    },
    {
     "name": "stdout",
     "output_type": "stream",
     "text": [
      "[CV] .. penalty=l1, C=10000.0, score=0.8981508604906627, total=  15.3s\n",
      "[CV] penalty=l1, C=10000.0 ...........................................\n"
     ]
    },
    {
     "name": "stderr",
     "output_type": "stream",
     "text": [
      "[Parallel(n_jobs=1)]: Done   9 out of   9 | elapsed:  2.2min remaining:    0.0s\n"
     ]
    },
    {
     "name": "stdout",
     "output_type": "stream",
     "text": [
      "[CV] .. penalty=l1, C=10000.0, score=0.8979274231938189, total=  17.2s\n",
      "[CV] penalty=l1, C=7.742636826811269 .................................\n",
      "[CV]  penalty=l1, C=7.742636826811269, score=0.921475649945075, total=  11.0s\n",
      "[CV] penalty=l1, C=7.742636826811269 .................................\n",
      "[CV]  penalty=l1, C=7.742636826811269, score=0.9213291834492859, total=  11.4s\n",
      "[CV] penalty=l1, C=7.742636826811269 .................................\n",
      "[CV]  penalty=l1, C=7.742636826811269, score=0.9213841083852069, total=  11.2s\n",
      "[CV] penalty=l1, C=7.742636826811269 .................................\n",
      "[CV]  penalty=l1, C=7.742636826811269, score=0.922336140607836, total=  11.3s\n",
      "[CV] penalty=l1, C=7.742636826811269 .................................\n",
      "[CV]  penalty=l1, C=7.742636826811269, score=0.9209967410011352, total=  10.9s\n",
      "[CV] penalty=l2, C=59.94842503189409 .................................\n",
      "[CV]  penalty=l2, C=59.94842503189409, score=0.9193885023800805, total=  19.6s\n",
      "[CV] penalty=l2, C=59.94842503189409 .................................\n",
      "[CV]  penalty=l2, C=59.94842503189409, score=0.9196082021237642, total=  20.6s\n",
      "[CV] penalty=l2, C=59.94842503189409 .................................\n",
      "[CV]  penalty=l2, C=59.94842503189409, score=0.9183998535335042, total=  18.0s\n",
      "[CV] penalty=l2, C=59.94842503189409 .................................\n",
      "[CV]  penalty=l2, C=59.94842503189409, score=0.9194983522519223, total=  16.4s\n",
      "[CV] penalty=l2, C=59.94842503189409 .................................\n",
      "[CV]  penalty=l2, C=59.94842503189409, score=0.9191658427624593, total=  18.8s\n",
      "[CV] penalty=l1, C=166.81005372000593 ................................\n",
      "[CV]  penalty=l1, C=166.81005372000593, score=0.9074880995972171, total=  14.0s\n",
      "[CV] penalty=l1, C=166.81005372000593 ................................\n",
      "[CV]  penalty=l1, C=166.81005372000593, score=0.9063896008787989, total=  13.8s\n",
      "[CV] penalty=l1, C=166.81005372000593 ................................\n",
      "[CV]  penalty=l1, C=166.81005372000593, score=0.9055657268399854, total=  15.2s\n",
      "[CV] penalty=l1, C=166.81005372000593 ................................\n",
      "[CV]  penalty=l1, C=166.81005372000593, score=0.905584035151959, total=  14.5s\n",
      "[CV] penalty=l1, C=166.81005372000593 ................................\n",
      "[CV]  penalty=l1, C=166.81005372000593, score=0.9062946281445677, total=  14.4s\n",
      "[CV] penalty=l2, C=1291.5496650148827 ................................\n",
      "[CV]  penalty=l2, C=1291.5496650148827, score=0.9083302819480044, total= 1.5min\n",
      "[CV] penalty=l2, C=1291.5496650148827 ................................\n",
      "[CV]  penalty=l2, C=1291.5496650148827, score=0.9084401318198462, total= 1.2min\n",
      "[CV] penalty=l2, C=1291.5496650148827 ................................\n",
      "[CV]  penalty=l2, C=1291.5496650148827, score=0.9072317832295862, total= 1.0min\n",
      "[CV] penalty=l2, C=1291.5496650148827 ................................\n",
      "[CV]  penalty=l2, C=1291.5496650148827, score=0.9075430245331381, total= 2.1min\n",
      "[CV] penalty=l2, C=1291.5496650148827 ................................\n",
      "[CV]  penalty=l2, C=1291.5496650148827, score=0.9081621443480171, total= 1.2min\n",
      "[CV] penalty=l2, C=166.81005372000593 ................................\n",
      "[CV]  penalty=l2, C=166.81005372000593, score=0.9158733064811424, total=  29.7s\n",
      "[CV] penalty=l2, C=166.81005372000593 ................................\n",
      "[CV]  penalty=l2, C=166.81005372000593, score=0.916093006224826, total=  27.0s\n",
      "[CV] penalty=l2, C=166.81005372000593 ................................\n",
      "[CV]  penalty=l2, C=166.81005372000593, score=0.9146283412669352, total=  26.0s\n",
      "[CV] penalty=l2, C=166.81005372000593 ................................\n",
      "[CV]  penalty=l2, C=166.81005372000593, score=0.9150677407543024, total=  24.6s\n",
      "[CV] penalty=l2, C=166.81005372000593 ................................\n",
      "[CV]  penalty=l2, C=166.81005372000593, score=0.9154491193379471, total=  28.5s\n",
      "[CV] penalty=l2, C=7.742636826811269 .................................\n",
      "[CV]  penalty=l2, C=7.742636826811269, score=0.9235261808861223, total=   9.6s\n",
      "[CV] penalty=l2, C=7.742636826811269 .................................\n",
      "[CV]  penalty=l2, C=7.742636826811269, score=0.9242218967411204, total=  10.6s\n",
      "[CV] penalty=l2, C=7.742636826811269 .................................\n",
      "[CV]  penalty=l2, C=7.742636826811269, score=0.9244049798608568, total=   9.1s\n",
      "[CV] penalty=l2, C=7.742636826811269 .................................\n",
      "[CV]  penalty=l2, C=7.742636826811269, score=0.9257964115708531, total=  10.4s\n",
      "[CV] penalty=l2, C=7.742636826811269 .................................\n",
      "[CV]  penalty=l2, C=7.742636826811269, score=0.9238895602182431, total=  10.0s\n",
      "[CV] penalty=l1, C=1291.5496650148827 ................................\n",
      "[CV]  penalty=l1, C=1291.5496650148827, score=0.9017759062614427, total=  15.4s\n",
      "[CV] penalty=l1, C=1291.5496650148827 ................................\n",
      "[CV]  penalty=l1, C=1291.5496650148827, score=0.9020505309410473, total=  15.1s\n",
      "[CV] penalty=l1, C=1291.5496650148827 ................................\n",
      "[CV]  penalty=l1, C=1291.5496650148827, score=0.8998718418161845, total=  15.6s\n",
      "[CV] penalty=l1, C=1291.5496650148827 ................................\n",
      "[CV]  penalty=l1, C=1291.5496650148827, score=0.9003295496155255, total=  14.7s\n",
      "[CV] penalty=l1, C=1291.5496650148827 ................................\n",
      "[CV]  penalty=l1, C=1291.5496650148827, score=0.9008568603757003, total=  12.5s\n",
      "[CV] penalty=l1, C=3593.813663804626 .................................\n",
      "[CV]  penalty=l1, C=3593.813663804626, score=0.9000183083119736, total=  15.3s\n",
      "[CV] penalty=l1, C=3593.813663804626 .................................\n",
      "[CV]  penalty=l1, C=3593.813663804626, score=0.9002746246796045, total=  14.4s\n",
      "[CV] penalty=l1, C=3593.813663804626 .................................\n",
      "[CV]  penalty=l1, C=3593.813663804626, score=0.8979311607469791, total=  14.9s\n",
      "[CV] penalty=l1, C=3593.813663804626 .................................\n",
      "[CV]  penalty=l1, C=3593.813663804626, score=0.8993225924569754, total=  14.9s\n",
      "[CV] penalty=l1, C=3593.813663804626 .................................\n",
      "[CV]  penalty=l1, C=3593.813663804626, score=0.8991724339961185, total=  14.8s\n"
     ]
    },
    {
     "name": "stderr",
     "output_type": "stream",
     "text": [
      "[Parallel(n_jobs=1)]: Done  50 out of  50 | elapsed: 18.9min finished\n"
     ]
    }
   ],
   "source": [
    "bestmodel1 = clf.fit(tfidf_train,y_train)"
   ]
  },
  {
   "cell_type": "code",
   "execution_count": 30,
   "metadata": {
    "colab": {
     "base_uri": "https://localhost:8080/",
     "height": 53
    },
    "colab_type": "code",
    "id": "rUzNuIn5xmh7",
    "outputId": "1b7db85a-2ee7-46c1-eb2f-1766559962dd"
   },
   "outputs": [
    {
     "name": "stdout",
     "output_type": "stream",
     "text": [
      "Best Penalty: l2\n",
      "Best C: 7.742636826811269\n"
     ]
    }
   ],
   "source": [
    "print('Best Penalty:', bestmodel1.best_estimator_.get_params()['penalty'])\n",
    "print('Best C:', bestmodel1.best_estimator_.get_params()['C'])\n"
   ]
  },
  {
   "cell_type": "code",
   "execution_count": 32,
   "metadata": {
    "colab": {},
    "colab_type": "code",
    "id": "KkwdIcdnxmh_"
   },
   "outputs": [],
   "source": [
    "y_true, y_pred = y_test,clf.predict(tfidf_test)\n",
    "#predicting test data through trained model"
   ]
  },
  {
   "cell_type": "code",
   "execution_count": 33,
   "metadata": {
    "colab": {
     "base_uri": "https://localhost:8080/",
     "height": 161
    },
    "colab_type": "code",
    "id": "ZbBxDEohxmiB",
    "outputId": "48658798-1117-4e18-a92e-923b6fd11138"
   },
   "outputs": [
    {
     "name": "stdout",
     "output_type": "stream",
     "text": [
      "             precision    recall  f1-score   support\n",
      "\n",
      "          0       0.71      0.64      0.67     14341\n",
      "          1       0.93      0.95      0.94     76692\n",
      "\n",
      "avg / total       0.90      0.90      0.90     91033\n",
      "\n",
      "(0.9023321213186427, 0.9023321213186427, 0.9023321213186426, None)\n"
     ]
    }
   ],
   "source": [
    "\n",
    "from sklearn.metrics import precision_recall_fscore_support, classification_report\n",
    "print(classification_report(y_test, y_pred))\n",
    "print(precision_recall_fscore_support(y_test, y_pred, average='micro'))\n",
    "#obtaining various performance measures on test data"
   ]
  },
  {
   "cell_type": "markdown",
   "metadata": {
    "colab_type": "text",
    "id": "oi-Mo14I54Vx"
   },
   "source": [
    "Observing Sparcity in L1,L2 Regularization\n",
    "------------------------"
   ]
  },
  {
   "cell_type": "code",
   "execution_count": 25,
   "metadata": {
    "colab": {},
    "colab_type": "code",
    "id": "h-2ryaNbxmiL"
   },
   "outputs": [],
   "source": [
    "from sklearn.linear_model import LogisticRegression\n",
    "weights1 =[]#list to store weights of model \n",
    "for item in C:\n",
    "    clf = LogisticRegression(C=item, penalty='l1')\n",
    "    clf.fit(tfidf_train,y_train)#fitting the logistic regression model\n",
    "    weights1.append(np.count_nonzero(clf.coef_))#appending weights to the list"
   ]
  },
  {
   "cell_type": "code",
   "execution_count": 44,
   "metadata": {
    "colab": {},
    "colab_type": "code",
    "id": "6bKMZ2CRyjt5"
   },
   "outputs": [],
   "source": [
    "weights =[]#list to store weights of model\n",
    "for item in C:\n",
    "    clf1 = LogisticRegression(C=item, penalty='l2')\n",
    "    clf1.fit(tfidf_train,y_train)#fitting the logistic regression model\n",
    "    weights.append(np.count_nonzero(clf1.coef_))"
   ]
  },
  {
   "cell_type": "code",
   "execution_count": 40,
   "metadata": {
    "colab": {
     "base_uri": "https://localhost:8080/",
     "height": 376
    },
    "colab_type": "code",
    "id": "CLrvWrrejObf",
    "outputId": "cd32c000-9683-4f38-9a23-7400f29bf268"
   },
   "outputs": [
    {
     "data": {
      "image/png": "[encoded data removed]",
      "text/plain": [
       "<Figure size 432x288 with 1 Axes>"
      ]
     },
     "metadata": {},
     "output_type": "display_data"
    }
   ],
   "source": [
    "#plotting sparsity of l1 regularization using weights (vs) C\n",
    "                                              ---------------      \n",
    "plt.plot(C,weights1)\n",
    "ymin, ymax = plt.ylim()\n",
    "plt.xlabel('C-------------->')\n",
    "plt.ylabel('weights------------->')\n",
    "plt.title('Sparcity in L1 regularization')\n",
    "plt.show()"
   ]
  },
  {
   "cell_type": "markdown",
   "metadata": {
    "colab_type": "text",
    "id": "aB6YQqW-krKg"
   },
   "source": [
    "From the above plot we can clearly see that L1 regularization  creates sparsity\n",
    "---------\n"
   ]
  },
  {
   "cell_type": "code",
   "execution_count": 46,
   "metadata": {
    "colab": {
     "base_uri": "https://localhost:8080/",
     "height": 376
    },
    "colab_type": "code",
    "id": "_6HroVIYy1yn",
    "outputId": "bf7ba60e-c5a0-417d-f6e0-4f22e8a818b8"
   },
   "outputs": [
    {
     "data": {
      "image/png": "[encoded data removed]",
      "text/plain": [
       "<Figure size 432x288 with 1 Axes>"
      ]
     },
     "metadata": {},
     "output_type": "display_data"
    }
   ],
   "source": [
    "plt.plot(C,weights)\n",
    "ymin, ymax = plt.ylim()\n",
    "plt.xlabel('C--------------->')\n",
    "plt.ylabel('weights-------------->')\n",
    "plt.title('Sparcity in L2 regularization')\n",
    "plt.show()"
   ]
  },
  {
   "cell_type": "markdown",
   "metadata": {
    "colab_type": "text",
    "id": "Mouwoyg_6B_M"
   },
   "source": [
    "Checking Multicollinearity\n",
    "-----------"
   ]
  },
  {
   "cell_type": "code",
   "execution_count": 36,
   "metadata": {},
   "outputs": [
    {
     "data": {
      "text/plain": [
       "(273098, 62063)"
      ]
     },
     "execution_count": 36,
     "metadata": {},
     "output_type": "execute_result"
    }
   ],
   "source": [
    "tfidf_train.shape"
   ]
  },
  {
   "cell_type": "code",
   "execution_count": 47,
   "metadata": {
    "colab": {
     "base_uri": "https://localhost:8080/",
     "height": 347
    },
    "colab_type": "code",
    "id": "x63stfPPQ6CE",
    "outputId": "ad0a70c8-d5e7-46fb-89da-2e07876f3441"
   },
   "outputs": [],
   "source": [
    "from sklearn.linear_model import LogisticRegression\n",
    "import seaborn as ssb\n",
    "noise = np.random.normal(loc=0.2,scale=0.1,size=10000)#Creating random noise\n",
    "noise = noise.reshape(10000,1)\n",
    "noise_counts = tfidf_train[0:10000] + noise#adding noise to traindata(10000 points)\n",
    "m1 = LogisticRegression(C=2.7,penalty='l2')#fitting model with optimal hyperparameters for traindata\n",
    "m1.fit(tfidf_train[0:10000],y_train[0:10000])\n",
    "m2 = LogisticRegression(C=2.7,penalty='l2')\n",
    "m2.fit(noise_counts,y_train[0:10000])#fitting model with optimal hyperparameters for noise added data\n",
    "weights = np.array(m1.coef_)#obtaining coefficients of modeled traindata features\n",
    "weight_noise = np.array(m2.coef_)#obtaining coefficients of modeled (noise+traindata )features\n",
    "final_weight = np.subtract(weights,weight_noise)\n"
   ]
  },
  {
   "cell_type": "code",
   "execution_count": 59,
   "metadata": {},
   "outputs": [
    {
     "name": "stderr",
     "output_type": "stream",
     "text": [
      "/home/chandhana520/anaconda3/lib/python3.6/site-packages/matplotlib/axes/_axes.py:6462: UserWarning: The 'normed' kwarg is deprecated, and has been replaced by the 'density' kwarg.\n",
      "  warnings.warn(\"The 'normed' kwarg is deprecated, and has been \"\n"
     ]
    },
    {
     "data": {
      "image/png": "[encoded data removed]",
      "text/plain": [
       "<Figure size 432x288 with 1 Axes>"
      ]
     },
     "metadata": {},
     "output_type": "display_data"
    }
   ],
   "source": [
    "ssb.distplot(final_weight,label='PERTUBATION FOR CHECKING MULTICOLLINEARITY')\n",
    "plt.show()\n"
   ]
  },
  {
   "cell_type": "markdown",
   "metadata": {
    "colab_type": "text",
    "id": "SjwPImq56gs_"
   },
   "source": [
    "**since the weights did not differ much i.e almost all the values are 0 we can use these features for modeling**\n",
    "---------"
   ]
  },
  {
   "cell_type": "markdown",
   "metadata": {},
   "source": [
    "Modelling using optimal hyperparameters obtained by GRID-SEARCH\n",
    "=========="
   ]
  },
  {
   "cell_type": "code",
   "execution_count": 50,
   "metadata": {
    "colab": {
     "base_uri": "https://localhost:8080/",
     "height": 89
    },
    "colab_type": "code",
    "id": "JVGKo6QrK15q",
    "outputId": "f3bdcdcf-e633-4813-92c4-b36133821681"
   },
   "outputs": [
    {
     "name": "stdout",
     "output_type": "stream",
     "text": [
      "Accuracy on training set 93.64294136170899 %\n",
      "Accuracy on test set:  92.5521514176178 %\n",
      "confusion matrix for test data\n"
     ]
    },
    {
     "data": {
      "image/png": "[encoded data removed]",
      "text/plain": [
       "<Figure size 432x288 with 2 Axes>"
      ]
     },
     "metadata": {},
     "output_type": "display_data"
    }
   ],
   "source": [
    "model = LogisticRegression(C=2.7,penalty='l2')\n",
    "model.fit(tfidf_train,y_train)\n",
    "pred = model.predict(tfidf_train)\n",
    "acc_train = accuracy_score(y_train,pred)\n",
    "print('Accuracy on training set',acc_train*100,'%')\n",
    "#obtaining trainingset accuracy\n",
    "\n",
    "predict = model.predict(tfidf_test)\n",
    "acc_test = accuracy_score(y_test,predict)\n",
    "confusion = confusion_matrix(y_test,predict)\n",
    "#obtaining testset accuracy\n",
    "print('Accuracy on test set: ',acc_test*100,\"%\")\n",
    "print('confusion matrix for test data')\n",
    "Q= ssb.heatmap(confusion, annot=True, fmt=\"d\")\n",
    "#printing confusion matrix for visualization\n",
    "\n"
   ]
  },
  {
   "cell_type": "markdown",
   "metadata": {},
   "source": [
    "Modelling using optimal hyperparameters obtained by RANDOMIZED-SEARCH\n",
    "=======\n"
   ]
  },
  {
   "cell_type": "code",
   "execution_count": 62,
   "metadata": {},
   "outputs": [
    {
     "name": "stdout",
     "output_type": "stream",
     "text": [
      "Accuracy on training set 94.22588228401526 %\n",
      "Accuracy on test set:  92.52029483813561 %\n",
      "confusion matrix for test data\n"
     ]
    },
    {
     "data": {
      "image/png": "[encoded data removed]",
      "text/plain": [
       "<Figure size 432x288 with 2 Axes>"
      ]
     },
     "metadata": {},
     "output_type": "display_data"
    }
   ],
   "source": [
    "model = LogisticRegression(C=7.7,penalty='l2')\n",
    "model.fit(tfidf_train,y_train)\n",
    "pred = model.predict(tfidf_train)\n",
    "acc_train = accuracy_score(y_train,pred)\n",
    "print('Accuracy on training set',acc_train*100,'%')\n",
    "#obtaining trainingset accuracy\n",
    "\n",
    "predict = model.predict(tfidf_test)\n",
    "acc_test = accuracy_score(y_test,predict)\n",
    "confusion = confusion_matrix(y_test,predict)\n",
    "#obtaining testset accuracy\n",
    "print('Accuracy on test set: ',acc_test*100,\"%\")\n",
    "print('confusion matrix for test data')\n",
    "Q= ssb.heatmap(confusion, annot=True, fmt=\"d\")\n",
    "#printing confusion matrix for visualization\n",
    "\n"
   ]
  },
  {
   "cell_type": "code",
   "execution_count": 61,
   "metadata": {
    "colab": {
     "base_uri": "https://localhost:8080/",
     "height": 233
    },
    "colab_type": "code",
    "id": "RqPU3GeYQXnh",
    "outputId": "6caf50a8-c748-4174-bb07-d1b5e994764a"
   },
   "outputs": [
    {
     "name": "stdout",
     "output_type": "stream",
     "text": [
      "<=======>  Top 10 words<=======> \n",
      "            words           coefficients\n",
      "3125         ashy  9.993292623282772e-05\n",
      "16566    dwscribe  9.952742774882282e-05\n",
      "39055      overpo   9.93693490951796e-05\n",
      "15251  disappoint       9.92824715922875\n",
      "14872      diatet  9.909617983225983e-05\n",
      "4170    barbecuas  9.899783298224324e-05\n",
      "25059       heniz  9.899783298224324e-05\n",
      "44543   recimmend  9.886826846074295e-05\n",
      "16299       drudg  9.772513205085405e-05\n",
      "55895     tresemm  9.690362121250458e-05\n"
     ]
    }
   ],
   "source": [
    "feat = tfidf_vect.get_feature_names()\n",
    "feat = np.array(feat)\n",
    "features = np.vstack((feat,np.absolute(model.coef_)))\n",
    "features= pd.DataFrame(data=features.T,columns=('words','coefficients'))\n",
    "top_feat= features.sort_values('coefficients',axis=0,inplace=False,ascending=False,kind='quicksort')\n",
    "print('<=======>  Top 10 words<=======> ')\n",
    "print(top_feat[0:10])"
   ]
  },
  {
   "cell_type": "markdown",
   "metadata": {
    "colab_type": "text",
    "id": "h3kpYFDemCZn"
   },
   "source": [
    "CONCLUSION\n",
    "======\n",
    "\n",
    "\n",
    "1.  Using tfidf featurization  to get text vectors\n",
    "\n",
    "2.  Obtaining optimal parameters using hyperparameter tuning using grid search and random search .\n",
    "\n",
    "3.  Obtaining best penality (L1,L2) \n",
    "2.  Observing sparcity in  L1 and L2 regularization.\n",
    "\n",
    "5.   Checking collinearity in features using pertubation technique,since featues are  not collinear we can use these features for modeling .\n",
    "2. Obtaining  various performance measures of the model.\n",
    "5. Grid search optimal parameters are C=2.7 and PENALITY=l2,Random search optimal parameters are C=7.7 and PENALITY=l2\n",
    "\n",
    "7.     Accuracy on training set is 93.64 and on test set is  92.55 when grid search is used for tuning hyperparameters,and 94.22 , 92.52 when random search is used\n",
    "\n",
    "9.    Obtaining top most important features .\n",
    "\n",
    "  \n",
    "\n",
    "\n",
    "\n",
    "\n",
    "\n"
   ]
  },
  {
   "cell_type": "code",
   "execution_count": null,
   "metadata": {},
   "outputs": [],
   "source": []
  }
 ],
 "metadata": {
  "colab": {
   "name": "Amazon_Grid_search_Random_search_final.ipynb",
   "provenance": [],
   "version": "0.3.2"
  },
  "kernelspec": {
   "display_name": "Python 3",
   "language": "python",
   "name": "python3"
  },
  "language_info": {
   "codemirror_mode": {
    "name": "ipython",
    "version": 3
   },
   "file_extension": ".py",
   "mimetype": "text/x-python",
   "name": "python",
   "nbconvert_exporter": "python",
   "pygments_lexer": "ipython3",
   "version": "3.6.4"
  }
 },
 "nbformat": 4,
 "nbformat_minor": 1
}
