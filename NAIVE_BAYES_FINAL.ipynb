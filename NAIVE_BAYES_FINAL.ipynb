{
 "cells": [
  {
   "cell_type": "markdown",
   "metadata": {
    "colab_type": "text",
    "id": "ZexYMOfmUPDp"
   },
   "source": [
    "APPLYING NAIVE-BAYES TO AMAZON DATASET\n",
    "==================="
   ]
  },
  {
   "cell_type": "markdown",
   "metadata": {
    "colab_type": "text",
    "id": "YPY5HlWGapNt"
   },
   "source": [
    "Aim:\n",
    "====\n",
    "To apply Naive bayes  to Amazon dataset and obtain Top most imporatant positive and negative words\n",
    "-------"
   ]
  },
  {
   "cell_type": "code",
   "execution_count": 0,
   "metadata": {
    "colab": {},
    "colab_type": "code",
    "id": "LOIXP82XkLAQ"
   },
   "outputs": [],
   "source": [
    "from sklearn.naive_bayes import MultinomialNB\n",
    "from sklearn.metrics import f1_score\n",
    "from sklearn.metrics import precision_score\n",
    "from sklearn.metrics import recall_score\n",
    "from sklearn.metrics import accuracy_score\n",
    "from sklearn.metrics import confusion_matrix\n",
    "\n",
    "from sklearn.metrics import f1_score\n",
    "import seaborn as sns\n",
    "from sklearn.feature_extraction.text import TfidfTransformer\n",
    "from sklearn.feature_extraction.text import TfidfVectorizer\n",
    "from sklearn.model_selection import GridSearchCV"
   ]
  },
  {
   "cell_type": "code",
   "execution_count": 7,
   "metadata": {
    "colab": {
     "base_uri": "https://localhost:8080/",
     "height": 369
    },
    "colab_type": "code",
    "id": "8K3t8Zo6t0Ca",
    "outputId": "c33a9727-c6a7-4864-93ff-410dd085348c"
   },
   "outputs": [
    {
     "data": {
      "text/html": [
       "<div>\n",
       "<style scoped>\n",
       "    .dataframe tbody tr th:only-of-type {\n",
       "        vertical-align: middle;\n",
       "    }\n",
       "\n",
       "    .dataframe tbody tr th {\n",
       "        vertical-align: top;\n",
       "    }\n",
       "\n",
       "    .dataframe thead th {\n",
       "        text-align: right;\n",
       "    }\n",
       "</style>\n",
       "<table border=\"1\" class=\"dataframe\">\n",
       "  <thead>\n",
       "    <tr style=\"text-align: right;\">\n",
       "      <th></th>\n",
       "      <th>Id</th>\n",
       "      <th>ProductId</th>\n",
       "      <th>UserId</th>\n",
       "      <th>ProfileName</th>\n",
       "      <th>HelpfulnessNumerator</th>\n",
       "      <th>HelpfulnessDenominator</th>\n",
       "      <th>Score</th>\n",
       "      <th>Time</th>\n",
       "      <th>Summary</th>\n",
       "      <th>Text</th>\n",
       "      <th>cleanedText</th>\n",
       "    </tr>\n",
       "  </thead>\n",
       "  <tbody>\n",
       "    <tr>\n",
       "      <th>0</th>\n",
       "      <td>150524</td>\n",
       "      <td>0006641040</td>\n",
       "      <td>ACITT7DI6IDDL</td>\n",
       "      <td>shari zychinski</td>\n",
       "      <td>0</td>\n",
       "      <td>0</td>\n",
       "      <td>1</td>\n",
       "      <td>939340800</td>\n",
       "      <td>EVERY book is educational</td>\n",
       "      <td>this witty little book makes my son laugh at l...</td>\n",
       "      <td>b'witti littl book make son laugh loud recit c...</td>\n",
       "    </tr>\n",
       "    <tr>\n",
       "      <th>1</th>\n",
       "      <td>150506</td>\n",
       "      <td>0006641040</td>\n",
       "      <td>A2IW4PEEKO2R0U</td>\n",
       "      <td>Tracy</td>\n",
       "      <td>1</td>\n",
       "      <td>1</td>\n",
       "      <td>1</td>\n",
       "      <td>1194739200</td>\n",
       "      <td>Love the book, miss the hard cover version</td>\n",
       "      <td>I grew up reading these Sendak books, and watc...</td>\n",
       "      <td>b'grew read sendak book watch realli rosi movi...</td>\n",
       "    </tr>\n",
       "  </tbody>\n",
       "</table>\n",
       "</div>"
      ],
      "text/plain": [
       "       Id   ProductId          UserId      ProfileName  HelpfulnessNumerator  \\\n",
       "0  150524  0006641040   ACITT7DI6IDDL  shari zychinski                     0   \n",
       "1  150506  0006641040  A2IW4PEEKO2R0U            Tracy                     1   \n",
       "\n",
       "   HelpfulnessDenominator  Score        Time  \\\n",
       "0                       0      1   939340800   \n",
       "1                       1      1  1194739200   \n",
       "\n",
       "                                      Summary  \\\n",
       "0                   EVERY book is educational   \n",
       "1  Love the book, miss the hard cover version   \n",
       "\n",
       "                                                Text  \\\n",
       "0  this witty little book makes my son laugh at l...   \n",
       "1  I grew up reading these Sendak books, and watc...   \n",
       "\n",
       "                                         cleanedText  \n",
       "0  b'witti littl book make son laugh loud recit c...  \n",
       "1  b'grew read sendak book watch realli rosi movi...  "
      ]
     },
     "execution_count": 7,
     "metadata": {
      "tags": []
     },
     "output_type": "execute_result"
    }
   ],
   "source": [
    "data = pd.read_csv('final_clean.csv')\n",
    "data.head(2)\n",
    "#reading preprocessed data using pandas"
   ]
  },
  {
   "cell_type": "code",
   "execution_count": 8,
   "metadata": {
    "colab": {
     "base_uri": "https://localhost:8080/",
     "height": 284
    },
    "colab_type": "code",
    "id": "zonAfWVLOSn1",
    "outputId": "b5e2bd74-c7ad-4c61-8379-1a183324a88d"
   },
   "outputs": [
    {
     "data": {
      "text/html": [
       "<div>\n",
       "<style scoped>\n",
       "    .dataframe tbody tr th:only-of-type {\n",
       "        vertical-align: middle;\n",
       "    }\n",
       "\n",
       "    .dataframe tbody tr th {\n",
       "        vertical-align: top;\n",
       "    }\n",
       "\n",
       "    .dataframe thead th {\n",
       "        text-align: right;\n",
       "    }\n",
       "</style>\n",
       "<table border=\"1\" class=\"dataframe\">\n",
       "  <thead>\n",
       "    <tr style=\"text-align: right;\">\n",
       "      <th></th>\n",
       "      <th>Id</th>\n",
       "      <th>ProductId</th>\n",
       "      <th>UserId</th>\n",
       "      <th>ProfileName</th>\n",
       "      <th>HelpfulnessNumerator</th>\n",
       "      <th>HelpfulnessDenominator</th>\n",
       "      <th>Score</th>\n",
       "      <th>Time</th>\n",
       "      <th>Summary</th>\n",
       "      <th>Text</th>\n",
       "      <th>cleanedText</th>\n",
       "    </tr>\n",
       "  </thead>\n",
       "  <tbody>\n",
       "    <tr>\n",
       "      <th>0</th>\n",
       "      <td>150524</td>\n",
       "      <td>0006641040</td>\n",
       "      <td>ACITT7DI6IDDL</td>\n",
       "      <td>shari zychinski</td>\n",
       "      <td>0</td>\n",
       "      <td>0</td>\n",
       "      <td>1</td>\n",
       "      <td>939340800</td>\n",
       "      <td>EVERY book is educational</td>\n",
       "      <td>this witty little book makes my son laugh at l...</td>\n",
       "      <td>b'witti littl book make son laugh loud recit c...</td>\n",
       "    </tr>\n",
       "    <tr>\n",
       "      <th>30</th>\n",
       "      <td>150501</td>\n",
       "      <td>0006641040</td>\n",
       "      <td>AJ46FKXOVC7NR</td>\n",
       "      <td>Nicholas A Mesiano</td>\n",
       "      <td>2</td>\n",
       "      <td>2</td>\n",
       "      <td>1</td>\n",
       "      <td>940809600</td>\n",
       "      <td>This whole series is great way to spend time w...</td>\n",
       "      <td>I can remember seeing the show when it aired o...</td>\n",
       "      <td>b'rememb see show air televis year ago child s...</td>\n",
       "    </tr>\n",
       "  </tbody>\n",
       "</table>\n",
       "</div>"
      ],
      "text/plain": [
       "        Id   ProductId         UserId         ProfileName  \\\n",
       "0   150524  0006641040  ACITT7DI6IDDL     shari zychinski   \n",
       "30  150501  0006641040  AJ46FKXOVC7NR  Nicholas A Mesiano   \n",
       "\n",
       "    HelpfulnessNumerator  HelpfulnessDenominator  Score       Time  \\\n",
       "0                      0                       0      1  939340800   \n",
       "30                     2                       2      1  940809600   \n",
       "\n",
       "                                              Summary  \\\n",
       "0                           EVERY book is educational   \n",
       "30  This whole series is great way to spend time w...   \n",
       "\n",
       "                                                 Text  \\\n",
       "0   this witty little book makes my son laugh at l...   \n",
       "30  I can remember seeing the show when it aired o...   \n",
       "\n",
       "                                          cleanedText  \n",
       "0   b'witti littl book make son laugh loud recit c...  \n",
       "30  b'rememb see show air televis year ago child s...  "
      ]
     },
     "execution_count": 8,
     "metadata": {
      "tags": []
     },
     "output_type": "execute_result"
    }
   ],
   "source": [
    "df1=data.sort_values('Time', axis=0, ascending=True,\n",
    "                   inplace=False, kind='quicksort', na_position='last')\n",
    "df1.head(2)\n"
   ]
  },
  {
   "cell_type": "code",
   "execution_count": 9,
   "metadata": {
    "colab": {
     "base_uri": "https://localhost:8080/",
     "height": 305
    },
    "colab_type": "code",
    "id": "jW3US9g2gaqj",
    "outputId": "926d868f-3ace-41fa-f97e-34e62140acf3"
   },
   "outputs": [
    {
     "name": "stdout",
     "output_type": "stream",
     "text": [
      "<class 'pandas.core.frame.DataFrame'>\n",
      "Int64Index: 364131 entries, 0 to 152780\n",
      "Data columns (total 11 columns):\n",
      "Id                        364131 non-null int64\n",
      "ProductId                 364131 non-null object\n",
      "UserId                    364131 non-null object\n",
      "ProfileName               364120 non-null object\n",
      "HelpfulnessNumerator      364131 non-null int64\n",
      "HelpfulnessDenominator    364131 non-null int64\n",
      "Score                     364131 non-null int64\n",
      "Time                      364131 non-null int64\n",
      "Summary                   364130 non-null object\n",
      "Text                      364131 non-null object\n",
      "cleanedText               364131 non-null object\n",
      "dtypes: int64(5), object(6)\n",
      "memory usage: 33.3+ MB\n"
     ]
    }
   ],
   "source": [
    "df1.info()"
   ]
  },
  {
   "cell_type": "markdown",
   "metadata": {
    "colab_type": "text",
    "id": "f0KojtBFUhe1"
   },
   "source": [
    "SAMPLING DATA\n",
    "---------"
   ]
  },
  {
   "cell_type": "code",
   "execution_count": 11,
   "metadata": {
    "colab": {
     "base_uri": "https://localhost:8080/",
     "height": 125
    },
    "colab_type": "code",
    "id": "Djs_oHVBuxvA",
    "outputId": "cd0ab667-bebf-4bbc-f517-645ff647c7ee"
   },
   "outputs": [
    {
     "data": {
      "text/plain": [
       "0      1\n",
       "30     1\n",
       "424    1\n",
       "330    1\n",
       "423    1\n",
       "Name: Score, dtype: int64"
      ]
     },
     "execution_count": 11,
     "metadata": {
      "tags": []
     },
     "output_type": "execute_result"
    }
   ],
   "source": [
    "label=df1['Score']\n",
    "df = df1.drop(\"Score\",axis=1)\n",
    "label.head(5)\n"
   ]
  },
  {
   "cell_type": "code",
   "execution_count": 0,
   "metadata": {
    "colab": {},
    "colab_type": "code",
    "id": "LnKZnpVZvjme"
   },
   "outputs": [],
   "source": [
    "X = df['cleanedText']\n",
    "Y = df1['Score']"
   ]
  },
  {
   "cell_type": "code",
   "execution_count": 0,
   "metadata": {
    "colab": {},
    "colab_type": "code",
    "id": "QNcxxGYTv2oK"
   },
   "outputs": [],
   "source": [
    "from sklearn import cross_validation\n",
    "X_train, X_test, Y_train, Y_test = cross_validation.train_test_split(X, Y, test_size=0.3, random_state=0)\n",
    "#   Indorder to do Cross validation we are splitting the dataset into two parts \n",
    "#i.e) 70% of entire data is TRAININGDATA and 30 % is TESTDATA "
   ]
  },
  {
   "cell_type": "markdown",
   "metadata": {
    "colab_type": "text",
    "id": "K964Qf5BbxIl"
   },
   "source": [
    "   Indorder to do Cross validation we are splitting the dataset into two parts i.e) 70% of entire data is TRAININGDATA and 30 % is TESTDATA \n",
    "  --------"
   ]
  },
  {
   "cell_type": "markdown",
   "metadata": {
    "colab_type": "text",
    "id": "I4SsQRUjUJtV"
   },
   "source": [
    "TFIDF FEATURIZATION FOR MULTINOMIAL NAIVE BAYES\n",
    "-------------"
   ]
  },
  {
   "cell_type": "code",
   "execution_count": 0,
   "metadata": {
    "colab": {},
    "colab_type": "code",
    "id": "dxKjsKJ4sO8Y"
   },
   "outputs": [],
   "source": [
    "tf_idf_vect = TfidfVectorizer(ngram_range=(1,2))\n",
    "train_features = tf_idf_vect.fit_transform(X_train)#train data featurization\n",
    "test_features = tf_idf_vect.transform(X_test)#test data featurization"
   ]
  },
  {
   "cell_type": "markdown",
   "metadata": {
    "colab_type": "text",
    "id": "BpSRVVfDevrO"
   },
   "source": [
    "Grid search is used for hyperparameter tuning.\n",
    "------------"
   ]
  },
  {
   "cell_type": "code",
   "execution_count": 20,
   "metadata": {
    "colab": {
     "base_uri": "https://localhost:8080/",
     "height": 35
    },
    "colab_type": "code",
    "id": "BbE4nSNGxnNg",
    "outputId": "e848b002-3bd8-4f92-be57-17165900caa9"
   },
   "outputs": [
    {
     "name": "stdout",
     "output_type": "stream",
     "text": [
      "Best alpha using tfidf MultinomialNB(alpha=0.01, class_prior=None, fit_prior=True)\n"
     ]
    }
   ],
   "source": [
    "values = [{'alpha': [10**-4,10**-3, 10**-2,10,10**2,10**3,10**4]}]\n",
    "model = GridSearchCV(MultinomialNB(),values, scoring = 'accuracy', cv=10)# using grid search cv with 10 fold cross validation\n",
    "model.fit(train_features, Y_train)\n",
    "print('Best alpha using tfidf',model.best_estimator_)#obtaining best alpha \n"
   ]
  },
  {
   "cell_type": "code",
   "execution_count": 21,
   "metadata": {
    "colab": {
     "base_uri": "https://localhost:8080/",
     "height": 456
    },
    "colab_type": "code",
    "id": "pmuIFcUbynil",
    "outputId": "4a46d47f-a214-4f78-ae39-f318b4242d17"
   },
   "outputs": [
    {
     "name": "stdout",
     "output_type": "stream",
     "text": [
      "Accuracy on training set is: 99.62689934128706\n",
      "Accuracy on test set is: 90.44123031856462\n",
      "F1_scoreon test set is: 89.11883183548632\n",
      "Precision on test set is: 90.24984295489025\n",
      "Recall on test set is: 90.44123031856462\n",
      "<==========confusion matrix=========>\n"
     ]
    },
    {
     "data": {
      "image/png": "[encoded data removed]",
      "text/plain": [
       "<matplotlib.figure.Figure at 0x7fe9e5a07b70>"
      ]
     },
     "metadata": {
      "tags": []
     },
     "output_type": "display_data"
    }
   ],
   "source": [
    "NB = MultinomialNB(alpha=0.01)\n",
    "NB.fit(train_features,Y_train)#fitting naive bayes to traindata\n",
    "pred = NB.predict(test_features)#predicting testdata labels\n",
    "predict=NB.predict(train_features)\n",
    "#calculating various performance metrics using predicted vs actual labels\n",
    "\n",
    "f1score = f1_score(Y_test,pred,average='weighted')\n",
    "precision = precision_score(Y_test,pred,average='weighted')\n",
    "recall = recall_score(Y_test,pred,average='weighted')\n",
    "confusion = confusion_matrix(Y_test,pred)\n",
    "accuracy = accuracy_score(Y_test,pred)\n",
    "acc=accuracy_score(Y_train,predict)\n",
    "\n",
    "\n",
    "#printing obtained performance metrics\n",
    "print('Accuracy on training set is:',acc*100)\n",
    "print('Accuracy on test set is:',accuracy*100)\n",
    "print('F1_scoreon test set is:',f1score*100)\n",
    "print('Precision on test set is:',precision*100)\n",
    "print('Recall on test set is:',recall*100)\n",
    "print('<==========confusion matrix=========>')\n",
    "p= sns.heatmap(confusion, annot=True, fmt=\"d\")\n"
   ]
  },
  {
   "cell_type": "markdown",
   "metadata": {
    "colab_type": "text",
    "id": "ZtHElchcU2Fm"
   },
   "source": [
    "EXTRACTING TOP-MOST POSITIVE AND NEGATIVE WORDS\n",
    "--------------------"
   ]
  },
  {
   "cell_type": "code",
   "execution_count": 22,
   "metadata": {
    "colab": {
     "base_uri": "https://localhost:8080/",
     "height": 467
    },
    "colab_type": "code",
    "id": "KkXBKRW3iVxG",
    "outputId": "c577f7d3-14ac-40ff-a815-4e79eba08b11"
   },
   "outputs": [
    {
     "name": "stdout",
     "output_type": "stream",
     "text": [
      " *****Top 10 negative features*****\n",
      "              COEFFICIENTS      WORDS\n",
      "2310160   9.99987531458793    xylitol\n",
      "404433    9.99843966322608       coke\n",
      "828527    9.99836031136299     frozen\n",
      "1028647  9.996677298878515       inde\n",
      "1670291  9.996257347385093  refus eat\n",
      "1073574   9.99595233440079     jasmin\n",
      "748405    9.99508586097446  felt like\n",
      "856154   9.994431248473239    get pay\n",
      "2110555  9.994334374402436        ton\n",
      "1181295  9.994215654421174      liver\n",
      "<=======================================================================================>\n",
      " *****Top 10 positive features*****\n",
      "              COEFFICIENTS          WORDS\n",
      "1161325  9.999231942110876       like lot\n",
      "493885   9.998807581295921          crumb\n",
      "1482289   9.99837284930499           pear\n",
      "1606355    9.9982420372746            pup\n",
      "1763887  9.997555831220703          scalp\n",
      "119487   9.997485079314224   avail amazon\n",
      "1957148  9.997371883427716   store bought\n",
      "2042823  9.996025383367389        tea ive\n",
      "1507128  9.996003375762818          pickl\n",
      "781693   9.995879490616197  flavor textur\n"
     ]
    }
   ],
   "source": [
    "features = tf_idf_vect.get_feature_names()\n",
    "feat = np.array(features)\n",
    "feat_negative = np.vstack((np.absolute(NB.feature_log_prob_[0]),feat))\n",
    "feat_positive = np.vstack((np.absolute(NB.feature_log_prob_[1]),feat))\n",
    "\n",
    "#using log probabitity to extract negative words\n",
    "feat_neg = pd.DataFrame(data=feat_negative.T,columns=('COEFFICIENTS','WORDS'))\n",
    "neg_features = feat_neg.sort_values('COEFFICIENTS',axis=0,ascending=False,inplace=False,kind='quicksort')\n",
    "feat_pos = pd.DataFrame(data=feat_positive.T,columns=('COEFFICIENTS','WORDS'))\n",
    "pos_features = feat_pos.sort_values('COEFFICIENTS',axis=0,ascending=False,inplace=False,kind='quicksort')\n",
    "\n",
    "#to extract top most important features by sorting them \n",
    "print(' *****Top 10 negative features*****')\n",
    "print(neg_features[0:10])\n",
    "print('<=======================================================================================>')\n",
    "print(' *****Top 10 positive features*****')\n",
    "print(pos_features[0:10])\n"
   ]
  },
  {
   "cell_type": "markdown",
   "metadata": {
    "colab_type": "text",
    "id": "UQvr1urvqEbq"
   },
   "source": [
    "THESE ARE THE TOPMOST NEGATIVE WORDS\n",
    "-------------\n",
    "\n"
   ]
  },
  {
   "cell_type": "markdown",
   "metadata": {
    "colab_type": "text",
    "id": "Tc99t2Amqhst"
   },
   "source": [
    "THESE ARE THE TOPMOST POSITIVE WORDS"
   ]
  },
  {
   "cell_type": "markdown",
   "metadata": {
    "colab_type": "text",
    "id": "7tZ0DO25Yf-4"
   },
   "source": [
    "**BAG OF WORDS **\n",
    "============"
   ]
  },
  {
   "cell_type": "code",
   "execution_count": 0,
   "metadata": {
    "colab": {},
    "colab_type": "code",
    "id": "dGtUfXe52Rys"
   },
   "outputs": [],
   "source": [
    "from sklearn.feature_extraction.text import CountVectorizer\n",
    "count_vect = CountVectorizer() #in scikit-learn\n",
    "train_BOW = count_vect.fit_transform(X_train)\n",
    "test_BOW = count_vect.transform(X_test)\n"
   ]
  },
  {
   "cell_type": "code",
   "execution_count": 18,
   "metadata": {
    "colab": {
     "base_uri": "https://localhost:8080/",
     "height": 35
    },
    "colab_type": "code",
    "id": "eM-0y5HL3j1J",
    "outputId": "d3d7cdf9-e217-4084-f81b-eda26981a19a"
   },
   "outputs": [
    {
     "name": "stdout",
     "output_type": "stream",
     "text": [
      "Best alpha using tfidf MultinomialNB(alpha=0.01, class_prior=None, fit_prior=True)\n"
     ]
    }
   ],
   "source": [
    "parameters = [{'alpha': [10**-4,10**-3, 10**-2,10,10**2,10**3,10**4]}]\n",
    "model_bow = GridSearchCV(MultinomialNB(),parameters, scoring = 'accuracy', cv=10)# using grid search cv with 10 fold cross validation\n",
    "model_bow.fit(train_BOW, Y_train)\n",
    "print('Best alpha using tfidf',model_bow.best_estimator_)#obtaining best alpha \n"
   ]
  },
  {
   "cell_type": "code",
   "execution_count": 20,
   "metadata": {
    "colab": {
     "base_uri": "https://localhost:8080/",
     "height": 545
    },
    "colab_type": "code",
    "id": "H2-9P5lpO0kE",
    "outputId": "331c7e17-6384-45df-f1c3-2f8aedca3311"
   },
   "outputs": [
    {
     "name": "stdout",
     "output_type": "stream",
     "text": [
      "Accuracy on training set is: 91.77609252582477\n",
      "Accuracy on test set is: 89.91120468692787\n",
      "F1_scoreon test set is: 89.95503980533063\n",
      "Precision on test set is: 90.00197410908211\n",
      "Recall on test set is: 89.91120468692787\n",
      "<==========confusion matrix=========>\n",
      "Accuracy  89.91120468692787\n",
      "F1_score 0.8995503980533063\n",
      "Precision 0.9000197410908212\n",
      "Recall 0.8991120468692787\n",
      "<================CONFUSION MATRIX================>\n"
     ]
    },
    {
     "data": {
      "image/png": "[encoded data removed]",
      "text/plain": [
       "<matplotlib.figure.Figure at 0x7f2c13866470>"
      ]
     },
     "metadata": {
      "tags": []
     },
     "output_type": "display_data"
    }
   ],
   "source": [
    "NB_bow = MultinomialNB(alpha=0.01)\n",
    "NB_bow.fit(train_BOW,Y_train)\n",
    "predict=NB_bow.predict(train_BOW)\n",
    "pred = NB_bow.predict(test_BOW)\n",
    "f1score = f1_score(Y_test,pred,average='weighted')\n",
    "precision = precision_score(Y_test,pred,average='weighted')\n",
    "recall = recall_score(Y_test,pred,average='weighted')\n",
    "confusion = confusion_matrix(Y_test,pred)\n",
    "accuracy = accuracy_score(Y_test,pred)\n",
    "acc=accuracy_score(Y_train,predict)\n",
    "\n",
    "\n",
    "#printing obtained performance metrics\n",
    "print('Accuracy on training set is:',acc*100)\n",
    "print('Accuracy on test set is:',accuracy*100)\n",
    "print('F1_score on test set is:',f1score*100)\n",
    "print('Precision on test set is:',precision*100)\n",
    "print('Recall on test set is:',recall*100)\n",
    "print('<==========confusion matrix=========>')\n",
    "\n",
    "f1score = f1_score(Y_test,pred,average='weighted')\n",
    "precision = precision_score(Y_test,pred,average='weighted')\n",
    "recall = recall_score(Y_test,pred,average='weighted')\n",
    "con_matrix = confusion_matrix(Y_test,pred)\n",
    "acc = accuracy_score(Y_test,pred)\n",
    "print('Accuracy ',acc*100)\n",
    "print('F1_score',f1score)\n",
    "print('Precision',precision)\n",
    "print('Recall',recall)\n",
    "print('<================CONFUSION MATRIX================>')\n",
    "P= sns.heatmap(con_matrix, annot=True, fmt=\"d\")\n",
    "\n"
   ]
  },
  {
   "cell_type": "code",
   "execution_count": 38,
   "metadata": {
    "colab": {
     "base_uri": "https://localhost:8080/",
     "height": 467
    },
    "colab_type": "code",
    "id": "WiY1nM7C-zy-",
    "outputId": "a99434c5-4d07-4b20-d945-5d5855dfd846"
   },
   "outputs": [
    {
     "name": "stdout",
     "output_type": "stream",
     "text": [
      " *****Top 10 negative features*****\n",
      "            COEFFICIENTS     WORDS\n",
      "30383  9.995748396828104   lobster\n",
      "13894  9.995748396828104    deodor\n",
      "17333  9.995748396828104     escap\n",
      "43782  9.995748396828104     rescu\n",
      "3843   9.995748396828104    bakeri\n",
      "54743  9.995748396828104   unappet\n",
      "28531  9.995748396828104      kiwi\n",
      "27713  9.995748396828104       jug\n",
      "8384   9.995748396828104  categori\n",
      "6822   9.995748396828104       btw\n",
      "<=======================================================================================>\n",
      " *****Top 10 positive features*****\n",
      "            COEFFICIENTS    WORDS\n",
      "46591  9.997548655840019    seven\n",
      "9305   9.997548655840019  chicori\n",
      "56408  9.994849671718017   versus\n",
      "47684  9.994849671718017  skillet\n",
      "14647  9.992157952507823    dirti\n",
      "48879  9.992157952507823    spare\n",
      "36030  9.992157952507823     nurs\n",
      "14102  9.989473459204174   detect\n",
      "25498  9.989473459204174      iam\n",
      "5556   9.989473459204174    bless\n"
     ]
    }
   ],
   "source": [
    "features = count_vect.get_feature_names()\n",
    "feat = np.array(features)\n",
    "feat_negative = np.vstack((np.absolute(NB_bow.feature_log_prob_[0]),feat))\n",
    "feat_positive = np.vstack((np.absolute(NB_bow.feature_log_prob_[1]),feat))\n",
    "\n",
    "#using log probabitity to extract negative words\n",
    "feat_neg = pd.DataFrame(data=feat_negative.T,columns=('COEFFICIENTS','WORDS'))\n",
    "neg_features = feat_neg.sort_values('COEFFICIENTS',axis=0,ascending=False,inplace=False,kind='quicksort')\n",
    "feat_pos = pd.DataFrame(data=feat_positive.T,columns=('COEFFICIENTS','WORDS'))\n",
    "pos_features = feat_pos.sort_values('COEFFICIENTS',axis=0,ascending=False,inplace=False,kind='quicksort')\n",
    "\n",
    "#to extract top most important features by sorting them \n",
    "print(' *****Top 10 negative features*****')\n",
    "print(neg_features[0:10])\n",
    "print('<=======================================================================================>')\n",
    "print(' *****Top 10 positive features*****')\n",
    "\n",
    "print(pos_features[0:10])\n"
   ]
  },
  {
   "cell_type": "markdown",
   "metadata": {
    "colab_type": "text",
    "id": "CjsB8iHYd7C-"
   },
   "source": [
    "Summary\n",
    "=======\n",
    "\n",
    "1. Apply text featurization ,here tf-idf featurization is used to convert text to numerical vector.     \n",
    "\n",
    "2. Apply naive-bayes and obtain various performance measures .    \n",
    " \n",
    "2.  Extract top most important positive and negative words\n",
    "\n"
   ]
  },
  {
   "cell_type": "code",
   "execution_count": 0,
   "metadata": {
    "colab": {},
    "colab_type": "code",
    "id": "kOLRyE8VhDGR"
   },
   "outputs": [],
   "source": [
    "from prettytable import PrettyTable\n",
    "\n",
    "x = PrettyTable()\n",
    "\n",
    "x.field_names = [\"Featurization\",\"TFIDF\",\"BOW\"\t]\n",
    "x.add_row([\"Optimal Alpha by Grid-search\", 0.01, 0.01])\n",
    "x.add_row([\"Train Accuracy for K obtained above \", 99.6, 91.77])\n",
    "x.add_row([\"Test Accuracy\", 90.44, 89.91])\n",
    "\n"
   ]
  },
  {
   "cell_type": "code",
   "execution_count": 22,
   "metadata": {
    "colab": {
     "base_uri": "https://localhost:8080/",
     "height": 143
    },
    "colab_type": "code",
    "id": "stJsNUZvtfZ1",
    "outputId": "8d45fc5e-23cf-4f7e-d8c8-30a2e63996b3"
   },
   "outputs": [
    {
     "name": "stdout",
     "output_type": "stream",
     "text": [
      "+--------------------------------------+-------+-------+\n",
      "|            Featurization             | TFIDF |  BOW  |\n",
      "+--------------------------------------+-------+-------+\n",
      "|     Optimal Alpha by Grid-search     |  0.01 |  0.01 |\n",
      "| Train Accuracy for K obtained above  |  99.6 | 91.77 |\n",
      "|            Test Accuracy             | 90.44 | 89.91 |\n",
      "+--------------------------------------+-------+-------+\n"
     ]
    }
   ],
   "source": [
    "print(x)"
   ]
  },
  {
   "cell_type": "code",
   "execution_count": 0,
   "metadata": {
    "colab": {},
    "colab_type": "code",
    "id": "pLmI0gB9tV4S"
   },
   "outputs": [],
   "source": []
  }
 ],
 "metadata": {
  "colab": {
   "collapsed_sections": [],
   "name": "NAIVE-BAYES-FINAL.ipynb",
   "provenance": [],
   "version": "0.3.2"
  },
  "kernelspec": {
   "display_name": "Python 3",
   "language": "python",
   "name": "python3"
  },
  "language_info": {
   "codemirror_mode": {
    "name": "ipython",
    "version": 3
   },
   "file_extension": ".py",
   "mimetype": "text/x-python",
   "name": "python",
   "nbconvert_exporter": "python",
   "pygments_lexer": "ipython3",
   "version": "3.6.4"
  }
 },
 "nbformat": 4,
 "nbformat_minor": 1
}
