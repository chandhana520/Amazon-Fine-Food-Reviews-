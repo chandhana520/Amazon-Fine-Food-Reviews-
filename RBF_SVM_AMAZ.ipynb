{
  "nbformat": 4,
  "nbformat_minor": 0,
  "metadata": {
    "colab": {
      "name": "RBF-SVM_AMAZ.ipynb",
      "provenance": [],
      "collapsed_sections": []
    },
    "kernelspec": {
      "display_name": "Python 3",
      "language": "python",
      "name": "python3"
    },
    "language_info": {
      "codemirror_mode": {
        "name": "ipython",
        "version": 3
      },
      "file_extension": ".py",
      "mimetype": "text/x-python",
      "name": "python",
      "nbconvert_exporter": "python",
      "pygments_lexer": "ipython3",
      "version": "3.6.4"
    }
  },
  "cells": [
    {
      "cell_type": "markdown",
      "metadata": {
        "id": "4VYQCKuefrqU"
      },
      "source": [
        "RBF KERNAL SVM FOR AMAZON DATASET\n",
        "===================="
      ]
    },
    {
      "cell_type": "code",
      "metadata": {
        "id": "tsCD0OL4QOnn"
      },
      "source": [
        "import pandas as pd \n",
        "import numpy as np\n",
        "import matplotlib.pyplot as plot\n",
        "from sklearn.feature_extraction.text import TfidfTransformer\n",
        "from sklearn.feature_extraction.text import TfidfVectorizer\n",
        "from sklearn.cross_validation import train_test_split\n",
        "from sklearn.metrics import confusion_matrix\n",
        "from sklearn.model_selection import RandomizedSearchCV\n",
        "from sklearn.svm import SVC\n",
        "from datetime import datetime\n",
        "from sklearn.metrics import accuracy_score\n",
        "from sklearn import cross_validation\n",
        "import seaborn as sns\n",
        "from sklearn.metrics import precision_recall_fscore_support, classification_report\n",
        "from sklearn import linear_model\n",
        "from sklearn.linear_model import SGDClassifier\n",
        "from sklearn.metrics import f1_score\n",
        "from sklearn.metrics import precision_score\n",
        "from sklearn.metrics import recall_score\n",
        "from sklearn.metrics import accuracy_score\n",
        "from sklearn.metrics import confusion_matrix"
      ],
      "execution_count": null,
      "outputs": []
    },
    {
      "cell_type": "code",
      "metadata": {
        "id": "7Y-iGeTd5ZH1"
      },
      "source": [
        "from sklearn.model_selection import RandomizedSearchCV\n",
        "from sklearn.metrics import precision_recall_fscore_support, classification_report\n",
        "from sklearn.svm import SVC\n",
        "from datetime import datetime"
      ],
      "execution_count": null,
      "outputs": []
    },
    {
      "cell_type": "code",
      "metadata": {
        "id": "V_ACLvqTShZf",
        "outputId": "a6366ad2-0279-41ee-d190-15e96654692d",
        "colab": {
          "base_uri": "https://localhost:8080/",
          "height": 369
        }
      },
      "source": [
        "data = pd.read_csv('final_clean.csv')\n",
        "data.head(2)\n"
      ],
      "execution_count": null,
      "outputs": [
        {
          "output_type": "execute_result",
          "data": {
            "text/html": [
              "<div>\n",
              "<style scoped>\n",
              "    .dataframe tbody tr th:only-of-type {\n",
              "        vertical-align: middle;\n",
              "    }\n",
              "\n",
              "    .dataframe tbody tr th {\n",
              "        vertical-align: top;\n",
              "    }\n",
              "\n",
              "    .dataframe thead th {\n",
              "        text-align: right;\n",
              "    }\n",
              "</style>\n",
              "<table border=\"1\" class=\"dataframe\">\n",
              "  <thead>\n",
              "    <tr style=\"text-align: right;\">\n",
              "      <th></th>\n",
              "      <th>Id</th>\n",
              "      <th>ProductId</th>\n",
              "      <th>UserId</th>\n",
              "      <th>ProfileName</th>\n",
              "      <th>HelpfulnessNumerator</th>\n",
              "      <th>HelpfulnessDenominator</th>\n",
              "      <th>Score</th>\n",
              "      <th>Time</th>\n",
              "      <th>Summary</th>\n",
              "      <th>Text</th>\n",
              "      <th>cleanedText</th>\n",
              "    </tr>\n",
              "  </thead>\n",
              "  <tbody>\n",
              "    <tr>\n",
              "      <th>0</th>\n",
              "      <td>150524</td>\n",
              "      <td>0006641040</td>\n",
              "      <td>ACITT7DI6IDDL</td>\n",
              "      <td>shari zychinski</td>\n",
              "      <td>0</td>\n",
              "      <td>0</td>\n",
              "      <td>1</td>\n",
              "      <td>939340800</td>\n",
              "      <td>EVERY book is educational</td>\n",
              "      <td>this witty little book makes my son laugh at l...</td>\n",
              "      <td>b'witti littl book make son laugh loud recit c...</td>\n",
              "    </tr>\n",
              "    <tr>\n",
              "      <th>1</th>\n",
              "      <td>150506</td>\n",
              "      <td>0006641040</td>\n",
              "      <td>A2IW4PEEKO2R0U</td>\n",
              "      <td>Tracy</td>\n",
              "      <td>1</td>\n",
              "      <td>1</td>\n",
              "      <td>1</td>\n",
              "      <td>1194739200</td>\n",
              "      <td>Love the book, miss the hard cover version</td>\n",
              "      <td>I grew up reading these Sendak books, and watc...</td>\n",
              "      <td>b'grew read sendak book watch realli rosi movi...</td>\n",
              "    </tr>\n",
              "  </tbody>\n",
              "</table>\n",
              "</div>"
            ],
            "text/plain": [
              "       Id   ProductId          UserId      ProfileName  HelpfulnessNumerator  \\\n",
              "0  150524  0006641040   ACITT7DI6IDDL  shari zychinski                     0   \n",
              "1  150506  0006641040  A2IW4PEEKO2R0U            Tracy                     1   \n",
              "\n",
              "   HelpfulnessDenominator  Score        Time  \\\n",
              "0                       0      1   939340800   \n",
              "1                       1      1  1194739200   \n",
              "\n",
              "                                      Summary  \\\n",
              "0                   EVERY book is educational   \n",
              "1  Love the book, miss the hard cover version   \n",
              "\n",
              "                                                Text  \\\n",
              "0  this witty little book makes my son laugh at l...   \n",
              "1  I grew up reading these Sendak books, and watc...   \n",
              "\n",
              "                                         cleanedText  \n",
              "0  b'witti littl book make son laugh loud recit c...  \n",
              "1  b'grew read sendak book watch realli rosi movi...  "
            ]
          },
          "metadata": {
            "tags": []
          },
          "execution_count": 23
        }
      ]
    },
    {
      "cell_type": "code",
      "metadata": {
        "id": "xaKDlR6D3eTu",
        "outputId": "e056a36a-032b-477a-9222-adc2ef9d4d18",
        "colab": {
          "base_uri": "https://localhost:8080/",
          "height": 35
        }
      },
      "source": [
        "final=data.sample(n=50000 ,replace=True,random_state=None, axis=0)\n",
        "final.shape\n",
        "#sampling 50k points"
      ],
      "execution_count": null,
      "outputs": [
        {
          "output_type": "execute_result",
          "data": {
            "text/plain": [
              "(50000, 11)"
            ]
          },
          "metadata": {
            "tags": []
          },
          "execution_count": 24
        }
      ]
    },
    {
      "cell_type": "code",
      "metadata": {
        "id": "LnKZnpVZvjme"
      },
      "source": [
        "X = final['Text']\n",
        "Y = final['Score']"
      ],
      "execution_count": null,
      "outputs": []
    },
    {
      "cell_type": "code",
      "metadata": {
        "id": "lWpGGUVBSlnW"
      },
      "source": [
        "from sklearn import cross_validation\n",
        "X_train, X_test, Y_train, Y_test = cross_validation.train_test_split(X, Y, test_size=0.3, random_state=0)\n",
        "#train-test split"
      ],
      "execution_count": null,
      "outputs": []
    },
    {
      "cell_type": "markdown",
      "metadata": {
        "id": "hnhkVqgxgwst"
      },
      "source": [
        "TFIDF  featurization for modeling\n",
        "==="
      ]
    },
    {
      "cell_type": "code",
      "metadata": {
        "id": "elHQDtWEVMKb"
      },
      "source": [
        "tf_idf_vect = TfidfVectorizer()\n",
        "tfidf_train = tf_idf_vect.fit_transform(X_train)\n",
        "tfidf_test = tf_idf_vect.transform(X_test)"
      ],
      "execution_count": null,
      "outputs": []
    },
    {
      "cell_type": "markdown",
      "metadata": {
        "id": "Xp4D5LsB0f6K"
      },
      "source": [
        "RANDOM SEARCH CV \n",
        "---------------"
      ]
    },
    {
      "cell_type": "code",
      "metadata": {
        "id": "goYQzHqInaTH"
      },
      "source": [
        "\n",
        "startTime = datetime.now()\n",
        "\n",
        "def randomcv(train_feat,test_feat,y_train,y_test):\n",
        "    parameters = {'C':[10**-4,10**-3,10**-2, 10**0, 10**2,10**-3,10**4],\n",
        "              'gamma': [10**-4,10**-3,10**-2, 10**0, 10**2,10**-3,10**4]}\n",
        "    svm = SVC(kernel='rbf')\n",
        "    svm_rbf_cv= RandomizedSearchCV(svm, param_distributions=parameters, n_jobs=-1,scoring='f1',cv=3)\n",
        "    svm_rbf_cv.fit(train_feat, y_train)\n",
        "    print('Best Estimator:      ',svm_rbf_cv.best_estimator_)\n",
        "    print('Optimal parameters:  ',svm_rbf_cv.best_params_)\n",
        "    print('optimal score:       ',svm_rbf_cv.best_score_*(100))\n",
        "    print('-------------------------------------------------')\n",
        "    svm_rbf_cv.best_estimator_.fit(train_feat, y_train)\n",
        "\n",
        "    y_true, y_pred = y_test,svm_rbf_cv.best_estimator_.predict(test_feat)\n",
        "    confusion = confusion_matrix(y_true,y_pred)\n",
        "    accuracy = accuracy_score(y_true,y_pred)\n",
        "    acc=accuracy_score(y_train,svm_rbf_cv.best_estimator_.predict(train_feat))\n",
        "\n",
        "    #printing obtained performance metrics\n",
        "    print('Accuracy on training set is:',acc*100)\n",
        "    print('Accuracy on test set is:',accuracy*100)\n",
        "    print(\"Classification_Report\")\n",
        "\n",
        "    print(classification_report(y_true, y_pred))\n",
        "\n",
        "    print(precision_recall_fscore_support(y_true, y_pred, average='micro'))\n",
        "    print('<==========confusion matrix for test data=========>')\n",
        "    p= sns.heatmap(confusion, annot=True, fmt=\"d\", cmap=\"Spectral\",square=True)\n",
        "    print(datetime.now() - startTime)\n"
      ],
      "execution_count": null,
      "outputs": []
    },
    {
      "cell_type": "code",
      "metadata": {
        "id": "O_OBiHiiFy67",
        "outputId": "a1589f86-0cf0-419d-8269-a46b36a21d73",
        "colab": {
          "base_uri": "https://localhost:8080/",
          "height": 725
        }
      },
      "source": [
        "randomcv(tfidf_train,tfidf_test,Y_train,Y_test)\n"
      ],
      "execution_count": null,
      "outputs": [
        {
          "output_type": "stream",
          "text": [
            "***********************************************\n",
            "Best Estimator:       SVC(C=100, cache_size=200, class_weight=None, coef0=0.0,\n",
            "  decision_function_shape='ovr', degree=3, gamma=0.01, kernel='rbf',\n",
            "  max_iter=-1, probability=False, random_state=None, shrinking=True,\n",
            "  tol=0.001, verbose=False)\n",
            "Optimal parameters:   {'gamma': 0.01, 'C': 100}\n",
            "optimal score:        94.95379229403366\n",
            "-------------------------------------------------\n",
            "Accuracy on training set is: 96.03714285714285\n",
            "Accuracy on test set is: 91.75999999999999\n",
            "Classification_Report\n",
            "             precision    recall  f1-score   support\n",
            "\n",
            "          0       0.81      0.64      0.71      2406\n",
            "          1       0.93      0.97      0.95     12594\n",
            "\n",
            "avg / total       0.91      0.92      0.91     15000\n",
            "\n",
            "(0.9176, 0.9176, 0.9176, None)\n",
            "<==========confusion matrix for test data=========>\n",
            "5:03:36.596307\n"
          ],
          "name": "stdout"
        },
        {
          "output_type": "display_data",
          "data": {
            "image/png": "[encoded data removed]",
            "text/plain": [
              "<matplotlib.figure.Figure at 0x7f7c4cfe2b70>"
            ]
          },
          "metadata": {
            "tags": []
          }
        }
      ]
    },
    {
      "cell_type": "markdown",
      "metadata": {
        "id": "w0otHbO1gn-a"
      },
      "source": [
        "GRID-SEARCHCV\n",
        "---"
      ]
    },
    {
      "cell_type": "code",
      "metadata": {
        "id": "PDsguH-IFqyh"
      },
      "source": [
        "from sklearn.model_selection import GridSearchCV\n",
        "\n",
        "def grid(train_feat,test_feat,y_train,y_test):\n",
        "    parameters = {'C':[10**-4,10**-3,10**-2, 10**0, 10**2,10**-3,10**4],\n",
        "              'gamma': [10**-4,10**-3,10**-2, 10**0, 10**2,10**-3,10**4]}\n",
        "    svm = SVC(kernel='rbf')\n",
        "    svm_rbf= GridSearchCV(svm,param_grid=parameters,n_jobs=-1,scoring='f1',cv=3)\n",
        "    svm_rbf.fit(train_feat,y_train)\n",
        "    print('Best Estimator:      ',svm_rbf.best_estimator_)\n",
        "    print('Optimal parameters:  ',svm_rbf.best_params_)\n",
        "    print('optimal score:       ',svm_rbf.best_score_*(100))\n",
        "    print('-------------------------------------------------')\n",
        "    svm_rbf.best_estimator_.fit(train_feat, y_train)\n",
        "\n",
        "    y_true, y_pred = y_test,svm_rbf.best_estimator_.predict(test_feat)\n",
        "    confusion = confusion_matrix(y_true,y_pred)\n",
        "    accuracy = accuracy_score(y_true,y_pred)\n",
        "    acc=accuracy_score(y_train,svm_rbf.best_estimator_.predict(train_feat))\n",
        "\n",
        "    #printing obtained performance metrics\n",
        "    print('Accuracy on training set is:',acc*100)\n",
        "    print('Accuracy on test set is:',accuracy*100)\n",
        "    print(\"Classification_Report\")\n",
        "\n",
        "    print(classification_report(y_true, y_pred))\n",
        "    print(precision_recall_fscore_support(y_true, y_pred, average='micro'))\n",
        "    print('<==========confusion matrix for test data=========>')\n",
        "    p= sns.heatmap(confusion, annot=True, fmt=\"d\", cmap=\"Spectral\",square=True) "
      ],
      "execution_count": null,
      "outputs": []
    },
    {
      "cell_type": "code",
      "metadata": {
        "id": "YJB8tyoT434X",
        "outputId": "83647d35-5413-4323-b0fa-bfb3d02403ee",
        "colab": {
          "base_uri": "https://localhost:8080/",
          "height": 707
        }
      },
      "source": [
        "grid(tfidf_train,tfidf_test,Y_train,Y_test)"
      ],
      "execution_count": null,
      "outputs": [
        {
          "output_type": "stream",
          "text": [
            "Best Estimator:       SVC(C=100, cache_size=200, class_weight=None, coef0=0.0,\n",
            "  decision_function_shape='ovr', degree=3, gamma=1, kernel='rbf',\n",
            "  max_iter=-1, probability=False, random_state=None, shrinking=True,\n",
            "  tol=0.001, verbose=False)\n",
            "Optimal parameters:   {'C': 100, 'gamma': 1}\n",
            "optimal score:        95.4158674584948\n",
            "-------------------------------------------------\n",
            "Accuracy on training set is: 100.0\n",
            "Accuracy on test set is: 92.74\n",
            "Classification_Report\n",
            "             precision    recall  f1-score   support\n",
            "\n",
            "          0       0.86      0.64      0.73      2339\n",
            "          1       0.94      0.98      0.96     12661\n",
            "\n",
            "avg / total       0.92      0.93      0.92     15000\n",
            "\n",
            "(0.9274, 0.9274, 0.9274, None)\n",
            "<==========confusion matrix for test data=========>\n",
            "11:27:12.057100\n"
          ],
          "name": "stdout"
        },
        {
          "output_type": "display_data",
          "data": {
            "image/png": "[encoded data removed]",
            "text/plain": [
              "<matplotlib.figure.Figure at 0x7fb547a21748>"
            ]
          },
          "metadata": {
            "tags": []
          }
        }
      ]
    },
    {
      "cell_type": "markdown",
      "metadata": {
        "id": "mawcNMILghq2"
      },
      "source": [
        "BAG OF WORDS\n",
        "===="
      ]
    },
    {
      "cell_type": "code",
      "metadata": {
        "id": "VHXeMy-9glRi"
      },
      "source": [
        "from sklearn.feature_extraction.text import CountVectorizer\n",
        "\n",
        "\n",
        "count_vect = CountVectorizer() \n",
        "bow_train = count_vect.fit_transform(X_train)\n",
        "bow_test = count_vect.transform(X_test)\n"
      ],
      "execution_count": null,
      "outputs": []
    },
    {
      "cell_type": "code",
      "metadata": {
        "id": "d1oQlBmmiit1",
        "outputId": "e92aca9b-07ed-4844-836f-62bb81577e71",
        "colab": {
          "base_uri": "https://localhost:8080/",
          "height": 708
        }
      },
      "source": [
        "randomcv(bow_train,bow_test,Y_train,Y_test)"
      ],
      "execution_count": null,
      "outputs": [
        {
          "output_type": "stream",
          "text": [
            "Best Estimator:       SVC(C=100, cache_size=200, class_weight=None, coef0=0.0,\n",
            "  decision_function_shape='ovr', degree=3, gamma=0.001, kernel='rbf',\n",
            "  max_iter=-1, probability=False, random_state=None, shrinking=True,\n",
            "  tol=0.001, verbose=False)\n",
            "Optimal parameters:   {'gamma': 0.001, 'C': 100}\n",
            "optimal score:        95.14935517587976\n",
            "-------------------------------------------------\n",
            "Accuracy on training set is: 99.16571428571429\n",
            "Accuracy on test set is: 92.08666666666666\n",
            "Classification_Report\n",
            "             precision    recall  f1-score   support\n",
            "\n",
            "          0       0.78      0.70      0.74      2406\n",
            "          1       0.94      0.96      0.95     12594\n",
            "\n",
            "avg / total       0.92      0.92      0.92     15000\n",
            "\n",
            "(0.9208666666666666, 0.9208666666666666, 0.9208666666666666, None)\n",
            "<==========confusion matrix for test data=========>\n",
            "5:27:27.363820\n"
          ],
          "name": "stdout"
        },
        {
          "output_type": "display_data",
          "data": {
            "image/png": "[encoded data removed]",
            "text/plain": [
              "<matplotlib.figure.Figure at 0x7fa66bfccf98>"
            ]
          },
          "metadata": {
            "tags": []
          }
        }
      ]
    },
    {
      "cell_type": "code",
      "metadata": {
        "id": "LQRsZk7yI2SO",
        "outputId": "61b05ac7-1442-47bc-f128-b76cb1dc7608",
        "colab": {
          "base_uri": "https://localhost:8080/",
          "height": 467
        }
      },
      "source": [
        "grid(train_bow,test_bow,Y_train,Y_test)"
      ],
      "execution_count": null,
      "outputs": [
        {
          "output_type": "stream",
          "text": [
            "Best Estimator:       SVC(C=100, cache_size=200, class_weight=None, coef0=0.0,\n",
            "  decision_function_shape='ovr', degree=3, gamma=0.001, kernel='rbf',\n",
            "  max_iter=-1, probability=False, random_state=None, shrinking=True,\n",
            "  tol=0.001, verbose=False)\n",
            "Optimal parameters:   {'C': 100, 'gamma': 0.001}\n",
            "optimal score:        94.74515246713547\n",
            "-------------------------------------------------\n",
            "Accuracy on training set is: 97.77714285714286\n",
            "Accuracy on test set is: 91.74\n",
            "Classification_Report\n",
            "             precision    recall  f1-score   support\n",
            "\n",
            "          0       0.78      0.67      0.72      2357\n",
            "          1       0.94      0.96      0.95     12643\n",
            "\n",
            "avg / total       0.91      0.92      0.91     15000\n",
            "\n",
            "(0.9174, 0.9174, 0.9174, None)\n",
            "<==========confusion matrix for test data=========>\n"
          ],
          "name": "stdout"
        },
        {
          "output_type": "display_data",
          "data": {
            "image/png": "[encoded data removed]",
            "text/plain": [
              "<Figure size 432x288 with 2 Axes>"
            ]
          },
          "metadata": {
            "tags": []
          }
        }
      ]
    },
    {
      "cell_type": "markdown",
      "metadata": {
        "id": "2qFMhAsajfOh"
      },
      "source": [
        "TRAINING OUR OWN WORD 2 VEC\n",
        "====="
      ]
    },
    {
      "cell_type": "code",
      "metadata": {
        "id": "zjgj7ZfaodKJ"
      },
      "source": [
        "def cleanhtml(sentence): #function to clean the word of any html-tags\n",
        "    cleanr = re.compile('<.*?>')\n",
        "    cleantext = re.sub(cleanr, ' ', sentence)\n",
        "    return cleantext\n",
        "def cleanpunc(sentence): #function to clean the word of any punctuation or special characters\n",
        "    cleaned = re.sub(r'[?|!|\\'|\"|#]',r'',sentence)\n",
        "    cleaned = re.sub(r'[.|,|)|(|\\|/]',r' ',cleaned)\n",
        "    return  cleaned\n"
      ],
      "execution_count": null,
      "outputs": []
    },
    {
      "cell_type": "code",
      "metadata": {
        "id": "vQ9Tyd_vozW6"
      },
      "source": [
        "import gensim\n",
        "import re\n",
        "i=0\n",
        "list_of_train=[]\n",
        "for sent in X_train:\n",
        "    filtered_sentence=[]\n",
        "    sent=cleanhtml(sent)\n",
        "    for w in sent.split():\n",
        "        for cleaned_words in cleanpunc(w).split():\n",
        "            if(cleaned_words.isalpha()):    \n",
        "                filtered_sentence.append(cleaned_words.lower())\n",
        "            else:\n",
        "                continue \n",
        "    list_of_train.append(filtered_sentence)\n"
      ],
      "execution_count": null,
      "outputs": []
    },
    {
      "cell_type": "code",
      "metadata": {
        "id": "4m3xWXrspAR5"
      },
      "source": [
        "i =0\n",
        "list_of_test =[]\n",
        "for sent in X_test:\n",
        "    final_Xtest = []\n",
        "    sent = cleanhtml(sent)\n",
        "    for w in sent.split():\n",
        "        for cleaned_words in cleanpunc(w).split():\n",
        "            if(cleaned_words.isalpha()):\n",
        "                final_Xtest.append(cleaned_words.lower())\n",
        "            else:\n",
        "                continue\n",
        "    list_of_test.append(final_Xtest)"
      ],
      "execution_count": null,
      "outputs": []
    },
    {
      "cell_type": "code",
      "metadata": {
        "id": "ozXCTbMYsniW"
      },
      "source": [
        "from gensim.models import Word2Vec\n",
        "w2v_train_model=Word2Vec(list_of_train,min_count=3,size=100,workers=5)\n"
      ],
      "execution_count": null,
      "outputs": []
    },
    {
      "cell_type": "code",
      "metadata": {
        "id": "5EmggujDssfB"
      },
      "source": [
        "w2v_test_model=Word2Vec(list_of_test,min_count=3,size=100,workers=5)\n"
      ],
      "execution_count": null,
      "outputs": []
    },
    {
      "cell_type": "markdown",
      "metadata": {
        "id": "oxXFW7aApjwp"
      },
      "source": [
        "AVERAGE W2V\n",
        "---"
      ]
    },
    {
      "cell_type": "code",
      "metadata": {
        "id": "XRsOs75FySxh",
        "outputId": "bed78c1b-7be1-4f6c-8fee-fa02ebd50220",
        "colab": {
          "base_uri": "https://localhost:8080/",
          "height": 764
        }
      },
      "source": [
        "randomcv(sent_train,sent_test,Y_train,Y_test)"
      ],
      "execution_count": null,
      "outputs": [
        {
          "output_type": "stream",
          "text": [
            "Best Estimator:       SVC(C=1, cache_size=200, class_weight=None, coef0=0.0,\n",
            "  decision_function_shape='ovr', degree=3, gamma=1, kernel='rbf',\n",
            "  max_iter=-1, probability=False, random_state=None, shrinking=True,\n",
            "  tol=0.001, verbose=False)\n",
            "Optimal parameters:   {'gamma': 1, 'C': 1}\n",
            "optimal score:        91.54013015057645\n",
            "-------------------------------------------------\n",
            "Accuracy on training set is: 84.39999999999999\n",
            "Accuracy on test set is: 84.15333333333334\n",
            "Classification_Report\n",
            "             precision    recall  f1-score   support\n",
            "\n",
            "          0       0.00      0.00      0.00      2377\n",
            "          1       0.84      1.00      0.91     12623\n",
            "\n",
            "avg / total       0.71      0.84      0.77     15000\n",
            "\n",
            "(0.8415333333333334, 0.8415333333333334, 0.8415333333333334, None)\n",
            "<==========confusion matrix for test data=========>\n",
            "0:34:19.734606\n"
          ],
          "name": "stdout"
        },
        {
          "output_type": "stream",
          "text": [
            "/usr/local/lib/python3.6/dist-packages/sklearn/metrics/classification.py:1135: UndefinedMetricWarning: Precision and F-score are ill-defined and being set to 0.0 in labels with no predicted samples.\n",
            "  'precision', 'predicted', average, warn_for)\n"
          ],
          "name": "stderr"
        },
        {
          "output_type": "display_data",
          "data": {
            "image/png": "[encoded data removed]",
            "text/plain": [
              "<matplotlib.figure.Figure at 0x7f1cd3e0f390>"
            ]
          },
          "metadata": {
            "tags": []
          }
        }
      ]
    },
    {
      "cell_type": "code",
      "metadata": {
        "id": "Vwy2eCpvy0Lw",
        "outputId": "9fa5f29c-f632-4e4a-8c4e-384a2e1ad180",
        "colab": {
          "base_uri": "https://localhost:8080/",
          "height": 764
        }
      },
      "source": [
        "grid(sent_train,sent_test,Y_train,Y_test)"
      ],
      "execution_count": null,
      "outputs": [
        {
          "output_type": "stream",
          "text": [
            "Best Estimator:       SVC(C=0.0001, cache_size=200, class_weight=None, coef0=0.0,\n",
            "  decision_function_shape='ovr', degree=3, gamma=0.0001, kernel='rbf',\n",
            "  max_iter=-1, probability=False, random_state=None, shrinking=True,\n",
            "  tol=0.001, verbose=False)\n",
            "Optimal parameters:   {'C': 0.0001, 'gamma': 0.0001}\n",
            "optimal score:        91.54013015057645\n",
            "-------------------------------------------------\n",
            "Accuracy on training set is: 84.39999999999999\n",
            "Accuracy on test set is: 84.15333333333334\n",
            "Classification_Report\n",
            "             precision    recall  f1-score   support\n",
            "\n",
            "          0       0.00      0.00      0.00      2377\n",
            "          1       0.84      1.00      0.91     12623\n",
            "\n",
            "avg / total       0.71      0.84      0.77     15000\n",
            "\n",
            "(0.8415333333333334, 0.8415333333333334, 0.8415333333333334, None)\n",
            "<==========confusion matrix for test data=========>\n",
            "4:57:56.237830\n"
          ],
          "name": "stdout"
        },
        {
          "output_type": "stream",
          "text": [
            "/usr/local/lib/python3.6/dist-packages/sklearn/metrics/classification.py:1135: UndefinedMetricWarning: Precision and F-score are ill-defined and being set to 0.0 in labels with no predicted samples.\n",
            "  'precision', 'predicted', average, warn_for)\n"
          ],
          "name": "stderr"
        },
        {
          "output_type": "display_data",
          "data": {
            "image/png": "[encoded data removed]",
            "text/plain": [
              "<matplotlib.figure.Figure at 0x7f1ce78b55c0>"
            ]
          },
          "metadata": {
            "tags": []
          }
        }
      ]
    },
    {
      "cell_type": "markdown",
      "metadata": {
        "id": "ud4IXLXty3dX"
      },
      "source": [
        "TFIDF-W2V featurization for  svm\n",
        "------"
      ]
    },
    {
      "cell_type": "code",
      "metadata": {
        "id": "ShGomnWzy4cY"
      },
      "source": [
        "tf_idf_vect = TfidfVectorizer()\n",
        "w2v_train = tf_idf_vect.fit_transform(X_train)\n"
      ],
      "execution_count": null,
      "outputs": []
    },
    {
      "cell_type": "code",
      "metadata": {
        "id": "8bV-WM0Ey8DF"
      },
      "source": [
        "tfidf_vect = TfidfVectorizer()\n",
        "w2v_test = tfidf_vect.fit_transform(X_test)"
      ],
      "execution_count": null,
      "outputs": []
    },
    {
      "cell_type": "code",
      "metadata": {
        "id": "MlhscDxV4BHB"
      },
      "source": [
        "tfidf_feat = tf_idf_vect.get_feature_names() # tfidf words/col-names\n",
        "# final_tf_idf is the sparse matrix with row= sentence, col=word and cell_val = tfidf\n",
        "\n",
        "tfidf_sent_train = []; # the tfidf-w2v for each sentence/review is stored in this list\n",
        "row=0;\n",
        "for sent in list_of_train: # for each review/sentence\n",
        "    sent_vec = np.zeros(100) # as word vectors are of zero length\n",
        "    weight_sum =0; # num of words with a valid vector in the sentence/review\n",
        "    for word in sent: # for each word in a review/sentence\n",
        "        try:\n",
        "            vec = w2v_train_model.wv[word]\n",
        "            # obtain the tf_idfidf of a word in a sentence/review\n",
        "            tfidf = w2v_train[row, tfidf_feat.index(word)]\n",
        "            sent_vec += (vec * tfidf)\n",
        "            weight_sum += tfidf\n",
        "        except:\n",
        "            pass\n",
        "    sent_vec /= weight_sum\n",
        "    tfidf_sent_train.append(sent_vec)\n",
        "    row += 1"
      ],
      "execution_count": null,
      "outputs": []
    },
    {
      "cell_type": "code",
      "metadata": {
        "id": "ILJWrEej-qge"
      },
      "source": [
        "tfidf_featt = tfidf_vect.get_feature_names() # tfidf words/col-names\n",
        "# final_tf_idf is the sparse matrix with row= sentence, col=word and cell_val = tfidf\n",
        "\n",
        "tfidf_sent_test = []; # the tfidf-w2v for each sentence/review is stored in this list\n",
        "row=0;\n",
        "for sent in list_of_test: # for each review/sentence\n",
        "    sent_vec = np.zeros(100) # as word vectors are of zero length\n",
        "    weight_sum =0; # num of words with a valid vector in the sentence/review\n",
        "    for word in sent: # for each word in a review/sentence\n",
        "        try:\n",
        "            vec = w2v_test_model.wv[word]\n",
        "            # obtain the tf_idfidf of a word in a sentence/review\n",
        "            tfidf = w2v_test[row, tfidf_featt.index(word)]\n",
        "            sent_vec += (vec * tfidf)\n",
        "            weight_sum += tfidf\n",
        "        except:\n",
        "            pass\n",
        "    sent_vec /= weight_sum\n",
        "    tfidf_sent_test.append(sent_vec)\n",
        "    row += 1\n"
      ],
      "execution_count": null,
      "outputs": []
    },
    {
      "cell_type": "code",
      "metadata": {
        "id": "lV_xMvg_SibL",
        "outputId": "2768a720-db6c-4b0e-fcbb-5cd134fed986",
        "colab": {
          "base_uri": "https://localhost:8080/",
          "height": 707
        }
      },
      "source": [
        "randomcv(tfidf_sent_train,tfidf_sent_test,Y_train,Y_test)\n"
      ],
      "execution_count": null,
      "outputs": [
        {
          "output_type": "stream",
          "text": [
            "Best Estimator:       SVC(C=100, cache_size=200, class_weight=None, coef0=0.0,\n",
            "  decision_function_shape='ovr', degree=3, gamma=0.01, kernel='rbf',\n",
            "  max_iter=-1, probability=False, random_state=None, shrinking=True,\n",
            "  tol=0.001, verbose=False)\n",
            "Optimal parameters:   {'gamma': 0.01, 'C': 100}\n",
            "optimal score:        93.23950055060955\n",
            "-------------------------------------------------\n",
            "Accuracy on training set is: 90.35428571428571\n",
            "Accuracy on test set is: 83.00666666666666\n",
            "Classification_Report\n",
            "             precision    recall  f1-score   support\n",
            "\n",
            "          0       0.26      0.04      0.08      2360\n",
            "          1       0.85      0.98      0.91     12640\n",
            "\n",
            "avg / total       0.75      0.83      0.78     15000\n",
            "\n",
            "(0.8300666666666666, 0.8300666666666666, 0.8300666666666666, None)\n",
            "<==========confusion matrix for test data=========>\n",
            "1:08:30.606334\n"
          ],
          "name": "stdout"
        },
        {
          "output_type": "display_data",
          "data": {
            "image/png": "[encoded data removed]",
            "text/plain": [
              "<matplotlib.figure.Figure at 0x7f2b90633358>"
            ]
          },
          "metadata": {
            "tags": []
          }
        }
      ]
    },
    {
      "cell_type": "code",
      "metadata": {
        "id": "zXox2sKjRgsE",
        "outputId": "d5534f60-7b50-4afc-9c99-6105db85a6ba",
        "colab": {
          "base_uri": "https://localhost:8080/",
          "height": 690
        }
      },
      "source": [
        "grid(tfidf_sent_train,tfidf_sent_test,Y_train,Y_test)"
      ],
      "execution_count": null,
      "outputs": [
        {
          "output_type": "stream",
          "text": [
            "Best Estimator:       SVC(C=100, cache_size=200, class_weight=None, coef0=0.0,\n",
            "  decision_function_shape='ovr', degree=3, gamma=0.01, kernel='rbf',\n",
            "  max_iter=-1, probability=False, random_state=None, shrinking=True,\n",
            "  tol=0.001, verbose=False)\n",
            "Optimal parameters:   {'C': 100, 'gamma': 0.01}\n",
            "optimal score:        93.23156767259475\n",
            "-------------------------------------------------\n",
            "Accuracy on training set is: 90.25142857142858\n",
            "Accuracy on test set is: 84.30666666666666\n",
            "Classification_Report\n",
            "             precision    recall  f1-score   support\n",
            "\n",
            "          0       0.67      0.00      0.01      2357\n",
            "          1       0.84      1.00      0.91     12643\n",
            "\n",
            "avg / total       0.82      0.84      0.77     15000\n",
            "\n",
            "(0.8430666666666666, 0.8430666666666666, 0.8430666666666666, None)\n",
            "<==========confusion matrix for test data=========>\n"
          ],
          "name": "stdout"
        },
        {
          "output_type": "display_data",
          "data": {
            "image/png": "[encoded data removed]",
            "text/plain": [
              "<matplotlib.figure.Figure at 0x7f0f410a5208>"
            ]
          },
          "metadata": {
            "tags": []
          }
        }
      ]
    },
    {
      "cell_type": "code",
      "metadata": {
        "id": "Mbpt_EC--Tpy"
      },
      "source": [
        "from prettytable import PrettyTable"
      ],
      "execution_count": null,
      "outputs": []
    },
    {
      "cell_type": "code",
      "metadata": {
        "id": "qaAyESY690z5"
      },
      "source": [
        "x = PrettyTable()\n",
        "x.field_names = [\"Featurization\",\"BOW\",\"TFIDF\",\"AVG_W2V\",\"TFIDF_W2V\" ]\n",
        "x.add_row([\"Optimal C using RANDOM SEARCH\",100,100,1,100])\n",
        "x.add_row([\"Optimal GAMMA using RANDOM SEARCH\",0.001,0.01,1,0.01])\n",
        "x.add_row([\"Train Accuracy\",99.16,96.03,84.39,90.35])\n",
        "x.add_row([\"Test Accuracy\", 92.08,91.75,84.15,83.00])\n",
        "x.add_row([\"-----------------------------\",\"--------------\",\"--------------\",\"--------------\",\"-------------\",])\n",
        "\n",
        "\n",
        "x.add_row([\"Optimal C using Grid search\",100,100, 0.0001,100])\n",
        "x.add_row([\"Optimal GAMMA using Grid search\",0.001,1,0.0001,0.01])\n",
        "x.add_row([\"Train Accuracy\",97.77,100,84.39,90.25])\n",
        "x.add_row([\"Test Accuracy\", 91.74,95.41, 84.15,84.30])\n"
      ],
      "execution_count": null,
      "outputs": []
    },
    {
      "cell_type": "code",
      "metadata": {
        "id": "zdvXSNzG-QBJ",
        "outputId": "f7e50149-ca05-4b61-ab12-772e548bc926",
        "colab": {
          "base_uri": "https://localhost:8080/",
          "height": 251
        }
      },
      "source": [
        "\n",
        "print(x)"
      ],
      "execution_count": null,
      "outputs": [
        {
          "output_type": "stream",
          "text": [
            "+-----------------------------------+----------------+----------------+----------------+---------------+\n",
            "|           Featurization           |      BOW       |     TFIDF      |    AVG_W2V     |   TFIDF_W2V   |\n",
            "+-----------------------------------+----------------+----------------+----------------+---------------+\n",
            "|   Optimal C using RANDOM SEARCH   |      100       |      100       |       1        |      100      |\n",
            "| Optimal GAMMA using RANDOM SEARCH |     0.001      |      0.01      |       1        |      0.01     |\n",
            "|           Train Accuracy          |     99.16      |     96.03      |     84.39      |     90.35     |\n",
            "|           Test Accuracy           |     92.08      |     91.75      |     84.15      |      83.0     |\n",
            "|   -----------------------------   | -------------- | -------------- | -------------- | ------------- |\n",
            "|    Optimal C using Grid search    |      100       |      100       |     0.0001     |      100      |\n",
            "|  Optimal GAMMA using Grid search  |     0.001      |       1        |     0.0001     |      0.01     |\n",
            "|           Train Accuracy          |     97.77      |      100       |     84.39      |     90.25     |\n",
            "|           Test Accuracy           |     91.74      |     95.41      |     84.15      |      84.3     |\n",
            "+-----------------------------------+----------------+----------------+----------------+---------------+\n"
          ],
          "name": "stdout"
        }
      ]
    },
    {
      "cell_type": "markdown",
      "metadata": {
        "id": "pjXhJxDTkpH-"
      },
      "source": [
        "BAG OF WORDS AND  FEATURIZATION GAVE OPTIMAL TRAIN AND TEST ACCURACY\n",
        "--"
      ]
    },
    {
      "cell_type": "markdown",
      "metadata": {
        "id": "CzdMMle5o-vJ"
      },
      "source": [
        "Lets implement SGD classifier with hinge loss which is equivalent to linearsvm\n",
        "========="
      ]
    },
    {
      "cell_type": "code",
      "metadata": {
        "id": "Rt367V1n-dkQ",
        "outputId": "1ad5061e-1f23-41b7-f92b-4b3afbad7971",
        "colab": {
          "base_uri": "https://localhost:8080/",
          "height": 458
        }
      },
      "source": [
        "\n",
        "clf = SGDClassifier(loss=\"hinge\", penalty=\"l2\",max_iter=100)#SGD classifier with hinge loss ehich is equivalent to linear svm\n",
        "clf.fit(tfidf_train,Y_train)\n",
        "predict=clf.predict(tfidf_train)#predicting train data using model\n",
        "\n",
        "pred = clf.predict(tfidf_test)#predicting test data using model\n",
        "f1score = f1_score(Y_test,pred,average='weighted')#obtaining various performance metrics\n",
        "precision = precision_score(Y_test,pred,average='weighted')\n",
        "recall = recall_score(Y_test,pred,average='weighted')\n",
        "confusion = confusion_matrix(Y_test,pred)\n",
        "accuracy = accuracy_score(Y_test,pred)\n",
        "acc=accuracy_score(Y_train,predict)\n",
        "#printing various performance metrics\n",
        "print('Accuracy on training set is:',acc*100)\n",
        "print('Accuracy on test set is:',accuracy*100)\n",
        "print('F1_score on test set is:',f1score*100)\n",
        "print('Precision on test set is:',precision*100)\n",
        "print('Recall on test set is:',recall*100)\n",
        "print('<=============confusion matrix============>')\n",
        "P= sns.heatmap(confusion, annot=True,cmap=\"Spectral\", fmt=\"d\",square=True)\n"
      ],
      "execution_count": null,
      "outputs": [
        {
          "output_type": "stream",
          "text": [
            "Accuracy on training set is: 92.78285714285714\n",
            "Accuracy on test set is: 91.26666666666667\n",
            "F1_score on test set is: 90.15225787217284\n",
            "Precision on test set is: 91.20604356335488\n",
            "Recall on test set is: 91.26666666666667\n",
            "<=============confusion matrix============>\n"
          ],
          "name": "stdout"
        },
        {
          "output_type": "display_data",
          "data": {
            "image/png": "[encoded data removed]",
            "text/plain": [
              "<matplotlib.figure.Figure at 0x7f6ba70dd710>"
            ]
          },
          "metadata": {
            "tags": []
          }
        }
      ]
    },
    {
      "cell_type": "code",
      "metadata": {
        "id": "OPeQwwbMoiUT",
        "outputId": "14d9e283-704f-4924-d56a-070053fd6378",
        "colab": {
          "base_uri": "https://localhost:8080/",
          "height": 233
        }
      },
      "source": [
        "names = tf_idf_vect.get_feature_names()\n",
        "feat = np.array(names)\n",
        "features = np.vstack((feat,np.absolute(clf.coef_)))\n",
        "features= pd.DataFrame(data=features.T,columns=('words','coefficients'))\n",
        "top_feat= features.sort_values('coefficients',axis=0,inplace=False,ascending=False,kind='quicksort')\n",
        "print('<=======> Top 10 important words <=======> ')\n",
        "print(top_feat[0:10])"
      ],
      "execution_count": null,
      "outputs": [
        {
          "output_type": "stream",
          "text": [
            "<=======> Top 10 important words <=======> \n",
            "             words           coefficients\n",
            "34741    unrelated  9.594581085087672e-05\n",
            "2433    anticipate  8.581682631102269e-05\n",
            "9746       daytime  8.581682631102269e-05\n",
            "34338  ultraviolet  8.581682631102269e-05\n",
            "27618    replanted  8.581682631102269e-05\n",
            "1850          ahnd  8.581682631102269e-05\n",
            "33272       threee  8.581682631102269e-05\n",
            "32651        tanks  8.581682631102269e-05\n",
            "34681   unoccupied  8.581682631102269e-05\n",
            "14141        frech  8.581682631102269e-05\n"
          ],
          "name": "stdout"
        }
      ]
    },
    {
      "cell_type": "markdown",
      "metadata": {
        "id": "610S8iDgrxew"
      },
      "source": [
        "RBF kernal svm works well than linear svm\n",
        "-----\n"
      ]
    },
    {
      "cell_type": "markdown",
      "metadata": {
        "id": "t69b2u36tIf3"
      },
      "source": [
        "CONCLUSION\n",
        "----------\n",
        "1. Using various featurization(BOW,TFIDF,AVGW2V,TFIDFW2V) to get text vectors.\n",
        "2. Obtaining optimal parameters using hyperparameter tuning using grid search and random\n",
        "search .\n",
        "5. Obtaining various performance metrics.\n",
        "2.  Obtaining train and test accuracy\n",
        "4. Decide which featurization when modeled gives optimal perforamance."
      ]
    }
  ]
}